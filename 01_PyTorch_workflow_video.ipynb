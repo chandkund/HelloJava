{
  "nbformat": 4,
  "nbformat_minor": 0,
  "metadata": {
    "colab": {
      "provenance": [],
      "gpuType": "T4",
      "authorship_tag": "ABX9TyM21WEN0Kbs0YeTSacHQ419",
      "include_colab_link": true
    },
    "kernelspec": {
      "name": "python3",
      "display_name": "Python 3"
    },
    "language_info": {
      "name": "python"
    },
    "accelerator": "GPU"
  },
  "cells": [
    {
      "cell_type": "markdown",
      "metadata": {
        "id": "view-in-github",
        "colab_type": "text"
      },
      "source": [
        "<a href=\"https://colab.research.google.com/github/chandkund/HelloJava/blob/main/01_PyTorch_workflow_video.ipynb\" target=\"_parent\"><img src=\"https://colab.research.google.com/assets/colab-badge.svg\" alt=\"Open In Colab\"/></a>"
      ]
    },
    {
      "cell_type": "markdown",
      "source": [
        "# PyTorch workflow\n",
        "\n",
        "Let's explore a an example PyTorch end to end Workflow\n",
        "\n",
        "Resources:\n",
        "* Ground truth notebook - https://github.com/mrdbourke/pytorch-deep-learning/blob/main/01_pytorch_workflow.ipynb\n",
        "* Book version of notebook-  https://www.learnpytorch.io/01_pytorch_workflow/\n",
        "* Ask a question - https://github.com/mrdbourke/pytorch-deep-learning/discussions/categories/q-a"
      ],
      "metadata": {
        "id": "AE-_TV4NoHXr"
      }
    },
    {
      "cell_type": "code",
      "source": [
        " what_were_covering = {1:\" data (prepare and load)\",\n",
        "                       2:\"build model\",\n",
        "                       3:\"fitting the model to data(training)\",\n",
        "                       4:\"making predictions and evaluting a model(inference)\",\n",
        "                       5:\"saving and loading a model\",\n",
        "                       6:\"putting it all together\"}\n",
        "what_were_covering"
      ],
      "metadata": {
        "colab": {
          "base_uri": "https://localhost:8080/"
        },
        "id": "0lH0qYSArpdW",
        "outputId": "c1575dfb-87ab-4767-8fad-ac3c0ee7fb91"
      },
      "execution_count": 68,
      "outputs": [
        {
          "output_type": "execute_result",
          "data": {
            "text/plain": [
              "{1: ' data (prepare and load)',\n",
              " 2: 'build model',\n",
              " 3: 'fitting the model to data(training)',\n",
              " 4: 'making predictions and evaluting a model(inference)',\n",
              " 5: 'saving and loading a model',\n",
              " 6: 'putting it all together'}"
            ]
          },
          "metadata": {},
          "execution_count": 68
        }
      ]
    },
    {
      "cell_type": "code",
      "source": [
        "import torch\n",
        "from torch import nn # nn contains all of PyTorch's building blocks for neural networks\n",
        "import matplotlib.pyplot as plt\n",
        "# import numpy as np\n",
        "\n",
        "# Check PyTorch Version\n",
        "torch.__version__\n",
        "\n",
        "\n",
        "\n"
      ],
      "metadata": {
        "colab": {
          "base_uri": "https://localhost:8080/",
          "height": 35
        },
        "id": "IPgXUtMhr0w0",
        "outputId": "977d851f-f553-43f1-b355-738ac3881090"
      },
      "execution_count": 69,
      "outputs": [
        {
          "output_type": "execute_result",
          "data": {
            "text/plain": [
              "'2.1.0+cu121'"
            ],
            "application/vnd.google.colaboratory.intrinsic+json": {
              "type": "string"
            }
          },
          "metadata": {},
          "execution_count": 69
        }
      ]
    },
    {
      "cell_type": "markdown",
      "source": [
        "##1. Data preparing and loading\n",
        "Data can be almost anything.... in machine learnig\n",
        "\n",
        "* Excel speadsheet\n",
        "* Images of any kind\n",
        "* Videos (youTube has lots of data)\n",
        "* Audio like songs or podcasts\n",
        "* DNA\n",
        "* Text\n",
        "\n",
        "Machine Learning is a game of two parts:\n",
        "1. Get data into a numerical representation\n",
        "2. Build a model to learn patterns in that numerical representation.\n",
        "\n",
        "To showcase this, Let's create same *Knows* data using the linear regression formula.\n",
        "\n",
        "We'll use a linear regression formula to make a straight line withn *known* **parameter**\n",
        "\n",
        "\n",
        "1. Formula\n",
        "\n",
        "* Y_i=f(X_i, \\beta)+e_i\n",
        "\n",
        "* Y_i\t=\tdependent variable\n",
        "\n",
        "* f\t=\tfunction\n",
        "\n",
        "* X_i\t=\tindependent variable\n",
        "\n",
        "* \\beta\t=\tunknown parameters\n",
        "\n",
        "* e_i\t=\terror terms\n",
        "\n",
        "\n",
        "A linear regression line has an equation of the form *Y= a+bX*, where *X* is the Explanatory variable and *Y* is the dependent variablel.The Slope of the line is *b* and *a* is the iintercept(the value of *y* when *x= 0*)"
      ],
      "metadata": {
        "id": "UFZQ5cWeug9R"
      }
    },
    {
      "cell_type": "code",
      "source": [
        "# create *known* parameters\n",
        "\n",
        "weight = 0.7  # b\n",
        "bias = 0.3   # a\n",
        "# formula of linear regression\n",
        "# Y = a+bX\n",
        "\n",
        "# Create\n",
        "start = 0\n",
        "end = 1\n",
        "step= 0.02\n",
        "X = torch.arange(start, end , step).unsqueeze(dim=1) # input\n",
        "y= weight*X+bias #\n",
        "print(X[:10])\n",
        "print(\"\\n\")\n",
        "print(y[:10])\n",
        "print(f\"Lenght of X:{len(X)}\")\n",
        "\n",
        "print(f\"Lenght of y:{len(y)}\")"
      ],
      "metadata": {
        "colab": {
          "base_uri": "https://localhost:8080/"
        },
        "id": "YDoRZDcXwGuK",
        "outputId": "9c774a97-ccfc-4ce5-9a26-37d1130237cd"
      },
      "execution_count": 70,
      "outputs": [
        {
          "output_type": "stream",
          "name": "stdout",
          "text": [
            "tensor([[0.0000],\n",
            "        [0.0200],\n",
            "        [0.0400],\n",
            "        [0.0600],\n",
            "        [0.0800],\n",
            "        [0.1000],\n",
            "        [0.1200],\n",
            "        [0.1400],\n",
            "        [0.1600],\n",
            "        [0.1800]])\n",
            "\n",
            "\n",
            "tensor([[0.3000],\n",
            "        [0.3140],\n",
            "        [0.3280],\n",
            "        [0.3420],\n",
            "        [0.3560],\n",
            "        [0.3700],\n",
            "        [0.3840],\n",
            "        [0.3980],\n",
            "        [0.4120],\n",
            "        [0.4260]])\n",
            "Lenght of X:50\n",
            "Lenght of y:50\n"
          ]
        }
      ]
    },
    {
      "cell_type": "markdown",
      "source": [
        "2. Splitting our data into training and test sets (Possibly the most important concept in machine learning )\n",
        "\n",
        "\n",
        "Let's Create a training and  test set with our data."
      ],
      "metadata": {
        "id": "w-By3Mv73JnL"
      }
    },
    {
      "cell_type": "code",
      "source": [
        "# create a train /test  split\n",
        "train_split = int(0.8 * len(X))\n",
        "print(train_split)\n",
        "X_train,y_train= X[:train_split],y[:train_split]\n",
        "X_test,y_test=X[train_split:],y[train_split:]\n",
        "len(X_train) , len(y_train), len(X_test), len(y_test)\n"
      ],
      "metadata": {
        "colab": {
          "base_uri": "https://localhost:8080/"
        },
        "id": "cbTU3SmK4wEy",
        "outputId": "f0c4b947-ff54-4a07-e6be-766eb2748c92"
      },
      "execution_count": 71,
      "outputs": [
        {
          "output_type": "stream",
          "name": "stdout",
          "text": [
            "40\n"
          ]
        },
        {
          "output_type": "execute_result",
          "data": {
            "text/plain": [
              "(40, 40, 10, 10)"
            ]
          },
          "metadata": {},
          "execution_count": 71
        }
      ]
    },
    {
      "cell_type": "markdown",
      "source": [
        "How might we better visualize our data?\n",
        "\n",
        "This is where the data explorer's motto comes in!\n",
        "\n",
        "\"Visualize\", \"Visualize\",\"Visualize\"\n"
      ],
      "metadata": {
        "id": "wvViWbTMKQtg"
      }
    },
    {
      "cell_type": "code",
      "source": [
        "def plot_predictions(train_data= X_train,\n",
        "                     train_labels= y_train,\n",
        "                     test_data= X_test,\n",
        "                     test_labels=y_test,\n",
        "                     predictions=None):\n",
        "\n",
        "# Plots training data ,test data and compares prediction.\n",
        "\n",
        " plt.figure(figsize=(10,7))\n",
        "\n",
        "# plot training data in blue\n",
        "\n",
        " plt.scatter(train_data,train_labels,c=\"b\",s=4, label= \"Training data\")\n",
        "\n",
        "# plot test data in green\n",
        " plt.scatter(test_data,test_labels,c=\"g\" ,s=4, label=\"Testing data\")\n",
        "\n",
        " # are there predictions?\n",
        " if predictions is not None:\n",
        "  # plot the predictions if they exist\n",
        "  plt.scatter(test_data,predictions, c=\"r\", s=4,label=\"predictions\")\n",
        "  plt.title(\"Ploting Training and test Data\")\n",
        "\n",
        "  # show the legend\n",
        "  plt.legend(prop={\"size\":14});\n",
        "\n",
        "\n",
        "'''\n",
        "predictions: This variable contains the predicted values corresponding to the test data.\n",
        "When you have a model that predicts outcomes based on the test data, predictions holds\n",
        "those predicted values.\n",
        "\n",
        "'''\n"
      ],
      "metadata": {
        "id": "nV5lcDgFLQA-",
        "colab": {
          "base_uri": "https://localhost:8080/",
          "height": 70
        },
        "outputId": "a33daa0a-04be-470c-cc6b-a3977deeeb4e"
      },
      "execution_count": 72,
      "outputs": [
        {
          "output_type": "execute_result",
          "data": {
            "text/plain": [
              "'\\npredictions: This variable contains the predicted values corresponding to the test data.\\nWhen you have a model that predicts outcomes based on the test data, predictions holds\\nthose predicted values.\\n\\n'"
            ],
            "application/vnd.google.colaboratory.intrinsic+json": {
              "type": "string"
            }
          },
          "metadata": {},
          "execution_count": 72
        }
      ]
    },
    {
      "cell_type": "code",
      "source": [
        "plot_predictions();"
      ],
      "metadata": {
        "colab": {
          "base_uri": "https://localhost:8080/",
          "height": 530
        },
        "id": "2AqfZrCWUUki",
        "outputId": "b2c9287a-56de-4eff-8d07-f184f999cda9"
      },
      "execution_count": 73,
      "outputs": [
        {
          "output_type": "display_data",
          "data": {
            "text/plain": [
              "<Figure size 1000x700 with 1 Axes>"
            ],
            "image/png": "[encoded data removed]"
          },
          "metadata": {}
        }
      ]
    },
    {
      "cell_type": "markdown",
      "source": [
        "## 2. Build model\n",
        "Our first PyTorch model!\n",
        "\n",
        "This is very exciting.... let's do it!\n",
        "\n",
        "Because we're going to be building classeds throughout the course\n",
        "\n",
        "OOP\n",
        "following resource from Real python: https://realpython.com/python-classes/\n",
        "\n",
        "\n",
        "What our model does\n",
        "* start with random values (weight & bias )\n",
        "* look at training data and adjust the random values to better rreptresent (oor get closer to ) the ideal values (the weight & bias values we used to create the data )\n",
        "\n",
        "\n",
        "How does it do so?\n",
        "\n",
        "Throught two main algorithms:\n",
        "1. Gradient descent  https://youtu.be/IHZwWFHWa-w\n",
        "2. Backpropagation https://youtu.be//llg3gGewO5U"
      ],
      "metadata": {
        "id": "W2FTynM8WkNP"
      }
    },
    {
      "cell_type": "code",
      "source": [
        "'''\n",
        "nn.Parameter is a class in the PyTorch library (from the torch.nn module)\n",
        "that is used to automatically register parameters (tensors) as attributes of a nn.Module.\n",
        "\n",
        "'''\n",
        "from torch import nn\n",
        "# Create Linear regression model class\n",
        "class LinearRegressionModel(nn.Module): # <-almost everything in PyTorch inherhits from nn.module\n",
        "  def __init__(self):\n",
        "    super().__init__()\n",
        "    self.weights=nn.Parameter(torch.randn(1,    # <- start with a random weight and try to adjust it to the ideal weight\n",
        "                                         requires_grad= True, # <- can this parameter be updated via gradient descent ?\n",
        "                                         dtype =torch.float)) #<- PyTorch loves the datatype torch.float32\n",
        "\n",
        "    self.bias= nn.Parameter(torch.randn(1,   # <- start with a random weight and try to adjust it to the ideal weight\n",
        "                                        requires_grad=True,  # <- can this parameter be updated via gradient descent ?\n",
        "                                        dtype= torch.float)) #<- PyTorch loves the datatype torch.float32\n",
        "  # Forward method to define the computation in the model\n",
        "  def forward(self,x: torch.Tensor) -> torch.Tensor: # \"x\" is the input data\n",
        "    return self.weights * x +self.bias # this is linear regression formula\n",
        "\n",
        "\n"
      ],
      "metadata": {
        "id": "XfNbuKVuYmAY"
      },
      "execution_count": 74,
      "outputs": []
    },
    {
      "cell_type": "markdown",
      "source": [
        "### PyTorch model builing essentials\n",
        "* torch.nn - contains all of the buildings for computational graphs (a neural network can be considered a computational graphs)\n",
        "\n",
        "* torch.nn.parameter - what parameters should our model try and learn , often a PyTorch layer from torch.nn will set these for us\n",
        "\n",
        "*  torch.nn.Module- The base class for all neural network modules,if you subclass it, you should overwrite forward()\n",
        "\n",
        "*  torch.optim - this where the optimizers ini pyTorch live ,they will help with gradient descent\n",
        "\n",
        "*  def forword() - all nn.Module subclasses require you to overwrite forward(), this method defines what happens in the forward computation\n",
        "\n",
        "\n",
        "*  torch.utils.data.Dataset - Represents a map between key (label ) and sample  (features) pair of your data.\n",
        "  Such as images and their associated labels.\n",
        "\n",
        "*  torch.utils.data.DataLoader - Creates a Python iterable over a torch Dataset (allow you to iterate over your data )\n",
        "\n",
        "resources :https://pytorch.org/tutorials/beginner/ptcheat.html"
      ],
      "metadata": {
        "id": "GggzSAZNWpxx"
      }
    },
    {
      "cell_type": "markdown",
      "source": [
        "### Checking the contents of our PyTorch model\n",
        "\n",
        "Now we've created a model, let's see what's inside...\n",
        "\n",
        "So we can ckeck our model parameters or what's inside oer model using `.parameters()`."
      ],
      "metadata": {
        "id": "HhYfQfgkb7b8"
      }
    },
    {
      "cell_type": "code",
      "source": [
        "torch.manual_seed(1234)\n",
        "torch.randn(1)"
      ],
      "metadata": {
        "colab": {
          "base_uri": "https://localhost:8080/"
        },
        "id": "-4FBoJSYal78",
        "outputId": "5cdc6d82-e4dc-42c7-9801-c6e5c1108681"
      },
      "execution_count": 75,
      "outputs": [
        {
          "output_type": "execute_result",
          "data": {
            "text/plain": [
              "tensor([0.0461])"
            ]
          },
          "metadata": {},
          "execution_count": 75
        }
      ]
    },
    {
      "cell_type": "code",
      "source": [
        "# Create a random seed\n",
        "\n",
        "torch.manual_seed(42)\n",
        "\n",
        "# create an instance of the model (this is a subclass of nn.model)\n",
        "model_0 = LinearRegressionModel()\n",
        "\n",
        "#Check out the parameters\n",
        "\n",
        "list(model_0.parameters())\n"
      ],
      "metadata": {
        "colab": {
          "base_uri": "https://localhost:8080/"
        },
        "id": "Gnilz0YBKvDI",
        "outputId": "c3fdca8e-0fa9-4256-ce83-e1859c362389"
      },
      "execution_count": 76,
      "outputs": [
        {
          "output_type": "execute_result",
          "data": {
            "text/plain": [
              "[Parameter containing:\n",
              " tensor([0.3367], requires_grad=True),\n",
              " Parameter containing:\n",
              " tensor([0.1288], requires_grad=True)]"
            ]
          },
          "metadata": {},
          "execution_count": 76
        }
      ]
    },
    {
      "cell_type": "code",
      "source": [
        "# List named parameters\n",
        "model_0.state_dict()"
      ],
      "metadata": {
        "colab": {
          "base_uri": "https://localhost:8080/"
        },
        "id": "BbuC0sDvKuwb",
        "outputId": "e08fa80d-c5c5-47a5-deba-fa99e15805a9"
      },
      "execution_count": 77,
      "outputs": [
        {
          "output_type": "execute_result",
          "data": {
            "text/plain": [
              "OrderedDict([('weights', tensor([0.3367])), ('bias', tensor([0.1288]))])"
            ]
          },
          "metadata": {},
          "execution_count": 77
        }
      ]
    },
    {
      "cell_type": "code",
      "source": [
        "weight,bias"
      ],
      "metadata": {
        "colab": {
          "base_uri": "https://localhost:8080/"
        },
        "id": "8Mssd5K1dOma",
        "outputId": "8e6abdb4-6812-4f0f-83d2-2dd70e8bf008"
      },
      "execution_count": 78,
      "outputs": [
        {
          "output_type": "execute_result",
          "data": {
            "text/plain": [
              "(0.7, 0.3)"
            ]
          },
          "metadata": {},
          "execution_count": 78
        }
      ]
    },
    {
      "cell_type": "markdown",
      "source": [
        "### Making Prediction using `torch.inference_model()`\n",
        "\n",
        "To check our model's predictive power , let's see how well it predicts `y_test` based on `x_test`.\n",
        "\n",
        "When we pass data through our model, it's going to run it through the forword() method.\n",
        "\n"
      ],
      "metadata": {
        "id": "MpCM89HbdOdR"
      }
    },
    {
      "cell_type": "code",
      "source": [
        "# Make Predictions with model\n",
        "\n",
        "\n",
        "with torch.inference_mode():   # Stops PyTorch from tracking tensor views, reducing overhead and potentially improving performance.\n",
        "                               # Uses with statement for scoped activation and automatic deactivation upon exiting the block.\n",
        "\n",
        "  y_preds= model_0(X_test)     # # Perform inference without gradient calculation\n",
        "\n",
        "\n",
        "y_preds\n"
      ],
      "metadata": {
        "colab": {
          "base_uri": "https://localhost:8080/"
        },
        "id": "Lyz4oe_lf0fE",
        "outputId": "d60ec78c-a232-474b-d9aa-efe48f475fb0"
      },
      "execution_count": 79,
      "outputs": [
        {
          "output_type": "execute_result",
          "data": {
            "text/plain": [
              "tensor([[0.3982],\n",
              "        [0.4049],\n",
              "        [0.4116],\n",
              "        [0.4184],\n",
              "        [0.4251],\n",
              "        [0.4318],\n",
              "        [0.4386],\n",
              "        [0.4453],\n",
              "        [0.4520],\n",
              "        [0.4588]])"
            ]
          },
          "metadata": {},
          "execution_count": 79
        }
      ]
    },
    {
      "cell_type": "code",
      "source": [
        "y_test,"
      ],
      "metadata": {
        "colab": {
          "base_uri": "https://localhost:8080/"
        },
        "id": "xaYUbiGFk3P_",
        "outputId": "3a1f3c65-e6bb-4aad-91db-86263f290df7"
      },
      "execution_count": 80,
      "outputs": [
        {
          "output_type": "execute_result",
          "data": {
            "text/plain": [
              "(tensor([[0.8600],\n",
              "         [0.8740],\n",
              "         [0.8880],\n",
              "         [0.9020],\n",
              "         [0.9160],\n",
              "         [0.9300],\n",
              "         [0.9440],\n",
              "         [0.9580],\n",
              "         [0.9720],\n",
              "         [0.9860]]),)"
            ]
          },
          "metadata": {},
          "execution_count": 80
        }
      ]
    },
    {
      "cell_type": "code",
      "source": [
        "plot_predictions(predictions= y_preds)"
      ],
      "metadata": {
        "id": "xC5WpmKzlOs3",
        "colab": {
          "base_uri": "https://localhost:8080/",
          "height": 550
        },
        "outputId": "bad5a426-e971-4e3f-fd8f-d2f67a8e9bcc"
      },
      "execution_count": 81,
      "outputs": [
        {
          "output_type": "display_data",
          "data": {
            "text/plain": [
              "<Figure size 1000x700 with 1 Axes>"
            ],
            "image/png": "[encoded data removed]"
          },
          "metadata": {}
        }
      ]
    },
    {
      "cell_type": "markdown",
      "source": [
        "### 3.Train Model\n",
        "\n",
        "The Whole idea of training is for a model to move from some \"unknown\" parameters (these may be random) to some *known* parameters\n",
        "\n",
        "or in other words from a poor representation of the data to a better representation of the data\n",
        "\n",
        "\n",
        "one way to measure how poor or how wrong your models predictions are is to use a loss function\n",
        "\n",
        "* Note: Loss function may also be called cost function and criterioon in different area.For our case ,we're going to refer to it as a loss function.\n",
        "\n",
        "*  **Loss function:** A function to measure how wrong  your model's predictions are to the ideal outputs, lower is better. -- https://pytorch.org/docs/stable/nn.html\n",
        "\n",
        "*  **Optimizer:** Takes into account the loss of a model and adjust the model's parameters(e.g. weight & bias in our case ) to imporve the loss function -- https://pytorch.org/docs/stable/optim.html\n",
        "\n",
        "inside the optimizer you'll often have to set two parameters:\n",
        "*   params- the model parameters you'd like to optimizer, for example params= model_0.parameters()\n",
        "\n",
        "*   lr(learning rate) the learnig rate is a hyperparameter that define how big /small the optimizer change with each step (a small `lr` results in **small change**, a large `lr` result in **large changes**)\n",
        "\n",
        "And specifically for PyTorch, we need\n",
        "*  A training Loop\n",
        "*  A testinig Loop\n",
        "\n",
        "\n"
      ],
      "metadata": {
        "id": "IdezWqtRPnF4"
      }
    },
    {
      "cell_type": "code",
      "source": [
        "list(model_0.parameters())"
      ],
      "metadata": {
        "colab": {
          "base_uri": "https://localhost:8080/"
        },
        "id": "k51z4UY9UlhL",
        "outputId": "8fbebbc7-7c2e-4bfa-cd3a-a5cd6ac67db7"
      },
      "execution_count": 82,
      "outputs": [
        {
          "output_type": "execute_result",
          "data": {
            "text/plain": [
              "[Parameter containing:\n",
              " tensor([0.3367], requires_grad=True),\n",
              " Parameter containing:\n",
              " tensor([0.1288], requires_grad=True)]"
            ]
          },
          "metadata": {},
          "execution_count": 82
        }
      ]
    },
    {
      "cell_type": "code",
      "source": [
        "'''\n",
        "\n",
        "The state_dict() method is particularly useful for saving and loading models'\n",
        "parameters or states, which includes weights, biases, and other learnable\n",
        "parameters, during training or after training for later use or inference.\n",
        "It captures the current state of the model's trainable parameters.\n",
        "\n",
        "'''\n",
        "# Check out our model's parameter (a parameter is a value that the model sets itself)\n",
        "model_0.state_dict()"
      ],
      "metadata": {
        "colab": {
          "base_uri": "https://localhost:8080/"
        },
        "id": "aEj7YN6GUw_9",
        "outputId": "7379c1d6-4903-4bb9-ec2f-a33f0d2b8831"
      },
      "execution_count": 83,
      "outputs": [
        {
          "output_type": "execute_result",
          "data": {
            "text/plain": [
              "OrderedDict([('weights', tensor([0.3367])), ('bias', tensor([0.1288]))])"
            ]
          },
          "metadata": {},
          "execution_count": 83
        }
      ]
    },
    {
      "cell_type": "code",
      "source": [
        "torch.optim\n"
      ],
      "metadata": {
        "colab": {
          "base_uri": "https://localhost:8080/"
        },
        "id": "SR1narVihlgW",
        "outputId": "bfa0ee4e-c521-447e-dc41-85f10aef85de"
      },
      "execution_count": 84,
      "outputs": [
        {
          "output_type": "execute_result",
          "data": {
            "text/plain": [
              "<module 'torch.optim' from '/usr/local/lib/python3.10/dist-packages/torch/optim/__init__.py'>"
            ]
          },
          "metadata": {},
          "execution_count": 84
        }
      ]
    },
    {
      "cell_type": "code",
      "source": [
        "# Setup a loss Function\n",
        "torch.optim\n",
        "\n",
        "loss_fn= nn.L1Loss()\n",
        "\n",
        "# Setup an Optimizer\n",
        "\n",
        "optimizer= torch.optim.SGD(params= model_0.parameters(),\n",
        "                           lr=0.01) # lr = learning rate = possibly the most important hyperparameter you can set\n",
        "\n",
        "\n"
      ],
      "metadata": {
        "id": "N2kle3yKZbHg"
      },
      "execution_count": 85,
      "outputs": []
    },
    {
      "cell_type": "markdown",
      "source": [
        "**Q** Which loss function and optimizer should I use ?\n",
        "\n",
        "**A**  This will be problem specific .But with experience , you'll get an idea of what works and what doesnot with your paticular problem set.\n",
        "\n",
        "For example, for a regression problem(like ours), a loss functions of `nn.L1Loss()` and an optimizer like torch.optim.SGD() will suffice.\n",
        "\n",
        "But for a classification problem like classifying whether a photo is of a dog or a cat , you'll likely want to use a loss function of nn.BCELoss() (binary cross entropy loss)\n",
        "\n",
        "\n",
        "\n"
      ],
      "metadata": {
        "id": "dMxpVrwUZar0"
      }
    },
    {
      "cell_type": "markdown",
      "source": [
        "### Building a training Loop (and a testing loop )in pytorch\n",
        "\n",
        "A couple of things we need in a training Loop:\n",
        "\n",
        "0. Loop through the data\n",
        "1. Forword Pass (this involves data moving through our model's `forward()` functions) to make predictions on data - also call forward propagation\n",
        "2. Calculate the loss(Compare forward pass predictions to ground thrut labels)\n",
        "3. Optimizer\n",
        "4. Loss Backward - move backwards through the network to calculate the gradients of each of the parameters of our model with respect to the Loss(**backpropagation:-** https://www.youtube.com/watch?v=tleHLnjs5U8)  \n",
        "5. Optimizer step - us ethe optimizer to adjust our model's paramters to try and improve the loss (**gradient descent:-** https://youtu.be/IHZwWFHWa-w)           \n",
        "                 "
      ],
      "metadata": {
        "id": "TD8c8UrR2QLa"
      }
    },
    {
      "cell_type": "code",
      "source": [],
      "metadata": {
        "id": "tQl68Orb-fH7"
      },
      "execution_count": 85,
      "outputs": []
    },
    {
      "cell_type": "code",
      "source": [
        "torch.manual_seed(42)\n",
        "# An Epoch is one loop throught the data..(thsi is a hyperparameter because we've set it ourselves  ).\n",
        "# Track different values\n",
        "\n",
        "epoch_count= []\n",
        "loss_values=[]\n",
        "test_loss_values=[]\n",
        "\n",
        "epochs=200\n",
        "### training\n",
        "# 0. Loop through the data\n",
        "\n",
        "for epoch in range(epochs):\n",
        "  # set the mmodel to training mode\n",
        "  model_0.train() # train mode in PyTorch sets all parameters that require gradients\n",
        "  # 1. Forward Pass\n",
        "  y_preds= model_0(X_train)\n",
        "\n",
        "  # 2. Calculate the loss\n",
        "  loss = loss_fn(y_preds,y_train)\n",
        "  print(f\"Loss:{loss} \")\n",
        "\n",
        "  # 3.Optimizer zero grad\n",
        "  optimizer.zero_grad()\n",
        "\n",
        "  # 4 perform Backpropagation on the loss with repect to the parameters of the model\n",
        "  loss.backward()\n",
        "\n",
        "  # 5 step the optimizer (perform gradient descent)\n",
        "  optimizer.step() # By default how the optimizer changes will acculumate through the loop so... we have to zero them above in steps\n",
        "\n",
        "  ### Testing\n",
        "\n",
        "  model_0.eval() # turns off different settings in the model not needed for evaluation/testing (dropout/batch norm layers)\n",
        "\n",
        "  with torch.inference_mode(): # turns off gradient tracking & a couple more things behind the scense\n",
        "  # with torch.no_grad(): # you may also torch.no_grad() in order PyTorch.\n",
        "  # print out model.state_dict()\n",
        "\n",
        "  # 1. Do the forward pass\n",
        "     test_pred= model_0(X_test)\n",
        "\n",
        "  # 2. Calculate the Loss\n",
        "     test_loss= loss_fn(test_pred,y_test)\n",
        "\n",
        "  # print out what's happen in\n",
        "  if epoch % 10 == 0:\n",
        "    epoch_count.append(epoch)\n",
        "    loss_values.append(loss)\n",
        "    test_loss_values.append(test_loss)\n",
        "    print(f\"Epoch:{epoch} | Loss :{loss} | Test Loss : {test_loss}\")\n",
        "\n",
        "  # print out model.state_dict()\n",
        "    print(model_0.state_dict())\n",
        "\n"
      ],
      "metadata": {
        "colab": {
          "base_uri": "https://localhost:8080/"
        },
        "id": "TpCv2g8X9VhW",
        "outputId": "f4a22f2a-2726-4b8c-fbd3-85c9ba56ff66"
      },
      "execution_count": 86,
      "outputs": [
        {
          "output_type": "stream",
          "name": "stdout",
          "text": [
            "Loss:0.31288138031959534 \n",
            "Epoch:0 | Loss :0.31288138031959534 | Test Loss : 0.48106518387794495\n",
            "OrderedDict([('weights', tensor([0.3406])), ('bias', tensor([0.1388]))])\n",
            "Loss:0.3013603389263153 \n",
            "Loss:0.28983935713768005 \n",
            "Loss:0.2783183455467224 \n",
            "Loss:0.26679736375808716 \n",
            "Loss:0.2552763521671295 \n",
            "Loss:0.24375534057617188 \n",
            "Loss:0.23223432898521423 \n",
            "Loss:0.22071333229541779 \n",
            "Loss:0.20919232070446014 \n",
            "Loss:0.1976713240146637 \n",
            "Epoch:10 | Loss :0.1976713240146637 | Test Loss : 0.3463551998138428\n",
            "OrderedDict([('weights', tensor([0.3796])), ('bias', tensor([0.2388]))])\n",
            "Loss:0.18615034222602844 \n",
            "Loss:0.1746293306350708 \n",
            "Loss:0.16310831904411316 \n",
            "Loss:0.1515873372554779 \n",
            "Loss:0.14006635546684265 \n",
            "Loss:0.1285453587770462 \n",
            "Loss:0.11702437698841095 \n",
            "Loss:0.1060912236571312 \n",
            "Loss:0.09681284427642822 \n",
            "Loss:0.08908725529909134 \n",
            "Epoch:20 | Loss :0.08908725529909134 | Test Loss : 0.21729660034179688\n",
            "OrderedDict([('weights', tensor([0.4184])), ('bias', tensor([0.3333]))])\n",
            "Loss:0.08227583020925522 \n",
            "Loss:0.07638873159885406 \n",
            "Loss:0.07160007208585739 \n",
            "Loss:0.06747635453939438 \n",
            "Loss:0.06395438313484192 \n",
            "Loss:0.06097004935145378 \n",
            "Loss:0.05845819041132927 \n",
            "Loss:0.05635259300470352 \n",
            "Loss:0.0545857772231102 \n",
            "Loss:0.053148526698350906 \n",
            "Epoch:30 | Loss :0.053148526698350906 | Test Loss : 0.14464017748832703\n",
            "OrderedDict([('weights', tensor([0.4512])), ('bias', tensor([0.3768]))])\n",
            "Loss:0.05181945487856865 \n",
            "Loss:0.05069301277399063 \n",
            "Loss:0.0498228520154953 \n",
            "Loss:0.04895269125699997 \n",
            "Loss:0.04819351062178612 \n",
            "Loss:0.047531817108392715 \n",
            "Loss:0.04692792519927025 \n",
            "Loss:0.04642331600189209 \n",
            "Loss:0.04591871052980423 \n",
            "Loss:0.04543796554207802 \n",
            "Epoch:40 | Loss :0.04543796554207802 | Test Loss : 0.11360953003168106\n",
            "OrderedDict([('weights', tensor([0.4748])), ('bias', tensor([0.3868]))])\n",
            "Loss:0.04503796249628067 \n",
            "Loss:0.04463795945048332 \n",
            "Loss:0.04423796385526657 \n",
            "Loss:0.04383796453475952 \n",
            "Loss:0.04343796148896217 \n",
            "Loss:0.043074630200862885 \n",
            "Loss:0.04272563382983208 \n",
            "Loss:0.04237663000822067 \n",
            "Loss:0.04202762991189957 \n",
            "Loss:0.04167863354086876 \n",
            "Epoch:50 | Loss :0.04167863354086876 | Test Loss : 0.09919948130846024\n",
            "OrderedDict([('weights', tensor([0.4938])), ('bias', tensor([0.3843]))])\n",
            "Loss:0.04132963344454765 \n",
            "Loss:0.04098063334822655 \n",
            "Loss:0.04063162952661514 \n",
            "Loss:0.040282636880874634 \n",
            "Loss:0.039933640509843826 \n",
            "Loss:0.03958464413881302 \n",
            "Loss:0.03923564404249191 \n",
            "Loss:0.03888664394617081 \n",
            "Loss:0.0385376438498497 \n",
            "Loss:0.03818932920694351 \n",
            "Epoch:60 | Loss :0.03818932920694351 | Test Loss : 0.08886633068323135\n",
            "OrderedDict([('weights', tensor([0.5116])), ('bias', tensor([0.3788]))])\n",
            "Loss:0.03785243630409241 \n",
            "Loss:0.0375034399330616 \n",
            "Loss:0.037164121866226196 \n",
            "Loss:0.03681822493672371 \n",
            "Loss:0.03647511452436447 \n",
            "Loss:0.03613303601741791 \n",
            "Loss:0.03578609973192215 \n",
            "Loss:0.03544783592224121 \n",
            "Loss:0.035098835825920105 \n",
            "Loss:0.03476089984178543 \n",
            "Epoch:70 | Loss :0.03476089984178543 | Test Loss : 0.0805937647819519\n",
            "OrderedDict([('weights', tensor([0.5288])), ('bias', tensor([0.3718]))])\n",
            "Loss:0.03441363573074341 \n",
            "Loss:0.03407188132405281 \n",
            "Loss:0.03372843936085701 \n",
            "Loss:0.03338287025690079 \n",
            "Loss:0.033043231815099716 \n",
            "Loss:0.03269423171877861 \n",
            "Loss:0.032357655465602875 \n",
            "Loss:0.03200903534889221 \n",
            "Loss:0.03166864812374115 \n",
            "Loss:0.03132382780313492 \n",
            "Epoch:80 | Loss :0.03132382780313492 | Test Loss : 0.07232122868299484\n",
            "OrderedDict([('weights', tensor([0.5459])), ('bias', tensor([0.3648]))])\n",
            "Loss:0.030979642644524574 \n",
            "Loss:0.030638623982667923 \n",
            "Loss:0.0302906334400177 \n",
            "Loss:0.029953425750136375 \n",
            "Loss:0.02960442565381527 \n",
            "Loss:0.029265418648719788 \n",
            "Loss:0.028919223695993423 \n",
            "Loss:0.028576409444212914 \n",
            "Loss:0.028234025463461876 \n",
            "Loss:0.02788739837706089 \n",
            "Epoch:90 | Loss :0.02788739837706089 | Test Loss : 0.06473556160926819\n",
            "OrderedDict([('weights', tensor([0.5629])), ('bias', tensor([0.3573]))])\n",
            "Loss:0.02754882536828518 \n",
            "Loss:0.027199819684028625 \n",
            "Loss:0.026862185448408127 \n",
            "Loss:0.02651461586356163 \n",
            "Loss:0.026173178106546402 \n",
            "Loss:0.025829419493675232 \n",
            "Loss:0.02548416517674923 \n",
            "Loss:0.025144213810563087 \n",
            "Loss:0.02479521557688713 \n",
            "Loss:0.024458957836031914 \n",
            "Epoch:100 | Loss :0.024458957836031914 | Test Loss : 0.05646304413676262\n",
            "OrderedDict([('weights', tensor([0.5800])), ('bias', tensor([0.3503]))])\n",
            "Loss:0.024110013619065285 \n",
            "Loss:0.02376994863152504 \n",
            "Loss:0.02342480979859829 \n",
            "Loss:0.023080935701727867 \n",
            "Loss:0.022739607840776443 \n",
            "Loss:0.022391926497220993 \n",
            "Loss:0.022054409608244896 \n",
            "Loss:0.02170540764927864 \n",
            "Loss:0.021366719156503677 \n",
            "Loss:0.021020207554101944 \n",
            "Epoch:110 | Loss :0.021020207554101944 | Test Loss : 0.04819049686193466\n",
            "OrderedDict([('weights', tensor([0.5972])), ('bias', tensor([0.3433]))])\n",
            "Loss:0.020677709951996803 \n",
            "Loss:0.02033500373363495 \n",
            "Loss:0.01998869702219963 \n",
            "Loss:0.019649803638458252 \n",
            "Loss:0.019300809130072594 \n",
            "Loss:0.018963487818837166 \n",
            "Loss:0.01861560344696045 \n",
            "Loss:0.018274478614330292 \n",
            "Loss:0.017930403351783752 \n",
            "Loss:0.01758546568453312 \n",
            "Epoch:120 | Loss :0.01758546568453312 | Test Loss : 0.04060482233762741\n",
            "OrderedDict([('weights', tensor([0.6141])), ('bias', tensor([0.3358]))])\n",
            "Loss:0.017245199531316757 \n",
            "Loss:0.016896454617381096 \n",
            "Loss:0.01656000316143036 \n",
            "Loss:0.016210997477173805 \n",
            "Loss:0.01587124727666378 \n",
            "Loss:0.015525798313319683 \n",
            "Loss:0.015182236209511757 \n",
            "Loss:0.014840595424175262 \n",
            "Loss:0.01449323259294033 \n",
            "Loss:0.014155393466353416 \n",
            "Epoch:130 | Loss :0.014155393466353416 | Test Loss : 0.03233227878808975\n",
            "OrderedDict([('weights', tensor([0.6313])), ('bias', tensor([0.3288]))])\n",
            "Loss:0.013806397095322609 \n",
            "Loss:0.013468016870319843 \n",
            "Loss:0.013121193274855614 \n",
            "Loss:0.01277900766581297 \n",
            "Loss:0.012435992248356342 \n",
            "Loss:0.01208999752998352 \n",
            "Loss:0.011750795878469944 \n",
            "Loss:0.011401787400245667 \n",
            "Loss:0.011064787395298481 \n",
            "Loss:0.010716589167714119 \n",
            "Epoch:140 | Loss :0.010716589167714119 | Test Loss : 0.024059748277068138\n",
            "OrderedDict([('weights', tensor([0.6485])), ('bias', tensor([0.3218]))])\n",
            "Loss:0.010375778190791607 \n",
            "Loss:0.010031387209892273 \n",
            "Loss:0.009686763398349285 \n",
            "Loss:0.009346187114715576 \n",
            "Loss:0.008997755125164986 \n",
            "Loss:0.008660981431603432 \n",
            "Loss:0.008311985060572624 \n",
            "Loss:0.007972544990479946 \n",
            "Loss:0.007626785431057215 \n",
            "Loss:0.0072835334576666355 \n",
            "Epoch:150 | Loss :0.0072835334576666355 | Test Loss : 0.016474086791276932\n",
            "OrderedDict([('weights', tensor([0.6654])), ('bias', tensor([0.3143]))])\n",
            "Loss:0.006941580679267645 \n",
            "Loss:0.006594526115804911 \n",
            "Loss:0.006256377790123224 \n",
            "Loss:0.005907376762479544 \n",
            "Loss:0.005569315515458584 \n",
            "Loss:0.005222178064286709 \n",
            "Loss:0.004880306776612997 \n",
            "Loss:0.004536976106464863 \n",
            "Loss:0.00419129803776741 \n",
            "Loss:0.0038517764769494534 \n",
            "Epoch:160 | Loss :0.0038517764769494534 | Test Loss : 0.008201557211577892\n",
            "OrderedDict([('weights', tensor([0.6826])), ('bias', tensor([0.3073]))])\n",
            "Loss:0.0035027749836444855 \n",
            "Loss:0.0031660839449614286 \n",
            "Loss:0.002817571861669421 \n",
            "Loss:0.0024770735763013363 \n",
            "Loss:0.0021323717664927244 \n",
            "Loss:0.0017880648374557495 \n",
            "Loss:0.0014518328243866563 \n",
            "Loss:0.0011887758737429976 \n",
            "Loss:0.0025885067880153656 \n",
            "Loss:0.008932482451200485 \n",
            "Epoch:170 | Loss :0.008932482451200485 | Test Loss : 0.005023092031478882\n",
            "OrderedDict([('weights', tensor([0.6951])), ('bias', tensor([0.2993]))])\n",
            "Loss:0.0025885067880153656 \n",
            "Loss:0.008932482451200485 \n",
            "Loss:0.0025885067880153656 \n",
            "Loss:0.008932482451200485 \n",
            "Loss:0.0025885067880153656 \n",
            "Loss:0.008932482451200485 \n",
            "Loss:0.0025885067880153656 \n",
            "Loss:0.008932482451200485 \n",
            "Loss:0.0025885067880153656 \n",
            "Loss:0.008932482451200485 \n",
            "Epoch:180 | Loss :0.008932482451200485 | Test Loss : 0.005023092031478882\n",
            "OrderedDict([('weights', tensor([0.6951])), ('bias', tensor([0.2993]))])\n",
            "Loss:0.0025885067880153656 \n",
            "Loss:0.008932482451200485 \n",
            "Loss:0.0025885067880153656 \n",
            "Loss:0.008932482451200485 \n",
            "Loss:0.0025885067880153656 \n",
            "Loss:0.008932482451200485 \n",
            "Loss:0.0025885067880153656 \n",
            "Loss:0.008932482451200485 \n",
            "Loss:0.0025885067880153656 \n",
            "Loss:0.008932482451200485 \n",
            "Epoch:190 | Loss :0.008932482451200485 | Test Loss : 0.005023092031478882\n",
            "OrderedDict([('weights', tensor([0.6951])), ('bias', tensor([0.2993]))])\n",
            "Loss:0.0025885067880153656 \n",
            "Loss:0.008932482451200485 \n",
            "Loss:0.0025885067880153656 \n",
            "Loss:0.008932482451200485 \n",
            "Loss:0.0025885067880153656 \n",
            "Loss:0.008932482451200485 \n",
            "Loss:0.0025885067880153656 \n",
            "Loss:0.008932482451200485 \n",
            "Loss:0.0025885067880153656 \n"
          ]
        }
      ]
    },
    {
      "cell_type": "code",
      "source": [
        "with torch.inference_mode():\n",
        "  y_preds_new=model_0(X_test)\n"
      ],
      "metadata": {
        "id": "kwkrOfFXP_An"
      },
      "execution_count": 87,
      "outputs": []
    },
    {
      "cell_type": "code",
      "source": [
        "model_0.state_dict()"
      ],
      "metadata": {
        "colab": {
          "base_uri": "https://localhost:8080/"
        },
        "id": "g1ywItA9IcYp",
        "outputId": "a13b3d95-9cf7-412c-aea5-304c18ad94cb"
      },
      "execution_count": 88,
      "outputs": [
        {
          "output_type": "execute_result",
          "data": {
            "text/plain": [
              "OrderedDict([('weights', tensor([0.6990])), ('bias', tensor([0.3093]))])"
            ]
          },
          "metadata": {},
          "execution_count": 88
        }
      ]
    },
    {
      "cell_type": "code",
      "source": [
        "# np.array(torch.tensor(plot_predictions(predictions=y_preds)).numpy())\n",
        "\n",
        "# np.array(torch.tensor(predictions=y_preds).numpy())"
      ],
      "metadata": {
        "id": "75tc4yepOe8P"
      },
      "execution_count": 89,
      "outputs": []
    },
    {
      "cell_type": "code",
      "source": [
        "weight,bias"
      ],
      "metadata": {
        "colab": {
          "base_uri": "https://localhost:8080/"
        },
        "id": "cu6YnR7hIb3W",
        "outputId": "1baefb24-9b76-4cf8-8861-f67f2bdfa04e"
      },
      "execution_count": 90,
      "outputs": [
        {
          "output_type": "execute_result",
          "data": {
            "text/plain": [
              "(0.7, 0.3)"
            ]
          },
          "metadata": {},
          "execution_count": 90
        }
      ]
    },
    {
      "cell_type": "code",
      "source": [
        "plot_predictions(predictions=y_preds_new);\n"
      ],
      "metadata": {
        "colab": {
          "base_uri": "https://localhost:8080/",
          "height": 550
        },
        "id": "1plsXnukRXi4",
        "outputId": "81efe6bc-4fe7-49b4-b17e-863fa6cdb813"
      },
      "execution_count": 91,
      "outputs": [
        {
          "output_type": "display_data",
          "data": {
            "text/plain": [
              "<Figure size 1000x700 with 1 Axes>"
            ],
            "image/png": "[encoded data removed]"
          },
          "metadata": {}
        }
      ]
    },
    {
      "cell_type": "code",
      "source": [
        "import numpy as np\n",
        "np.array(torch.tensor(loss_values).numpy()), test_loss_values"
      ],
      "metadata": {
        "id": "j9GOAt2q1Aq4",
        "colab": {
          "base_uri": "https://localhost:8080/"
        },
        "outputId": "d35997dc-9614-42c5-bc2b-77fe8f076c85"
      },
      "execution_count": 92,
      "outputs": [
        {
          "output_type": "execute_result",
          "data": {
            "text/plain": [
              "(array([0.31288138, 0.19767132, 0.08908726, 0.05314853, 0.04543797,\n",
              "        0.04167863, 0.03818933, 0.0347609 , 0.03132383, 0.0278874 ,\n",
              "        0.02445896, 0.02102021, 0.01758547, 0.01415539, 0.01071659,\n",
              "        0.00728353, 0.00385178, 0.00893248, 0.00893248, 0.00893248],\n",
              "       dtype=float32),\n",
              " [tensor(0.4811),\n",
              "  tensor(0.3464),\n",
              "  tensor(0.2173),\n",
              "  tensor(0.1446),\n",
              "  tensor(0.1136),\n",
              "  tensor(0.0992),\n",
              "  tensor(0.0889),\n",
              "  tensor(0.0806),\n",
              "  tensor(0.0723),\n",
              "  tensor(0.0647),\n",
              "  tensor(0.0565),\n",
              "  tensor(0.0482),\n",
              "  tensor(0.0406),\n",
              "  tensor(0.0323),\n",
              "  tensor(0.0241),\n",
              "  tensor(0.0165),\n",
              "  tensor(0.0082),\n",
              "  tensor(0.0050),\n",
              "  tensor(0.0050),\n",
              "  tensor(0.0050)])"
            ]
          },
          "metadata": {},
          "execution_count": 92
        }
      ]
    },
    {
      "cell_type": "code",
      "source": [
        "# plot the loss curves\n",
        "plt.plot(epoch_count,np.array(torch.tensor(loss_values).numpy()),label= \"Train Loss\")\n",
        "plt.plot(epoch_count, test_loss_values, label=\"Test Loss\")\n",
        "plt.title(\"Training and test loss curves\")\n",
        "plt.ylabel(\"Loss\")\n",
        "plt.xlabel(\"Epochs\")\n",
        "plt.legend();"
      ],
      "metadata": {
        "colab": {
          "base_uri": "https://localhost:8080/",
          "height": 472
        },
        "id": "Dv6ZdsK1gcfV",
        "outputId": "32c3eb73-3bea-47ee-e1e2-1d1b0c5f7c48"
      },
      "execution_count": 93,
      "outputs": [
        {
          "output_type": "display_data",
          "data": {
            "text/plain": [
              "<Figure size 640x480 with 1 Axes>"
            ],
            "image/png": "[encoded data removed]"
          },
          "metadata": {}
        }
      ]
    },
    {
      "cell_type": "code",
      "source": [
        "with torch.inference_mode():\n",
        "  y_preds_new=model_0(X_test)\n",
        "  model_0.state_dict()"
      ],
      "metadata": {
        "id": "6h9L6QzSgcRp"
      },
      "execution_count": 94,
      "outputs": []
    },
    {
      "cell_type": "code",
      "source": [
        "plot_predictions(predictions=y_preds)"
      ],
      "metadata": {
        "colab": {
          "base_uri": "https://localhost:8080/",
          "height": 870
        },
        "id": "goC5H4PkfX2x",
        "outputId": "98994fc8-cedc-4a93-afa1-f29cb9356b06"
      },
      "execution_count": 95,
      "outputs": [
        {
          "output_type": "error",
          "ename": "RuntimeError",
          "evalue": "ignored",
          "traceback": [
            "\u001b[0;31m---------------------------------------------------------------------------\u001b[0m",
            "\u001b[0;31mRuntimeError\u001b[0m                              Traceback (most recent call last)",
            "\u001b[0;32m<ipython-input-95-ee0e1d63918e>\u001b[0m in \u001b[0;36m<cell line: 1>\u001b[0;34m()\u001b[0m\n\u001b[0;32m----> 1\u001b[0;31m \u001b[0mplot_predictions\u001b[0m\u001b[0;34m(\u001b[0m\u001b[0mpredictions\u001b[0m\u001b[0;34m=\u001b[0m\u001b[0my_preds\u001b[0m\u001b[0;34m)\u001b[0m\u001b[0;34m\u001b[0m\u001b[0;34m\u001b[0m\u001b[0m\n\u001b[0m",
            "\u001b[0;32m<ipython-input-72-ef2e3c8daab5>\u001b[0m in \u001b[0;36mplot_predictions\u001b[0;34m(train_data, train_labels, test_data, test_labels, predictions)\u001b[0m\n\u001b[1;32m     19\u001b[0m  \u001b[0;32mif\u001b[0m \u001b[0mpredictions\u001b[0m \u001b[0;32mis\u001b[0m \u001b[0;32mnot\u001b[0m \u001b[0;32mNone\u001b[0m\u001b[0;34m:\u001b[0m\u001b[0;34m\u001b[0m\u001b[0;34m\u001b[0m\u001b[0m\n\u001b[1;32m     20\u001b[0m   \u001b[0;31m# plot the predictions if they exist\u001b[0m\u001b[0;34m\u001b[0m\u001b[0;34m\u001b[0m\u001b[0m\n\u001b[0;32m---> 21\u001b[0;31m   \u001b[0mplt\u001b[0m\u001b[0;34m.\u001b[0m\u001b[0mscatter\u001b[0m\u001b[0;34m(\u001b[0m\u001b[0mtest_data\u001b[0m\u001b[0;34m,\u001b[0m\u001b[0mpredictions\u001b[0m\u001b[0;34m,\u001b[0m \u001b[0mc\u001b[0m\u001b[0;34m=\u001b[0m\u001b[0;34m\"r\"\u001b[0m\u001b[0;34m,\u001b[0m \u001b[0ms\u001b[0m\u001b[0;34m=\u001b[0m\u001b[0;36m4\u001b[0m\u001b[0;34m,\u001b[0m\u001b[0mlabel\u001b[0m\u001b[0;34m=\u001b[0m\u001b[0;34m\"predictions\"\u001b[0m\u001b[0;34m)\u001b[0m\u001b[0;34m\u001b[0m\u001b[0;34m\u001b[0m\u001b[0m\n\u001b[0m\u001b[1;32m     22\u001b[0m   \u001b[0mplt\u001b[0m\u001b[0;34m.\u001b[0m\u001b[0mtitle\u001b[0m\u001b[0;34m(\u001b[0m\u001b[0;34m\"Ploting Training and test Data\"\u001b[0m\u001b[0;34m)\u001b[0m\u001b[0;34m\u001b[0m\u001b[0;34m\u001b[0m\u001b[0m\n\u001b[1;32m     23\u001b[0m \u001b[0;34m\u001b[0m\u001b[0m\n",
            "\u001b[0;32m/usr/local/lib/python3.10/dist-packages/matplotlib/pyplot.py\u001b[0m in \u001b[0;36mscatter\u001b[0;34m(x, y, s, c, marker, cmap, norm, vmin, vmax, alpha, linewidths, edgecolors, plotnonfinite, data, **kwargs)\u001b[0m\n\u001b[1;32m   2860\u001b[0m         \u001b[0mvmin\u001b[0m\u001b[0;34m=\u001b[0m\u001b[0;32mNone\u001b[0m\u001b[0;34m,\u001b[0m \u001b[0mvmax\u001b[0m\u001b[0;34m=\u001b[0m\u001b[0;32mNone\u001b[0m\u001b[0;34m,\u001b[0m \u001b[0malpha\u001b[0m\u001b[0;34m=\u001b[0m\u001b[0;32mNone\u001b[0m\u001b[0;34m,\u001b[0m \u001b[0mlinewidths\u001b[0m\u001b[0;34m=\u001b[0m\u001b[0;32mNone\u001b[0m\u001b[0;34m,\u001b[0m \u001b[0;34m*\u001b[0m\u001b[0;34m,\u001b[0m\u001b[0;34m\u001b[0m\u001b[0;34m\u001b[0m\u001b[0m\n\u001b[1;32m   2861\u001b[0m         edgecolors=None, plotnonfinite=False, data=None, **kwargs):\n\u001b[0;32m-> 2862\u001b[0;31m     __ret = gca().scatter(\n\u001b[0m\u001b[1;32m   2863\u001b[0m         \u001b[0mx\u001b[0m\u001b[0;34m,\u001b[0m \u001b[0my\u001b[0m\u001b[0;34m,\u001b[0m \u001b[0ms\u001b[0m\u001b[0;34m=\u001b[0m\u001b[0ms\u001b[0m\u001b[0;34m,\u001b[0m \u001b[0mc\u001b[0m\u001b[0;34m=\u001b[0m\u001b[0mc\u001b[0m\u001b[0;34m,\u001b[0m \u001b[0mmarker\u001b[0m\u001b[0;34m=\u001b[0m\u001b[0mmarker\u001b[0m\u001b[0;34m,\u001b[0m \u001b[0mcmap\u001b[0m\u001b[0;34m=\u001b[0m\u001b[0mcmap\u001b[0m\u001b[0;34m,\u001b[0m \u001b[0mnorm\u001b[0m\u001b[0;34m=\u001b[0m\u001b[0mnorm\u001b[0m\u001b[0;34m,\u001b[0m\u001b[0;34m\u001b[0m\u001b[0;34m\u001b[0m\u001b[0m\n\u001b[1;32m   2864\u001b[0m         \u001b[0mvmin\u001b[0m\u001b[0;34m=\u001b[0m\u001b[0mvmin\u001b[0m\u001b[0;34m,\u001b[0m \u001b[0mvmax\u001b[0m\u001b[0;34m=\u001b[0m\u001b[0mvmax\u001b[0m\u001b[0;34m,\u001b[0m \u001b[0malpha\u001b[0m\u001b[0;34m=\u001b[0m\u001b[0malpha\u001b[0m\u001b[0;34m,\u001b[0m \u001b[0mlinewidths\u001b[0m\u001b[0;34m=\u001b[0m\u001b[0mlinewidths\u001b[0m\u001b[0;34m,\u001b[0m\u001b[0;34m\u001b[0m\u001b[0;34m\u001b[0m\u001b[0m\n",
            "\u001b[0;32m/usr/local/lib/python3.10/dist-packages/matplotlib/__init__.py\u001b[0m in \u001b[0;36minner\u001b[0;34m(ax, data, *args, **kwargs)\u001b[0m\n\u001b[1;32m   1440\u001b[0m     \u001b[0;32mdef\u001b[0m \u001b[0minner\u001b[0m\u001b[0;34m(\u001b[0m\u001b[0max\u001b[0m\u001b[0;34m,\u001b[0m \u001b[0;34m*\u001b[0m\u001b[0margs\u001b[0m\u001b[0;34m,\u001b[0m \u001b[0mdata\u001b[0m\u001b[0;34m=\u001b[0m\u001b[0;32mNone\u001b[0m\u001b[0;34m,\u001b[0m \u001b[0;34m**\u001b[0m\u001b[0mkwargs\u001b[0m\u001b[0;34m)\u001b[0m\u001b[0;34m:\u001b[0m\u001b[0;34m\u001b[0m\u001b[0;34m\u001b[0m\u001b[0m\n\u001b[1;32m   1441\u001b[0m         \u001b[0;32mif\u001b[0m \u001b[0mdata\u001b[0m \u001b[0;32mis\u001b[0m \u001b[0;32mNone\u001b[0m\u001b[0;34m:\u001b[0m\u001b[0;34m\u001b[0m\u001b[0;34m\u001b[0m\u001b[0m\n\u001b[0;32m-> 1442\u001b[0;31m             \u001b[0;32mreturn\u001b[0m \u001b[0mfunc\u001b[0m\u001b[0;34m(\u001b[0m\u001b[0max\u001b[0m\u001b[0;34m,\u001b[0m \u001b[0;34m*\u001b[0m\u001b[0mmap\u001b[0m\u001b[0;34m(\u001b[0m\u001b[0msanitize_sequence\u001b[0m\u001b[0;34m,\u001b[0m \u001b[0margs\u001b[0m\u001b[0;34m)\u001b[0m\u001b[0;34m,\u001b[0m \u001b[0;34m**\u001b[0m\u001b[0mkwargs\u001b[0m\u001b[0;34m)\u001b[0m\u001b[0;34m\u001b[0m\u001b[0;34m\u001b[0m\u001b[0m\n\u001b[0m\u001b[1;32m   1443\u001b[0m \u001b[0;34m\u001b[0m\u001b[0m\n\u001b[1;32m   1444\u001b[0m         \u001b[0mbound\u001b[0m \u001b[0;34m=\u001b[0m \u001b[0mnew_sig\u001b[0m\u001b[0;34m.\u001b[0m\u001b[0mbind\u001b[0m\u001b[0;34m(\u001b[0m\u001b[0max\u001b[0m\u001b[0;34m,\u001b[0m \u001b[0;34m*\u001b[0m\u001b[0margs\u001b[0m\u001b[0;34m,\u001b[0m \u001b[0;34m**\u001b[0m\u001b[0mkwargs\u001b[0m\u001b[0;34m)\u001b[0m\u001b[0;34m\u001b[0m\u001b[0;34m\u001b[0m\u001b[0m\n",
            "\u001b[0;32m/usr/local/lib/python3.10/dist-packages/matplotlib/axes/_axes.py\u001b[0m in \u001b[0;36mscatter\u001b[0;34m(self, x, y, s, c, marker, cmap, norm, vmin, vmax, alpha, linewidths, edgecolors, plotnonfinite, **kwargs)\u001b[0m\n\u001b[1;32m   4580\u001b[0m         \u001b[0;31m# unless its argument is a masked array.\u001b[0m\u001b[0;34m\u001b[0m\u001b[0;34m\u001b[0m\u001b[0m\n\u001b[1;32m   4581\u001b[0m         \u001b[0mx\u001b[0m \u001b[0;34m=\u001b[0m \u001b[0mnp\u001b[0m\u001b[0;34m.\u001b[0m\u001b[0mma\u001b[0m\u001b[0;34m.\u001b[0m\u001b[0mravel\u001b[0m\u001b[0;34m(\u001b[0m\u001b[0mx\u001b[0m\u001b[0;34m)\u001b[0m\u001b[0;34m\u001b[0m\u001b[0;34m\u001b[0m\u001b[0m\n\u001b[0;32m-> 4582\u001b[0;31m         \u001b[0my\u001b[0m \u001b[0;34m=\u001b[0m \u001b[0mnp\u001b[0m\u001b[0;34m.\u001b[0m\u001b[0mma\u001b[0m\u001b[0;34m.\u001b[0m\u001b[0mravel\u001b[0m\u001b[0;34m(\u001b[0m\u001b[0my\u001b[0m\u001b[0;34m)\u001b[0m\u001b[0;34m\u001b[0m\u001b[0;34m\u001b[0m\u001b[0m\n\u001b[0m\u001b[1;32m   4583\u001b[0m         \u001b[0;32mif\u001b[0m \u001b[0mx\u001b[0m\u001b[0;34m.\u001b[0m\u001b[0msize\u001b[0m \u001b[0;34m!=\u001b[0m \u001b[0my\u001b[0m\u001b[0;34m.\u001b[0m\u001b[0msize\u001b[0m\u001b[0;34m:\u001b[0m\u001b[0;34m\u001b[0m\u001b[0;34m\u001b[0m\u001b[0m\n\u001b[1;32m   4584\u001b[0m             \u001b[0;32mraise\u001b[0m \u001b[0mValueError\u001b[0m\u001b[0;34m(\u001b[0m\u001b[0;34m\"x and y must be the same size\"\u001b[0m\u001b[0;34m)\u001b[0m\u001b[0;34m\u001b[0m\u001b[0;34m\u001b[0m\u001b[0m\n",
            "\u001b[0;32m/usr/local/lib/python3.10/dist-packages/numpy/ma/core.py\u001b[0m in \u001b[0;36m__call__\u001b[0;34m(self, a, *args, **params)\u001b[0m\n\u001b[1;32m   6819\u001b[0m             \u001b[0ma\u001b[0m\u001b[0;34m,\u001b[0m \u001b[0margs\u001b[0m\u001b[0;34m[\u001b[0m\u001b[0;36m0\u001b[0m\u001b[0;34m]\u001b[0m \u001b[0;34m=\u001b[0m \u001b[0margs\u001b[0m\u001b[0;34m[\u001b[0m\u001b[0;36m0\u001b[0m\u001b[0;34m]\u001b[0m\u001b[0;34m,\u001b[0m \u001b[0ma\u001b[0m\u001b[0;34m\u001b[0m\u001b[0;34m\u001b[0m\u001b[0m\n\u001b[1;32m   6820\u001b[0m \u001b[0;34m\u001b[0m\u001b[0m\n\u001b[0;32m-> 6821\u001b[0;31m         \u001b[0mmarr\u001b[0m \u001b[0;34m=\u001b[0m \u001b[0masanyarray\u001b[0m\u001b[0;34m(\u001b[0m\u001b[0ma\u001b[0m\u001b[0;34m)\u001b[0m\u001b[0;34m\u001b[0m\u001b[0;34m\u001b[0m\u001b[0m\n\u001b[0m\u001b[1;32m   6822\u001b[0m         \u001b[0mmethod_name\u001b[0m \u001b[0;34m=\u001b[0m \u001b[0mself\u001b[0m\u001b[0;34m.\u001b[0m\u001b[0m__name__\u001b[0m\u001b[0;34m\u001b[0m\u001b[0;34m\u001b[0m\u001b[0m\n\u001b[1;32m   6823\u001b[0m         \u001b[0mmethod\u001b[0m \u001b[0;34m=\u001b[0m \u001b[0mgetattr\u001b[0m\u001b[0;34m(\u001b[0m\u001b[0mtype\u001b[0m\u001b[0;34m(\u001b[0m\u001b[0mmarr\u001b[0m\u001b[0;34m)\u001b[0m\u001b[0;34m,\u001b[0m \u001b[0mmethod_name\u001b[0m\u001b[0;34m,\u001b[0m \u001b[0;32mNone\u001b[0m\u001b[0;34m)\u001b[0m\u001b[0;34m\u001b[0m\u001b[0;34m\u001b[0m\u001b[0m\n",
            "\u001b[0;32m/usr/local/lib/python3.10/dist-packages/numpy/ma/core.py\u001b[0m in \u001b[0;36masanyarray\u001b[0;34m(a, dtype)\u001b[0m\n\u001b[1;32m   8051\u001b[0m     \u001b[0;32mif\u001b[0m \u001b[0misinstance\u001b[0m\u001b[0;34m(\u001b[0m\u001b[0ma\u001b[0m\u001b[0;34m,\u001b[0m \u001b[0mMaskedArray\u001b[0m\u001b[0;34m)\u001b[0m \u001b[0;32mand\u001b[0m \u001b[0;34m(\u001b[0m\u001b[0mdtype\u001b[0m \u001b[0;32mis\u001b[0m \u001b[0;32mNone\u001b[0m \u001b[0;32mor\u001b[0m \u001b[0mdtype\u001b[0m \u001b[0;34m==\u001b[0m \u001b[0ma\u001b[0m\u001b[0;34m.\u001b[0m\u001b[0mdtype\u001b[0m\u001b[0;34m)\u001b[0m\u001b[0;34m:\u001b[0m\u001b[0;34m\u001b[0m\u001b[0;34m\u001b[0m\u001b[0m\n\u001b[1;32m   8052\u001b[0m         \u001b[0;32mreturn\u001b[0m \u001b[0ma\u001b[0m\u001b[0;34m\u001b[0m\u001b[0;34m\u001b[0m\u001b[0m\n\u001b[0;32m-> 8053\u001b[0;31m     \u001b[0;32mreturn\u001b[0m \u001b[0mmasked_array\u001b[0m\u001b[0;34m(\u001b[0m\u001b[0ma\u001b[0m\u001b[0;34m,\u001b[0m \u001b[0mdtype\u001b[0m\u001b[0;34m=\u001b[0m\u001b[0mdtype\u001b[0m\u001b[0;34m,\u001b[0m \u001b[0mcopy\u001b[0m\u001b[0;34m=\u001b[0m\u001b[0;32mFalse\u001b[0m\u001b[0;34m,\u001b[0m \u001b[0mkeep_mask\u001b[0m\u001b[0;34m=\u001b[0m\u001b[0;32mTrue\u001b[0m\u001b[0;34m,\u001b[0m \u001b[0msubok\u001b[0m\u001b[0;34m=\u001b[0m\u001b[0;32mTrue\u001b[0m\u001b[0;34m)\u001b[0m\u001b[0;34m\u001b[0m\u001b[0;34m\u001b[0m\u001b[0m\n\u001b[0m\u001b[1;32m   8054\u001b[0m \u001b[0;34m\u001b[0m\u001b[0m\n\u001b[1;32m   8055\u001b[0m \u001b[0;34m\u001b[0m\u001b[0m\n",
            "\u001b[0;32m/usr/local/lib/python3.10/dist-packages/numpy/ma/core.py\u001b[0m in \u001b[0;36m__new__\u001b[0;34m(cls, data, mask, dtype, copy, subok, ndmin, fill_value, keep_mask, hard_mask, shrink, order)\u001b[0m\n\u001b[1;32m   2824\u001b[0m         \"\"\"\n\u001b[1;32m   2825\u001b[0m         \u001b[0;31m# Process data.\u001b[0m\u001b[0;34m\u001b[0m\u001b[0;34m\u001b[0m\u001b[0m\n\u001b[0;32m-> 2826\u001b[0;31m         _data = np.array(data, dtype=dtype, copy=copy,\n\u001b[0m\u001b[1;32m   2827\u001b[0m                          order=order, subok=True, ndmin=ndmin)\n\u001b[1;32m   2828\u001b[0m         \u001b[0m_baseclass\u001b[0m \u001b[0;34m=\u001b[0m \u001b[0mgetattr\u001b[0m\u001b[0;34m(\u001b[0m\u001b[0mdata\u001b[0m\u001b[0;34m,\u001b[0m \u001b[0;34m'_baseclass'\u001b[0m\u001b[0;34m,\u001b[0m \u001b[0mtype\u001b[0m\u001b[0;34m(\u001b[0m\u001b[0m_data\u001b[0m\u001b[0;34m)\u001b[0m\u001b[0;34m)\u001b[0m\u001b[0;34m\u001b[0m\u001b[0;34m\u001b[0m\u001b[0m\n",
            "\u001b[0;32m/usr/local/lib/python3.10/dist-packages/torch/_tensor.py\u001b[0m in \u001b[0;36m__array__\u001b[0;34m(self, dtype)\u001b[0m\n\u001b[1;32m   1028\u001b[0m             \u001b[0;32mreturn\u001b[0m \u001b[0mhandle_torch_function\u001b[0m\u001b[0;34m(\u001b[0m\u001b[0mTensor\u001b[0m\u001b[0;34m.\u001b[0m\u001b[0m__array__\u001b[0m\u001b[0;34m,\u001b[0m \u001b[0;34m(\u001b[0m\u001b[0mself\u001b[0m\u001b[0;34m,\u001b[0m\u001b[0;34m)\u001b[0m\u001b[0;34m,\u001b[0m \u001b[0mself\u001b[0m\u001b[0;34m,\u001b[0m \u001b[0mdtype\u001b[0m\u001b[0;34m=\u001b[0m\u001b[0mdtype\u001b[0m\u001b[0;34m)\u001b[0m\u001b[0;34m\u001b[0m\u001b[0;34m\u001b[0m\u001b[0m\n\u001b[1;32m   1029\u001b[0m         \u001b[0;32mif\u001b[0m \u001b[0mdtype\u001b[0m \u001b[0;32mis\u001b[0m \u001b[0;32mNone\u001b[0m\u001b[0;34m:\u001b[0m\u001b[0;34m\u001b[0m\u001b[0;34m\u001b[0m\u001b[0m\n\u001b[0;32m-> 1030\u001b[0;31m             \u001b[0;32mreturn\u001b[0m \u001b[0mself\u001b[0m\u001b[0;34m.\u001b[0m\u001b[0mnumpy\u001b[0m\u001b[0;34m(\u001b[0m\u001b[0;34m)\u001b[0m\u001b[0;34m\u001b[0m\u001b[0;34m\u001b[0m\u001b[0m\n\u001b[0m\u001b[1;32m   1031\u001b[0m         \u001b[0;32melse\u001b[0m\u001b[0;34m:\u001b[0m\u001b[0;34m\u001b[0m\u001b[0;34m\u001b[0m\u001b[0m\n\u001b[1;32m   1032\u001b[0m             \u001b[0;32mreturn\u001b[0m \u001b[0mself\u001b[0m\u001b[0;34m.\u001b[0m\u001b[0mnumpy\u001b[0m\u001b[0;34m(\u001b[0m\u001b[0;34m)\u001b[0m\u001b[0;34m.\u001b[0m\u001b[0mastype\u001b[0m\u001b[0;34m(\u001b[0m\u001b[0mdtype\u001b[0m\u001b[0;34m,\u001b[0m \u001b[0mcopy\u001b[0m\u001b[0;34m=\u001b[0m\u001b[0;32mFalse\u001b[0m\u001b[0;34m)\u001b[0m\u001b[0;34m\u001b[0m\u001b[0;34m\u001b[0m\u001b[0m\n",
            "\u001b[0;31mRuntimeError\u001b[0m: Can't call numpy() on Tensor that requires grad. Use tensor.detach().numpy() instead."
          ]
        },
        {
          "output_type": "display_data",
          "data": {
            "text/plain": [
              "<Figure size 1000x700 with 1 Axes>"
            ],
            "image/png": "[encoded data removed]"
          },
          "metadata": {}
        }
      ]
    },
    {
      "cell_type": "code",
      "source": [
        "plot_predictions(predictions=y_preds_new)"
      ],
      "metadata": {
        "id": "qp_Ek8hfgaGM",
        "colab": {
          "base_uri": "https://localhost:8080/",
          "height": 550
        },
        "outputId": "daed7a84-f1ed-40a8-bb06-8c5d19971fa6"
      },
      "execution_count": 96,
      "outputs": [
        {
          "output_type": "display_data",
          "data": {
            "text/plain": [
              "<Figure size 1000x700 with 1 Axes>"
            ],
            "image/png": "[encoded data removed]"
          },
          "metadata": {}
        }
      ]
    },
    {
      "cell_type": "markdown",
      "source": [
        "# saving a model in pytorch\n",
        "\n",
        "There are three main method you should about for saving and loading models in pytorch.\n",
        "\n",
        "1.  `torch.save()` - allows you save a pytorch object in python's pickle format\n",
        "2.  `torch.load()` - allow you load a saved PyTorch object\n",
        "3.  `torch.nn.Module.load_state_dict()`- this allows to load a model's saved state dictionary\n",
        "\n",
        "\n",
        "\n",
        "Pytorch save & load\n",
        " code tutorial and extra curriculum :\n",
        " https://pytorch.org/tutorials/\n",
        " beginner/saving_loading_models.html\n",
        "\n",
        "\n",
        "torch save : https://pytorch.org/docs/stable/generated/torch.save.html\n"
      ],
      "metadata": {
        "id": "uH71bgxngptM"
      }
    },
    {
      "cell_type": "code",
      "source": [
        "# saving our pytorch model\n",
        "from pathlib import Path\n",
        "\n",
        "# 1. Create models  directory\n",
        "MODEL_PATH = Path(\"models\")\n",
        "MODEL_PATH.mkdir(parents=True,exist_ok=True)\n",
        "\n",
        "# 2 . Create model save path\n",
        "MODEL_NAME=\"01_pytorch_workflow_model_0.pth\"\n",
        "MODEL_SAVE_PATH= MODEL_PATH/MODEL_NAME\n",
        "\n",
        "MODEL_SAVE_PATH\n",
        "\n",
        "# save the model state dict\n",
        "\n",
        "print(f\"saving model to: {MODEL_SAVE_PATH}\")\n",
        "\n",
        "# torch.save(obj, f, pickle_module=pickle, pickle_protocol=DEFAULT_PROTOCOL, _use_new_zipfile_serialization=True)\n",
        "torch.save(obj= model_0.state_dict(), f=MODEL_SAVE_PATH)"
      ],
      "metadata": {
        "colab": {
          "base_uri": "https://localhost:8080/"
        },
        "id": "25-P2ECjiZDP",
        "outputId": "67d4658d-c1a1-41b1-bcff-0615f4726ca2"
      },
      "execution_count": 97,
      "outputs": [
        {
          "output_type": "stream",
          "name": "stdout",
          "text": [
            "saving model to: models/01_pytorch_workflow_model_0.pth\n"
          ]
        }
      ]
    },
    {
      "cell_type": "code",
      "source": [
        "!ls -l models"
      ],
      "metadata": {
        "colab": {
          "base_uri": "https://localhost:8080/"
        },
        "id": "Pv7AF6JTklQz",
        "outputId": "0f772a88-4a72-4971-9a2d-525aa273d026"
      },
      "execution_count": 98,
      "outputs": [
        {
          "output_type": "stream",
          "name": "stdout",
          "text": [
            "total 4\n",
            "-rw-r--r-- 1 root root 1680 Dec 26 15:55 01_pytorch_workflow_model_0.pth\n"
          ]
        }
      ]
    },
    {
      "cell_type": "markdown",
      "source": [
        "## Loading a Pytorch model\n",
        "\n",
        "Since we saved our model's `state_dict()` rather the entire model, we'll create a new instance of our model class and load the saved `state_dict()` into that"
      ],
      "metadata": {
        "id": "Ty-XjHWYualX"
      }
    },
    {
      "cell_type": "code",
      "source": [
        "model_0.state_dict()"
      ],
      "metadata": {
        "colab": {
          "base_uri": "https://localhost:8080/"
        },
        "id": "-DYluQ-Bv_pD",
        "outputId": "8a409d1e-933c-4f1f-c125-777b3fc10cd4"
      },
      "execution_count": 99,
      "outputs": [
        {
          "output_type": "execute_result",
          "data": {
            "text/plain": [
              "OrderedDict([('weights', tensor([0.6990])), ('bias', tensor([0.3093]))])"
            ]
          },
          "metadata": {},
          "execution_count": 99
        }
      ]
    },
    {
      "cell_type": "code",
      "source": [
        "# TO load in a saved state_dict we have to instantiate a new instance of our model class\n",
        "loaded_model_0= LinearRegressionModel()\n",
        "\n",
        "# Load the saved state_dict of model_0 (this will update the new instance with updates parameters)\n",
        "loaded_model_0.load_state_dict(torch.load(f=MODEL_SAVE_PATH))\n",
        "loaded_model_0.state_dict()\n",
        "\n",
        "\n"
      ],
      "metadata": {
        "colab": {
          "base_uri": "https://localhost:8080/"
        },
        "id": "0gP3Ro02wcdI",
        "outputId": "66a53ad3-b2c7-4f84-9689-72be74fc7f26"
      },
      "execution_count": 100,
      "outputs": [
        {
          "output_type": "execute_result",
          "data": {
            "text/plain": [
              "OrderedDict([('weights', tensor([0.6990])), ('bias', tensor([0.3093]))])"
            ]
          },
          "metadata": {},
          "execution_count": 100
        }
      ]
    },
    {
      "cell_type": "code",
      "source": [
        "#Make some Predictions with our loaded model\n",
        "\n",
        "loaded_model_0.eval()\n",
        "with torch.inference_mode():\n",
        "  loaded_model_preds=loaded_model_0(X_test)\n",
        "\n",
        "loaded_model_preds\n",
        "\n",
        "\n"
      ],
      "metadata": {
        "colab": {
          "base_uri": "https://localhost:8080/"
        },
        "id": "WKni8gIOyO3a",
        "outputId": "0073aca8-358f-4883-a061-618f2b971a1f"
      },
      "execution_count": 101,
      "outputs": [
        {
          "output_type": "execute_result",
          "data": {
            "text/plain": [
              "tensor([[0.8685],\n",
              "        [0.8825],\n",
              "        [0.8965],\n",
              "        [0.9105],\n",
              "        [0.9245],\n",
              "        [0.9384],\n",
              "        [0.9524],\n",
              "        [0.9664],\n",
              "        [0.9804],\n",
              "        [0.9944]])"
            ]
          },
          "metadata": {},
          "execution_count": 101
        }
      ]
    },
    {
      "cell_type": "code",
      "source": [
        "# Make some models preds\n",
        "model_0.eval()\n",
        "with torch.inference_mode():\n",
        "  y_preds=model_0(X_test)\n",
        "\n",
        "y_preds"
      ],
      "metadata": {
        "colab": {
          "base_uri": "https://localhost:8080/"
        },
        "id": "H1-lxpY_zf2F",
        "outputId": "dd16f76c-bc47-4269-9b8c-b262b3d8784f"
      },
      "execution_count": 102,
      "outputs": [
        {
          "output_type": "execute_result",
          "data": {
            "text/plain": [
              "tensor([[0.8685],\n",
              "        [0.8825],\n",
              "        [0.8965],\n",
              "        [0.9105],\n",
              "        [0.9245],\n",
              "        [0.9384],\n",
              "        [0.9524],\n",
              "        [0.9664],\n",
              "        [0.9804],\n",
              "        [0.9944]])"
            ]
          },
          "metadata": {},
          "execution_count": 102
        }
      ]
    },
    {
      "cell_type": "code",
      "source": [
        "# Compare loaded model preds witih original model preds\n",
        "y_preds==loaded_model_preds"
      ],
      "metadata": {
        "colab": {
          "base_uri": "https://localhost:8080/"
        },
        "id": "JLFFSS3M0C0w",
        "outputId": "3ea89398-c965-49df-82c8-5435ff6cedc0"
      },
      "execution_count": 103,
      "outputs": [
        {
          "output_type": "execute_result",
          "data": {
            "text/plain": [
              "tensor([[True],\n",
              "        [True],\n",
              "        [True],\n",
              "        [True],\n",
              "        [True],\n",
              "        [True],\n",
              "        [True],\n",
              "        [True],\n",
              "        [True],\n",
              "        [True]])"
            ]
          },
          "metadata": {},
          "execution_count": 103
        }
      ]
    },
    {
      "cell_type": "code",
      "source": [
        "plot.vb"
      ],
      "metadata": {
        "colab": {
          "base_uri": "https://localhost:8080/",
          "height": 176
        },
        "id": "KeqpotppQC81",
        "outputId": "11fe17c6-ecd6-48a1-d195-328a518309ae"
      },
      "execution_count": 104,
      "outputs": [
        {
          "output_type": "error",
          "ename": "NameError",
          "evalue": "ignored",
          "traceback": [
            "\u001b[0;31m---------------------------------------------------------------------------\u001b[0m",
            "\u001b[0;31mNameError\u001b[0m                                 Traceback (most recent call last)",
            "\u001b[0;32m<ipython-input-104-f3e07ee22a5d>\u001b[0m in \u001b[0;36m<cell line: 1>\u001b[0;34m()\u001b[0m\n\u001b[0;32m----> 1\u001b[0;31m \u001b[0mplot\u001b[0m\u001b[0;34m.\u001b[0m\u001b[0mvb\u001b[0m\u001b[0;34m\u001b[0m\u001b[0;34m\u001b[0m\u001b[0m\n\u001b[0m",
            "\u001b[0;31mNameError\u001b[0m: name 'plot' is not defined"
          ]
        }
      ]
    },
    {
      "cell_type": "markdown",
      "source": [
        "##6. putting it all together\n",
        "\n",
        "let's go back through the steps above and see it all in one place\n"
      ],
      "metadata": {
        "id": "QOKM3B-D2U8P"
      }
    },
    {
      "cell_type": "code",
      "source": [
        "# import torch and matplotlib\n",
        "import torch\n",
        "from torch import nn\n",
        "import matplotlib.pyplot as plt"
      ],
      "metadata": {
        "id": "MD8y3Sh83GW4"
      },
      "execution_count": 164,
      "outputs": []
    },
    {
      "cell_type": "markdown",
      "source": [
        "Create device-agnostic code.\n",
        "\n",
        "This means if we've got access to a GPU, our code will use it (for potentially faster computing).\n",
        "If no GPU is available, the code will default to using CPU.\n",
        "\n"
      ],
      "metadata": {
        "id": "pN2toJX16265"
      }
    },
    {
      "cell_type": "code",
      "source": [
        "# setup device agnostic code\n",
        "\n",
        "device= \"cuda\" if torch.cuda.is_available() else \"cpu\"\n",
        "print(\"Using device:\",device)"
      ],
      "metadata": {
        "colab": {
          "base_uri": "https://localhost:8080/"
        },
        "id": "zvOTbTME8B1i",
        "outputId": "53568d5e-2b45-40b6-f594-04cb0dcff95a"
      },
      "execution_count": 165,
      "outputs": [
        {
          "output_type": "stream",
          "name": "stdout",
          "text": [
            "Using device: cpu\n"
          ]
        }
      ]
    },
    {
      "cell_type": "markdown",
      "source": [
        "### 6.1 Data (preparing and loading)\n",
        "\n"
      ],
      "metadata": {
        "id": "AZKZaFAP3ATi"
      }
    },
    {
      "cell_type": "code",
      "source": [
        "\n",
        "# Create some data using the linear regression formula of y=weight*X+bias\n",
        "weight = 0.7\n",
        "bias= 0.3\n",
        "\n",
        "# Create range values\n",
        "start= 0\n",
        "end = 1\n",
        "step= 0.02\n",
        "\n",
        "# Create X and Y (features and labels)\n",
        "X = torch.arange(start,end,step).unsqueeze(dim=1) # without unsqueeze, error will pop\n",
        "y= weight*X+bias\n",
        "len(X), len(y)\n",
        "X[:10],y[:10]"
      ],
      "metadata": {
        "colab": {
          "base_uri": "https://localhost:8080/"
        },
        "id": "ucr9PZSD6wtH",
        "outputId": "a87f747b-65fa-4f69-cb55-7e8ea95f1149"
      },
      "execution_count": 166,
      "outputs": [
        {
          "output_type": "execute_result",
          "data": {
            "text/plain": [
              "(tensor([[0.0000],\n",
              "         [0.0200],\n",
              "         [0.0400],\n",
              "         [0.0600],\n",
              "         [0.0800],\n",
              "         [0.1000],\n",
              "         [0.1200],\n",
              "         [0.1400],\n",
              "         [0.1600],\n",
              "         [0.1800]]),\n",
              " tensor([[0.3000],\n",
              "         [0.3140],\n",
              "         [0.3280],\n",
              "         [0.3420],\n",
              "         [0.3560],\n",
              "         [0.3700],\n",
              "         [0.3840],\n",
              "         [0.3980],\n",
              "         [0.4120],\n",
              "         [0.4260]]))"
            ]
          },
          "metadata": {},
          "execution_count": 166
        }
      ]
    },
    {
      "cell_type": "markdown",
      "source": [
        "# Split Data"
      ],
      "metadata": {
        "id": "FLPs1fwe_01x"
      }
    },
    {
      "cell_type": "code",
      "source": [
        "# split data\n",
        "\n",
        "train_split= int(0.8*len(X))\n",
        "X_train,y_train=X[:train_split],y[:train_split]\n",
        "X_test,y_test= X[train_split:],y[train_split:]\n",
        "len(X_train),len(y_train),len(X_test),len(y_test)"
      ],
      "metadata": {
        "colab": {
          "base_uri": "https://localhost:8080/"
        },
        "id": "4XqjRuM6AFKp",
        "outputId": "9a69e1be-c8f6-4600-c3ab-c0a8564f7362"
      },
      "execution_count": 167,
      "outputs": [
        {
          "output_type": "execute_result",
          "data": {
            "text/plain": [
              "(40, 40, 10, 10)"
            ]
          },
          "metadata": {},
          "execution_count": 167
        }
      ]
    },
    {
      "cell_type": "code",
      "source": [
        "plot_predictions(X_train,y_train,X_test,y_test)"
      ],
      "metadata": {
        "colab": {
          "base_uri": "https://localhost:8080/",
          "height": 530
        },
        "id": "PHDH8C3LIERz",
        "outputId": "26272820-889b-49a5-dd03-aad2dbc03e2f"
      },
      "execution_count": 168,
      "outputs": [
        {
          "output_type": "display_data",
          "data": {
            "text/plain": [
              "<Figure size 1000x700 with 1 Axes>"
            ],
            "image/png": "[encoded data removed]"
          },
          "metadata": {}
        }
      ]
    },
    {
      "cell_type": "code",
      "source": [
        "# Plot the Data\n",
        "# Note: if you don't have the plot_predictions() function loaded, this will error\n",
        "\n",
        "\n",
        "def plot_predictions(train_data= X_train,\n",
        "                     train_labels=y_train,\n",
        "                     test_data=X_test,\n",
        "                     test_labels= y_test,\n",
        "                     predictions=None):\n",
        "\n",
        "  plt.figure(figsize=(10,7))\n",
        "  plt.scatter(train_data,train_labels,c=\"b\",s=4,label=\"Training Data\")\n",
        "\n",
        "  plt.scatter(test_data,test_labels,c=\"g\",s=4, label=\"Testing Data\")\n",
        "\n",
        "  if predictions is not None:\n",
        "    plt.scatter(test_data,predictions,c=\"r\",s=4,label= \"predictions\")\n",
        "    plt.title(\"Ploting training and test Data\")\n",
        "    plt.legend(prop={\"size\":14});\n"
      ],
      "metadata": {
        "id": "lORXohPKA7KH"
      },
      "execution_count": 169,
      "outputs": []
    },
    {
      "cell_type": "code",
      "source": [
        "plot_predictions(X_train,y_train,X_test,y_test)"
      ],
      "metadata": {
        "colab": {
          "base_uri": "https://localhost:8080/",
          "height": 530
        },
        "id": "XJvNINqnDiuv",
        "outputId": "3a80139e-0e19-4f2d-c199-f04232fd38f6"
      },
      "execution_count": 170,
      "outputs": [
        {
          "output_type": "display_data",
          "data": {
            "text/plain": [
              "<Figure size 1000x700 with 1 Axes>"
            ],
            "image/png": "[encoded data removed]"
          },
          "metadata": {}
        }
      ]
    },
    {
      "cell_type": "markdown",
      "source": [
        "#6.2 Building a PyTorch Linear model"
      ],
      "metadata": {
        "id": "gki2NMPLEwx4"
      }
    },
    {
      "cell_type": "code",
      "source": [
        "\n",
        "#Create a linear model by subclassing nn.Module\n",
        "\n",
        "class LinearRegressionModelV2(nn.Module):\n",
        "  def  __init__(self):\n",
        "    super().__init__()\n",
        "    # Use nn.Linear() for Creating the model parameters / also called :linear transform,probing layer ,fully connected ,dense layer\n",
        "    self.linear_layer= nn.Linear(in_features=1,\n",
        "                                 out_features=1)\n",
        "\n",
        "\n",
        "    #self.weights= nn.parameter(torch.randn(1,\n",
        "    #                                        requires_grad=True,\n",
        "    #                                        dtype=torch.float))\n",
        "\n",
        "    #self.bias= nn.parameter(torch.randn(1,\n",
        "    #                                    requires_grad=True,\n",
        "    #                                    dtype=torch.float))\n",
        "\n",
        "  def forward(self,x:torch.Tensor)-> torch.Tensor:\n",
        "    return self.linear_layer(x)\n",
        "    #return self.weights*x+self.bias\n",
        "\n",
        "\n",
        "# set the manual seed\n",
        "\n",
        "torch.manual_seed(42)\n",
        "model_1= LinearRegressionModelV2()\n",
        "model_1,model_1.state_dict()\n"
      ],
      "metadata": {
        "colab": {
          "base_uri": "https://localhost:8080/"
        },
        "id": "dca2zVY1E99P",
        "outputId": "ecd5caff-1258-4ee3-da6f-51161b814c7f"
      },
      "execution_count": 171,
      "outputs": [
        {
          "output_type": "execute_result",
          "data": {
            "text/plain": [
              "(LinearRegressionModelV2(\n",
              "   (linear_layer): Linear(in_features=1, out_features=1, bias=True)\n",
              " ),\n",
              " OrderedDict([('linear_layer.weight', tensor([[0.7645]])),\n",
              "              ('linear_layer.bias', tensor([0.8300]))]))"
            ]
          },
          "metadata": {},
          "execution_count": 171
        }
      ]
    },
    {
      "cell_type": "code",
      "source": [
        "# Check the model current device\n",
        "next(model_1.parameters()).device\n"
      ],
      "metadata": {
        "colab": {
          "base_uri": "https://localhost:8080/"
        },
        "id": "cD0GcUBWN-Cz",
        "outputId": "4952d152-aea8-4e11-fff1-e555b5499a95"
      },
      "execution_count": 172,
      "outputs": [
        {
          "output_type": "execute_result",
          "data": {
            "text/plain": [
              "device(type='cpu')"
            ]
          },
          "metadata": {},
          "execution_count": 172
        }
      ]
    },
    {
      "cell_type": "code",
      "source": [
        "model_1.state_dict()"
      ],
      "metadata": {
        "colab": {
          "base_uri": "https://localhost:8080/"
        },
        "id": "C_gYcFN6Clfw",
        "outputId": "e9b9ae94-891f-4769-c189-f5d519682dd5"
      },
      "execution_count": 173,
      "outputs": [
        {
          "output_type": "execute_result",
          "data": {
            "text/plain": [
              "OrderedDict([('linear_layer.weight', tensor([[0.7645]])),\n",
              "             ('linear_layer.bias', tensor([0.8300]))])"
            ]
          },
          "metadata": {},
          "execution_count": 173
        }
      ]
    },
    {
      "cell_type": "code",
      "source": [
        "X_train[:5],y_train[:5]"
      ],
      "metadata": {
        "colab": {
          "base_uri": "https://localhost:8080/"
        },
        "id": "f4dFFwFyCs7J",
        "outputId": "c6cfc919-0df2-4e08-c278-40a95cd5cfc4"
      },
      "execution_count": 174,
      "outputs": [
        {
          "output_type": "execute_result",
          "data": {
            "text/plain": [
              "(tensor([[0.0000],\n",
              "         [0.0200],\n",
              "         [0.0400],\n",
              "         [0.0600],\n",
              "         [0.0800]]),\n",
              " tensor([[0.3000],\n",
              "         [0.3140],\n",
              "         [0.3280],\n",
              "         [0.3420],\n",
              "         [0.3560]]))"
            ]
          },
          "metadata": {},
          "execution_count": 174
        }
      ]
    },
    {
      "cell_type": "code",
      "source": [
        "# Check the model current device\n",
        "next(model_1.parameters()).device"
      ],
      "metadata": {
        "colab": {
          "base_uri": "https://localhost:8080/"
        },
        "id": "UqW1ZJTSNkc1",
        "outputId": "6e2bea35-439d-42e2-8f4a-24e618093611"
      },
      "execution_count": 175,
      "outputs": [
        {
          "output_type": "execute_result",
          "data": {
            "text/plain": [
              "device(type='cpu')"
            ]
          },
          "metadata": {},
          "execution_count": 175
        }
      ]
    },
    {
      "cell_type": "code",
      "source": [
        "# set the model to use the traget device\n",
        "model_1.to(device)\n",
        "next(model_1.parameters()).device"
      ],
      "metadata": {
        "colab": {
          "base_uri": "https://localhost:8080/"
        },
        "id": "g8FVXuJqPqPV",
        "outputId": "3697ccc7-1bdb-483f-a70c-d1a87edb0b2f"
      },
      "execution_count": 176,
      "outputs": [
        {
          "output_type": "execute_result",
          "data": {
            "text/plain": [
              "device(type='cpu')"
            ]
          },
          "metadata": {},
          "execution_count": 176
        }
      ]
    },
    {
      "cell_type": "code",
      "source": [
        "model_1.state_dict()"
      ],
      "metadata": {
        "colab": {
          "base_uri": "https://localhost:8080/"
        },
        "id": "Zcn-azMtQ8A9",
        "outputId": "8f320673-1e92-44f3-9cc3-f18c57af08ee"
      },
      "execution_count": 177,
      "outputs": [
        {
          "output_type": "execute_result",
          "data": {
            "text/plain": [
              "OrderedDict([('linear_layer.weight', tensor([[0.7645]])),\n",
              "             ('linear_layer.bias', tensor([0.8300]))])"
            ]
          },
          "metadata": {},
          "execution_count": 177
        }
      ]
    },
    {
      "cell_type": "markdown",
      "source": [
        "### 6.3 Training\n",
        "\n",
        "For training we need :\n",
        "* Loss function\n",
        "* Optimizer\n",
        "* Training loop\n",
        "* Testing Loop\n",
        "\n"
      ],
      "metadata": {
        "id": "0ZoMaeRbQYdd"
      }
    },
    {
      "cell_type": "code",
      "source": [
        "# Setup loss function\n",
        "loss_fn= nn.L1Loss()\n",
        "\n",
        "# setup our optimizer\n",
        "optimizer= torch.optim.SGD(params= model_1.parameters(),\n",
        "                           lr=0.01)"
      ],
      "metadata": {
        "id": "Pm6rILe6RJ_P"
      },
      "execution_count": 178,
      "outputs": []
    },
    {
      "cell_type": "code",
      "source": [
        "# Let's write a training loop\n",
        "torch.manual_seed(42)\n",
        "\n",
        "epochs=200\n",
        "\n",
        "# put data on the target device (device agnostic code for data)\n",
        "\n",
        "X_test= X_test.to(device)\n",
        "X_train=X_train.to(device)\n",
        "y_test= y_test.to(device)\n",
        "y_train= y_train.to(device)\n",
        "\n",
        "for epoch in range(epochs):\n",
        "  model_1.train() # training\n",
        "\n",
        "  y_pred= model_1(X_train) # forward Pass\n",
        "\n",
        "  loss=loss_fn(y_pred,y_train) # calculate the loss\n",
        "\n",
        "  optimizer.zero_grad()  # zero grad set\n",
        "\n",
        "  loss.backward() # backward propagation\n",
        "\n",
        "  optimizer.step() # step by step program\n",
        "\n",
        "  ## Testing\n",
        "  model_1.eval()\n",
        "  with torch.inference_mode():\n",
        "    test_pred=model_1(X_test)\n",
        "\n",
        "    test_loss= loss_fn(test_pred,y_test)\n",
        "\n",
        "  if epoch%10 == 0 :\n",
        "\n",
        "    print(f\"Epoch :{epoch} |Loss {loss} | Test loss values = {test_loss}\")\n",
        "\n"
      ],
      "metadata": {
        "id": "dVYElJpSSLqi",
        "colab": {
          "base_uri": "https://localhost:8080/"
        },
        "outputId": "7d52f27c-7dcf-4484-b153-3a2a607c6f60"
      },
      "execution_count": 179,
      "outputs": [
        {
          "output_type": "stream",
          "name": "stdout",
          "text": [
            "Epoch :0 |Loss 0.5551779866218567 | Test loss values = 0.5739762187004089\n",
            "Epoch :10 |Loss 0.4399680495262146 | Test loss values = 0.4392663538455963\n",
            "Epoch :20 |Loss 0.3247582018375397 | Test loss values = 0.30455657839775085\n",
            "Epoch :30 |Loss 0.20954827964305878 | Test loss values = 0.16984674334526062\n",
            "Epoch :40 |Loss 0.09433844685554504 | Test loss values = 0.03513689711689949\n",
            "Epoch :50 |Loss 0.023886386305093765 | Test loss values = 0.04784906655550003\n",
            "Epoch :60 |Loss 0.0199567973613739 | Test loss values = 0.04580312222242355\n",
            "Epoch :70 |Loss 0.016517987474799156 | Test loss values = 0.0375305712223053\n",
            "Epoch :80 |Loss 0.013089170679450035 | Test loss values = 0.029944902285933495\n",
            "Epoch :90 |Loss 0.009653178043663502 | Test loss values = 0.02167237363755703\n",
            "Epoch :100 |Loss 0.006215679459273815 | Test loss values = 0.014086711220443249\n",
            "Epoch :110 |Loss 0.002787243574857712 | Test loss values = 0.005814164876937866\n",
            "Epoch :120 |Loss 0.0012645035749301314 | Test loss values = 0.013801807537674904\n",
            "Epoch :130 |Loss 0.0012645035749301314 | Test loss values = 0.013801807537674904\n",
            "Epoch :140 |Loss 0.0012645035749301314 | Test loss values = 0.013801807537674904\n",
            "Epoch :150 |Loss 0.0012645035749301314 | Test loss values = 0.013801807537674904\n",
            "Epoch :160 |Loss 0.0012645035749301314 | Test loss values = 0.013801807537674904\n",
            "Epoch :170 |Loss 0.0012645035749301314 | Test loss values = 0.013801807537674904\n",
            "Epoch :180 |Loss 0.0012645035749301314 | Test loss values = 0.013801807537674904\n",
            "Epoch :190 |Loss 0.0012645035749301314 | Test loss values = 0.013801807537674904\n"
          ]
        }
      ]
    },
    {
      "cell_type": "code",
      "source": [
        "model_1.state_dict()"
      ],
      "metadata": {
        "id": "2SaJK-5USLmr",
        "colab": {
          "base_uri": "https://localhost:8080/"
        },
        "outputId": "964838a4-1852-4fad-ec29-28e98894ff4d"
      },
      "execution_count": 180,
      "outputs": [
        {
          "output_type": "execute_result",
          "data": {
            "text/plain": [
              "OrderedDict([('linear_layer.weight', tensor([[0.6968]])),\n",
              "             ('linear_layer.bias', tensor([0.3025]))])"
            ]
          },
          "metadata": {},
          "execution_count": 180
        }
      ]
    },
    {
      "cell_type": "code",
      "source": [
        "weight,bias"
      ],
      "metadata": {
        "colab": {
          "base_uri": "https://localhost:8080/"
        },
        "id": "uvcEKyVQ9lm4",
        "outputId": "ea375df8-72bb-472b-f6ee-a3dccc0a53c3"
      },
      "execution_count": 181,
      "outputs": [
        {
          "output_type": "execute_result",
          "data": {
            "text/plain": [
              "(0.7, 0.3)"
            ]
          },
          "metadata": {},
          "execution_count": 181
        }
      ]
    },
    {
      "cell_type": "markdown",
      "source": [
        "###6.4  Making and evaluating predictions\n",
        "\n"
      ],
      "metadata": {
        "id": "qXLCs-feQknT"
      }
    },
    {
      "cell_type": "code",
      "source": [
        "# Turn model into evaluation mode\n",
        "model_1.eval()\n",
        "\n",
        "# Make predictions on the test data\n",
        "with torch.inference_mode():\n",
        "  y_preds= model_1(X_test)\n",
        "y_preds\n"
      ],
      "metadata": {
        "colab": {
          "base_uri": "https://localhost:8080/"
        },
        "id": "YuUCIAo_Q5SB",
        "outputId": "17bbb0d8-c4d0-483d-f9d9-aec8b9b2e3b6"
      },
      "execution_count": 182,
      "outputs": [
        {
          "output_type": "execute_result",
          "data": {
            "text/plain": [
              "tensor([[0.8600],\n",
              "        [0.8739],\n",
              "        [0.8878],\n",
              "        [0.9018],\n",
              "        [0.9157],\n",
              "        [0.9296],\n",
              "        [0.9436],\n",
              "        [0.9575],\n",
              "        [0.9714],\n",
              "        [0.9854]])"
            ]
          },
          "metadata": {},
          "execution_count": 182
        }
      ]
    },
    {
      "cell_type": "code",
      "source": [
        "# Checking out our model predictiond visually\n",
        "plot_predictions(predictions=y_preds.cpu())"
      ],
      "metadata": {
        "colab": {
          "base_uri": "https://localhost:8080/",
          "height": 550
        },
        "id": "Hm_DQz4hR219",
        "outputId": "0fd86ad5-2900-44f8-a200-266d1bf8d009"
      },
      "execution_count": 183,
      "outputs": [
        {
          "output_type": "display_data",
          "data": {
            "text/plain": [
              "<Figure size 1000x700 with 1 Axes>"
            ],
            "image/png": "[encoded data removed]"
          },
          "metadata": {}
        }
      ]
    },
    {
      "cell_type": "markdown",
      "source": [
        "###6.5 Saving & loading a trained model"
      ],
      "metadata": {
        "id": "3oNptEVCi0xb"
      }
    },
    {
      "cell_type": "code",
      "source": [
        "from pathlib import Path\n",
        "# 1. Create models directory\n",
        "\n",
        "MODEL_PATH = Path(\"models\")\n",
        "MODEL_PATH.mkdir(parents= True ,exist_ok = True)\n",
        "\n",
        "# Create model save path\n",
        "\n",
        "MODEL_NAME= \"01_pytorch_workflow_model_1.pth\"\n",
        "MODEL_SAVE_PATH =MODEL_PATH/MODEL_NAME\n",
        "\n",
        "MODEL_SAVE_PATH\n",
        "\n",
        "# 3. Save the model state dict\n",
        "print(f\"Saving model to : {MODEL_SAVE_PATH}\")\n",
        "torch.save(obj=model_1.state_dict(),\n",
        "           f=MODEL_SAVE_PATH)"
      ],
      "metadata": {
        "colab": {
          "base_uri": "https://localhost:8080/"
        },
        "id": "PAzi1vIljwh1",
        "outputId": "1fa7bbbe-dc2b-460e-d60f-e9f15de40048"
      },
      "execution_count": 184,
      "outputs": [
        {
          "output_type": "stream",
          "name": "stdout",
          "text": [
            "Saving model to : models/01_pytorch_workflow_model_1.pth\n"
          ]
        }
      ]
    },
    {
      "cell_type": "code",
      "source": [
        "# load a pytorch model\n",
        "\n",
        "# Create a new instance of linear regression model V2\n",
        "loaded_model_1= LinearRegressionModelV2()\n",
        "\n",
        "# load the saved model_1 state dict\n",
        "\n",
        "loaded_model_1.load_state_dict(torch.load(MODEL_SAVE_PATH))\n",
        "\n",
        "\n",
        "# put the loaded model to device\n",
        "loaded_model_1.to(device)"
      ],
      "metadata": {
        "colab": {
          "base_uri": "https://localhost:8080/"
        },
        "id": "-_mvp5VrQb0E",
        "outputId": "46a5b331-0d23-4fe6-9cfd-ad17660351f1"
      },
      "execution_count": 185,
      "outputs": [
        {
          "output_type": "execute_result",
          "data": {
            "text/plain": [
              "LinearRegressionModelV2(\n",
              "  (linear_layer): Linear(in_features=1, out_features=1, bias=True)\n",
              ")"
            ]
          },
          "metadata": {},
          "execution_count": 185
        }
      ]
    },
    {
      "cell_type": "code",
      "source": [
        "next(loaded_model_1.parameters()).device"
      ],
      "metadata": {
        "colab": {
          "base_uri": "https://localhost:8080/"
        },
        "id": "7dH9pTc8RnEf",
        "outputId": "f8b4b91b-98f4-478b-ae23-f74717aff985"
      },
      "execution_count": 186,
      "outputs": [
        {
          "output_type": "execute_result",
          "data": {
            "text/plain": [
              "device(type='cpu')"
            ]
          },
          "metadata": {},
          "execution_count": 186
        }
      ]
    },
    {
      "cell_type": "code",
      "source": [
        "loaded_model_1.state_dict()"
      ],
      "metadata": {
        "colab": {
          "base_uri": "https://localhost:8080/"
        },
        "id": "eUF8z9F0PkGP",
        "outputId": "0441ba50-293e-48cd-dccc-62f0ef64489f"
      },
      "execution_count": 187,
      "outputs": [
        {
          "output_type": "execute_result",
          "data": {
            "text/plain": [
              "OrderedDict([('linear_layer.weight', tensor([[0.6968]])),\n",
              "             ('linear_layer.bias', tensor([0.3025]))])"
            ]
          },
          "metadata": {},
          "execution_count": 187
        }
      ]
    },
    {
      "cell_type": "code",
      "source": [
        "# evaluation loaded model\n",
        "loaded_model_1.eval()\n",
        "with torch.inference_mode():\n",
        "  loaded_model_1_preds=loaded_model_1(X_test)\n",
        "y_preds == loaded_model_1_preds"
      ],
      "metadata": {
        "colab": {
          "base_uri": "https://localhost:8080/"
        },
        "id": "H93VBYrsSEZB",
        "outputId": "b3ef66d7-57c1-40ed-8404-11fb60017d26"
      },
      "execution_count": 188,
      "outputs": [
        {
          "output_type": "execute_result",
          "data": {
            "text/plain": [
              "tensor([[True],\n",
              "        [True],\n",
              "        [True],\n",
              "        [True],\n",
              "        [True],\n",
              "        [True],\n",
              "        [True],\n",
              "        [True],\n",
              "        [True],\n",
              "        [True]])"
            ]
          },
          "metadata": {},
          "execution_count": 188
        }
      ]
    },
    {
      "cell_type": "markdown",
      "source": [
        "## EXERCISES"
      ],
      "metadata": {
        "id": "TsQ5XpGJalk3"
      }
    },
    {
      "cell_type": "code",
      "source": [
        "# import torch and matplotlib\n",
        "import torch\n",
        "import matplotlib.pyplot as plt\n",
        "from torch import nn\n",
        "torch.__version__"
      ],
      "metadata": {
        "colab": {
          "base_uri": "https://localhost:8080/",
          "height": 35
        },
        "id": "ndrpMCWIbHUE",
        "outputId": "a587cced-231f-414d-fabe-5a62889375fd"
      },
      "execution_count": 189,
      "outputs": [
        {
          "output_type": "execute_result",
          "data": {
            "text/plain": [
              "'2.1.0+cu121'"
            ],
            "application/vnd.google.colaboratory.intrinsic+json": {
              "type": "string"
            }
          },
          "metadata": {},
          "execution_count": 189
        }
      ]
    },
    {
      "cell_type": "code",
      "source": [
        "# setup devicee agnostic\n",
        "\n",
        "# device= \"cuda\" if torch.cuda.is_available() else \"cpu\"\n",
        "# device"
      ],
      "metadata": {
        "id": "IEOxl1t6b5JZ"
      },
      "execution_count": 190,
      "outputs": []
    },
    {
      "cell_type": "markdown",
      "source": [
        "## DATA"
      ],
      "metadata": {
        "id": "QRXeijzIcTEc"
      }
    },
    {
      "cell_type": "code",
      "source": [
        "weight =0.3\n",
        "bias= 0.9\n",
        "\n",
        "start= 0\n",
        "end = 1\n",
        "step= 0.01\n",
        "\n",
        "X= torch.arange(start,end,step).unsqueeze(dim= 1)\n",
        "y= weight*X+bias\n",
        "print(\"print the lenght of X \",len(X))\n",
        "print(\"print the lenght of y\", len(y))\n",
        "X[:10],y[:10]"
      ],
      "metadata": {
        "colab": {
          "base_uri": "https://localhost:8080/"
        },
        "id": "Ewcj_2cKcWvt",
        "outputId": "d5a5f5bf-7b58-4b9a-8ff5-bd46225bf3d7"
      },
      "execution_count": 191,
      "outputs": [
        {
          "output_type": "stream",
          "name": "stdout",
          "text": [
            "print the lenght of X  100\n",
            "print the lenght of y 100\n"
          ]
        },
        {
          "output_type": "execute_result",
          "data": {
            "text/plain": [
              "(tensor([[0.0000],\n",
              "         [0.0100],\n",
              "         [0.0200],\n",
              "         [0.0300],\n",
              "         [0.0400],\n",
              "         [0.0500],\n",
              "         [0.0600],\n",
              "         [0.0700],\n",
              "         [0.0800],\n",
              "         [0.0900]]),\n",
              " tensor([[0.9000],\n",
              "         [0.9030],\n",
              "         [0.9060],\n",
              "         [0.9090],\n",
              "         [0.9120],\n",
              "         [0.9150],\n",
              "         [0.9180],\n",
              "         [0.9210],\n",
              "         [0.9240],\n",
              "         [0.9270]]))"
            ]
          },
          "metadata": {},
          "execution_count": 191
        }
      ]
    },
    {
      "cell_type": "markdown",
      "source": [
        "# Split the data"
      ],
      "metadata": {
        "id": "HIMX05sfd-ay"
      }
    },
    {
      "cell_type": "code",
      "source": [
        "train_split= int(0.8*len(X))\n",
        "X_train,y_train= X[:train_split],y[:train_split]\n",
        "X_test,y_test= X[train_split:],y[train_split:]\n",
        "len(X_train),len(y_train),len(X_test),len(y_test)"
      ],
      "metadata": {
        "colab": {
          "base_uri": "https://localhost:8080/"
        },
        "id": "Y_wmphJneHRW",
        "outputId": "e22c9522-53f0-4c7d-8039-e147bc9decc2"
      },
      "execution_count": 192,
      "outputs": [
        {
          "output_type": "execute_result",
          "data": {
            "text/plain": [
              "(80, 80, 20, 20)"
            ]
          },
          "metadata": {},
          "execution_count": 192
        }
      ]
    },
    {
      "cell_type": "markdown",
      "source": [
        "# Plot the training and testing data"
      ],
      "metadata": {
        "id": "QDKFkdb4fXCM"
      }
    },
    {
      "cell_type": "code",
      "source": [
        "def plot_predictions(train_data= X_train,\n",
        "                     train_labels=y_train,\n",
        "                     test_data=X_test,\n",
        "                     test_labels= y_test,\n",
        "                     predictions= None):\n",
        "  plt.figure(figsize=(10,7))\n",
        "\n",
        "  plt.scatter(train_data,train_labels,c=\"b\",s=4,label= \"Training Data\")\n",
        "  plt.scatter(test_data,test_labels,c=\"g\",s=4,label=\"Testing Data\")\n",
        "\n",
        "  if predictions is not None:\n",
        "    plt.scatter(predictions,test_data,c=\"r\", s=4 ,label=\"predictions\")\n",
        "  plt.legend(prop={\"size\":14})\n"
      ],
      "metadata": {
        "id": "k0hR9Tuqfncj"
      },
      "execution_count": 193,
      "outputs": []
    },
    {
      "cell_type": "code",
      "source": [
        "plot_predictions()"
      ],
      "metadata": {
        "colab": {
          "base_uri": "https://localhost:8080/",
          "height": 525
        },
        "id": "4QOB83xBhYqE",
        "outputId": "97f48519-2384-416b-b18e-c4a24efcc1f9"
      },
      "execution_count": 194,
      "outputs": [
        {
          "output_type": "display_data",
          "data": {
            "text/plain": [
              "<Figure size 1000x700 with 1 Axes>"
            ],
            "image/png": "[encoded data removed]"
          },
          "metadata": {}
        }
      ]
    },
    {
      "cell_type": "markdown",
      "source": [
        "## Building Model"
      ],
      "metadata": {
        "id": "2aiVqQcshd5X"
      }
    },
    {
      "cell_type": "code",
      "source": [
        "class LinearRegressionModelV2(nn.Module):\n",
        "  def __init__(self):\n",
        "    super().__init__()\n",
        "    self.Linear_layer= nn.Linear(in_features=1,\n",
        "                                 out_features=1)\n",
        "\n",
        "  def forward(self,x:torch.Tensor) -> torch.Tensor:\n",
        "    return self.Linear_layer(x)\n"
      ],
      "metadata": {
        "id": "Xo9-fbmHig9Q"
      },
      "execution_count": 195,
      "outputs": []
    },
    {
      "cell_type": "code",
      "source": [
        "# Checking Content\n",
        "torch.manual_seed(42)\n",
        "\n",
        "model_2 = LinearRegressionModelV2()\n",
        "\n",
        "model_2,model_2.state_dict()"
      ],
      "metadata": {
        "colab": {
          "base_uri": "https://localhost:8080/"
        },
        "id": "DGMSTg4zjYQ0",
        "outputId": "35a2cf59-f873-465b-d16a-595bab033fbb"
      },
      "execution_count": 219,
      "outputs": [
        {
          "output_type": "execute_result",
          "data": {
            "text/plain": [
              "(LinearRegressionModelV2(\n",
              "   (Linear_layer): Linear(in_features=1, out_features=1, bias=True)\n",
              " ),\n",
              " OrderedDict([('Linear_layer.weight', tensor([[0.7645]])),\n",
              "              ('Linear_layer.bias', tensor([0.8300]))]))"
            ]
          },
          "metadata": {},
          "execution_count": 219
        }
      ]
    },
    {
      "cell_type": "code",
      "source": [
        "\n",
        "with torch.inference_mode():\n",
        "  y_preds=model_2(X_test)\n",
        "\n",
        "y_preds\n"
      ],
      "metadata": {
        "colab": {
          "base_uri": "https://localhost:8080/"
        },
        "id": "AIXbeR5wjzBk",
        "outputId": "24156ab3-d937-4a16-d317-4c65cbbc9623"
      },
      "execution_count": 218,
      "outputs": [
        {
          "output_type": "execute_result",
          "data": {
            "text/plain": [
              "tensor([[1.2566],\n",
              "        [1.2627],\n",
              "        [1.2687],\n",
              "        [1.2748],\n",
              "        [1.2809],\n",
              "        [1.2869],\n",
              "        [1.2930],\n",
              "        [1.2991],\n",
              "        [1.3052],\n",
              "        [1.3112],\n",
              "        [1.3173],\n",
              "        [1.3234],\n",
              "        [1.3294],\n",
              "        [1.3355],\n",
              "        [1.3416],\n",
              "        [1.3476],\n",
              "        [1.3537],\n",
              "        [1.3598],\n",
              "        [1.3658],\n",
              "        [1.3719]])"
            ]
          },
          "metadata": {},
          "execution_count": 218
        }
      ]
    },
    {
      "cell_type": "code",
      "source": [],
      "metadata": {
        "id": "H235zNc-tcr-"
      },
      "execution_count": 197,
      "outputs": []
    },
    {
      "cell_type": "code",
      "source": [
        "plot_predictions(predictions=y_preds)"
      ],
      "metadata": {
        "colab": {
          "base_uri": "https://localhost:8080/",
          "height": 525
        },
        "id": "43gC3js5kLvO",
        "outputId": "3a8978bf-33b0-42fc-f5f2-adf64dd222de"
      },
      "execution_count": 198,
      "outputs": [
        {
          "output_type": "display_data",
          "data": {
            "text/plain": [
              "<Figure size 1000x700 with 1 Axes>"
            ],
            "image/png": "[encoded data removed]"
          },
          "metadata": {}
        }
      ]
    },
    {
      "cell_type": "code",
      "source": [
        "'''\n",
        "next(model_2.parameters()).device\n",
        "model_2.to(device)\n",
        "next(model_2.parameters()).device\n",
        "'''"
      ],
      "metadata": {
        "colab": {
          "base_uri": "https://localhost:8080/",
          "height": 52
        },
        "id": "h2f2nJXBtgGp",
        "outputId": "256b3192-95ad-45c3-9c08-e3383f61d5ee"
      },
      "execution_count": 199,
      "outputs": [
        {
          "output_type": "execute_result",
          "data": {
            "text/plain": [
              "'\\nnext(model_2.parameters()).device\\nmodel_2.to(device)\\nnext(model_2.parameters()).device\\n'"
            ],
            "application/vnd.google.colaboratory.intrinsic+json": {
              "type": "string"
            }
          },
          "metadata": {},
          "execution_count": 199
        }
      ]
    },
    {
      "cell_type": "markdown",
      "source": [
        "## Training and testing model\n",
        "\n",
        "1. setup loss function\n",
        "2. setup optimizer\n",
        "3. training loop\n",
        "4. testing loop\n",
        "\n"
      ],
      "metadata": {
        "id": "TuYah-ChkjTO"
      }
    },
    {
      "cell_type": "code",
      "source": [
        "# setup loss function\n",
        "loss_fn= nn.L1Loss()\n",
        "\n",
        "# setup optimizer\n",
        "\n",
        "optimizer= torch.optim.SGD(params=model_2.parameters(),\n",
        "                           lr= 0.01)"
      ],
      "metadata": {
        "id": "JsByy1Ruk01v"
      },
      "execution_count": 227,
      "outputs": []
    },
    {
      "cell_type": "code",
      "source": [
        "# training loop\n",
        "\n",
        "torch.manual_seed(42)\n",
        "\n",
        "epochs= 300\n",
        "\n",
        "epoch_count=[]\n",
        "loss_values=[]\n",
        "test_loss_values=[]\n",
        "\n",
        "#X_train=X_train.to(device)\n",
        "#y_train=y_train.to(device)\n",
        "#X_test=X_test.to(device)\n",
        "#y_test=y_test.to(device)\n",
        "\n",
        "for epoch in range(epochs):\n",
        "  model_2.train() # training\n",
        "  y_pred= model_2(X_train) # foward pass\n",
        "  loss=loss_fn(y_pred,y_train)  #  Calculate the loss\n",
        "  optimizer.zero_grad() # Optimizer zero grad\n",
        "  loss.backward()  # back propagations\n",
        "  optimizer.step() # progress step by step\n",
        "  # testing\n",
        "\n",
        "  model_2.eval()\n",
        "  with torch.inference_mode():\n",
        "    test_pred= model_2(X_test)\n",
        "    test_loss = loss_fn(test_pred,y_test.type(torch.float))\n",
        "\n",
        "  if epoch % 10 == 0 :\n",
        "    epoch_count.append(epoch)\n",
        "    loss_values.append(loss.detach().numpy())\n",
        "    test_loss_values.append(test_loss.detach().numpy())\n",
        "    print(f\"Epoch : {epoch} |loss: {loss}| test_loss: {test_loss} \")\n",
        "\n",
        "print(model_2.state_dict())\n"
      ],
      "metadata": {
        "colab": {
          "base_uri": "https://localhost:8080/"
        },
        "id": "JPpkHjw9mSNa",
        "outputId": "0a81f7f7-76f1-4d3c-dd2c-b1920eca03a7"
      },
      "execution_count": 228,
      "outputs": [
        {
          "output_type": "stream",
          "name": "stdout",
          "text": [
            "Epoch : 0 |loss: 0.06503831595182419| test_loss: 0.15278442203998566 \n",
            "Epoch : 10 |loss: 0.06161315366625786| test_loss: 0.144792839884758 \n",
            "Epoch : 20 |loss: 0.058187104761600494| test_loss: 0.13680128753185272 \n",
            "Epoch : 30 |loss: 0.0547611229121685| test_loss: 0.12846574187278748 \n",
            "Epoch : 40 |loss: 0.05133599787950516| test_loss: 0.12047417461872101 \n",
            "Epoch : 50 |loss: 0.04790995270013809| test_loss: 0.11248259246349335 \n",
            "Epoch : 60 |loss: 0.044483937323093414| test_loss: 0.1041470542550087 \n",
            "Epoch : 70 |loss: 0.04105884209275246| test_loss: 0.09615547955036163 \n",
            "Epoch : 80 |loss: 0.037632763385772705| test_loss: 0.08816371113061905 \n",
            "Epoch : 90 |loss: 0.03420667722821236| test_loss: 0.08017189800739288 \n",
            "Epoch : 100 |loss: 0.030781561508774757| test_loss: 0.07183612883090973 \n",
            "Epoch : 110 |loss: 0.027355477213859558| test_loss: 0.06384433805942535 \n",
            "Epoch : 120 |loss: 0.02392939105629921| test_loss: 0.05585255101323128 \n",
            "Epoch : 130 |loss: 0.02050427906215191| test_loss: 0.04751678183674812 \n",
            "Epoch : 140 |loss: 0.01707819662988186| test_loss: 0.039524950087070465 \n",
            "Epoch : 150 |loss: 0.013652103953063488| test_loss: 0.03153316304087639 \n",
            "Epoch : 160 |loss: 0.010226991958916187| test_loss: 0.02319740131497383 \n",
            "Epoch : 170 |loss: 0.0068009039387106895| test_loss: 0.015205604024231434 \n",
            "Epoch : 180 |loss: 0.0033748201094567776| test_loss: 0.007213789038360119 \n",
            "Epoch : 190 |loss: 0.008815339766442776| test_loss: 0.00566934933885932 \n",
            "Epoch : 200 |loss: 0.008815339766442776| test_loss: 0.00566934933885932 \n",
            "Epoch : 210 |loss: 0.008815339766442776| test_loss: 0.00566934933885932 \n",
            "Epoch : 220 |loss: 0.008815339766442776| test_loss: 0.00566934933885932 \n",
            "Epoch : 230 |loss: 0.008815339766442776| test_loss: 0.00566934933885932 \n",
            "Epoch : 240 |loss: 0.008815339766442776| test_loss: 0.00566934933885932 \n",
            "Epoch : 250 |loss: 0.008815339766442776| test_loss: 0.00566934933885932 \n",
            "Epoch : 260 |loss: 0.008815339766442776| test_loss: 0.00566934933885932 \n",
            "Epoch : 270 |loss: 0.008815339766442776| test_loss: 0.00566934933885932 \n",
            "Epoch : 280 |loss: 0.008815339766442776| test_loss: 0.00566934933885932 \n",
            "Epoch : 290 |loss: 0.008815339766442776| test_loss: 0.00566934933885932 \n",
            "OrderedDict([('Linear_layer.weight', tensor([[0.3019]])), ('Linear_layer.bias', tensor([0.8904]))])\n"
          ]
        }
      ]
    },
    {
      "cell_type": "code",
      "source": [
        "with torch.inference_mode():\n",
        "  y_preds_new = model_2(X_test)\n",
        "y_preds_new"
      ],
      "metadata": {
        "colab": {
          "base_uri": "https://localhost:8080/"
        },
        "id": "UZnfehj14orv",
        "outputId": "d5085cb1-08e4-41a0-8583-b8ae770771e9"
      },
      "execution_count": 242,
      "outputs": [
        {
          "output_type": "execute_result",
          "data": {
            "text/plain": [
              "tensor([[1.1320],\n",
              "        [1.1350],\n",
              "        [1.1380],\n",
              "        [1.1410],\n",
              "        [1.1440],\n",
              "        [1.1470],\n",
              "        [1.1501],\n",
              "        [1.1531],\n",
              "        [1.1561],\n",
              "        [1.1591],\n",
              "        [1.1621],\n",
              "        [1.1652],\n",
              "        [1.1682],\n",
              "        [1.1712],\n",
              "        [1.1742],\n",
              "        [1.1772],\n",
              "        [1.1803],\n",
              "        [1.1833],\n",
              "        [1.1863],\n",
              "        [1.1893]])"
            ]
          },
          "metadata": {},
          "execution_count": 242
        }
      ]
    },
    {
      "cell_type": "code",
      "source": [
        "model_2.state_dict()"
      ],
      "metadata": {
        "colab": {
          "base_uri": "https://localhost:8080/"
        },
        "id": "PzuxdBus9Ls2",
        "outputId": "46afe24c-1588-4a9b-cc61-6c0c1bd8fcf9"
      },
      "execution_count": 243,
      "outputs": [
        {
          "output_type": "execute_result",
          "data": {
            "text/plain": [
              "OrderedDict([('Linear_layer.weight', tensor([[0.3019]])),\n",
              "             ('Linear_layer.bias', tensor([0.8904]))])"
            ]
          },
          "metadata": {},
          "execution_count": 243
        }
      ]
    },
    {
      "cell_type": "code",
      "source": [
        "weight,bias"
      ],
      "metadata": {
        "colab": {
          "base_uri": "https://localhost:8080/"
        },
        "id": "pT3U7hW89vpc",
        "outputId": "12b5b699-2137-43e0-d777-1b6756aa81c1"
      },
      "execution_count": 244,
      "outputs": [
        {
          "output_type": "execute_result",
          "data": {
            "text/plain": [
              "(0.3, 0.9)"
            ]
          },
          "metadata": {},
          "execution_count": 244
        }
      ]
    },
    {
      "cell_type": "code",
      "source": [
        "plot_predictions(predictions= y_preds_new)"
      ],
      "metadata": {
        "colab": {
          "base_uri": "https://localhost:8080/",
          "height": 525
        },
        "id": "RsiE3L6Q4tOH",
        "outputId": "8bbaef98-883a-4d9e-d2ab-5e7389082a1e"
      },
      "execution_count": 245,
      "outputs": [
        {
          "output_type": "display_data",
          "data": {
            "text/plain": [
              "<Figure size 1000x700 with 1 Axes>"
            ],
            "image/png": "[encoded data removed]"
          },
          "metadata": {}
        }
      ]
    },
    {
      "cell_type": "code",
      "source": [
        "plt.plot(epoch_count,loss_values,label= \"Training Loss\")\n",
        "plt.plot(epoch_count,test_loss_values,label =\"Test Loss\")\n",
        "plt.title(\"Training and Test loss curves\")\n",
        "plt.ylabel(\"Loss\")\n",
        "plt.xlabel(\"Epochs\")\n",
        "plt.legend();"
      ],
      "metadata": {
        "colab": {
          "base_uri": "https://localhost:8080/",
          "height": 472
        },
        "id": "ZW8zKaSI0Cd5",
        "outputId": "538f44a1-dffe-44f9-ce57-f20c9b9cf217"
      },
      "execution_count": 241,
      "outputs": [
        {
          "output_type": "display_data",
          "data": {
            "text/plain": [
              "<Figure size 640x480 with 1 Axes>"
            ],
            "image/png": "[encoded data removed]"
          },
          "metadata": {}
        }
      ]
    },
    {
      "cell_type": "code",
      "source": [
        "model_2.state_dict()"
      ],
      "metadata": {
        "colab": {
          "base_uri": "https://localhost:8080/"
        },
        "id": "VOK4xf6zvFer",
        "outputId": "5a1a033a-c31a-4356-97db-b2cc794780eb"
      },
      "execution_count": 217,
      "outputs": [
        {
          "output_type": "execute_result",
          "data": {
            "text/plain": [
              "OrderedDict([('Linear_layer.weight', tensor([[0.6069]])),\n",
              "             ('Linear_layer.bias', tensor([0.7711]))])"
            ]
          },
          "metadata": {},
          "execution_count": 217
        }
      ]
    },
    {
      "cell_type": "code",
      "source": [
        "weight,bias"
      ],
      "metadata": {
        "colab": {
          "base_uri": "https://localhost:8080/"
        },
        "id": "9w5WpqMbvK8e",
        "outputId": "0ca2f439-1966-4329-c509-3a347099aa43"
      },
      "execution_count": 204,
      "outputs": [
        {
          "output_type": "execute_result",
          "data": {
            "text/plain": [
              "(0.3, 0.9)"
            ]
          },
          "metadata": {},
          "execution_count": 204
        }
      ]
    },
    {
      "cell_type": "markdown",
      "source": [
        "Making predictions"
      ],
      "metadata": {
        "id": "o-hFMwT-vSKv"
      }
    },
    {
      "cell_type": "code",
      "source": [],
      "metadata": {
        "colab": {
          "base_uri": "https://localhost:8080/"
        },
        "id": "mIbQWUY5vW_C",
        "outputId": "1f9d6285-526d-4c74-8214-de573e2be662"
      },
      "execution_count": 207,
      "outputs": [
        {
          "output_type": "execute_result",
          "data": {
            "text/plain": [
              "tensor([[1.2828],\n",
              "        [1.2894],\n",
              "        [1.2960],\n",
              "        [1.3026],\n",
              "        [1.3092],\n",
              "        [1.3158],\n",
              "        [1.3224],\n",
              "        [1.3290],\n",
              "        [1.3356],\n",
              "        [1.3422],\n",
              "        [1.3488],\n",
              "        [1.3554],\n",
              "        [1.3620],\n",
              "        [1.3686],\n",
              "        [1.3752],\n",
              "        [1.3818],\n",
              "        [1.3884],\n",
              "        [1.3950],\n",
              "        [1.4016],\n",
              "        [1.4082]])"
            ]
          },
          "metadata": {},
          "execution_count": 207
        }
      ]
    },
    {
      "cell_type": "code",
      "source": [
        "plot_predictions(predictions= y_preds_new)"
      ],
      "metadata": {
        "colab": {
          "base_uri": "https://localhost:8080/",
          "height": 525
        },
        "id": "2L5hcKmNvo0x",
        "outputId": "a304ab00-adc3-4539-ca44-d5d6702dc134"
      },
      "execution_count": 246,
      "outputs": [
        {
          "output_type": "display_data",
          "data": {
            "text/plain": [
              "<Figure size 1000x700 with 1 Axes>"
            ],
            "image/png": "[encoded data removed]"
          },
          "metadata": {}
        }
      ]
    }
  ]
}