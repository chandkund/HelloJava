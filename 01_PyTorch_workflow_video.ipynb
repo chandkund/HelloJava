{
  "nbformat": 4,
  "nbformat_minor": 0,
  "metadata": {
    "colab": {
      "provenance": [],
      "authorship_tag": "ABX9TyPTLQLsZ6/dxnZ+kM4riv9Q",
      "include_colab_link": true
    },
    "kernelspec": {
      "name": "python3",
      "display_name": "Python 3"
    },
    "language_info": {
      "name": "python"
    }
  },
  "cells": [
    {
      "cell_type": "markdown",
      "metadata": {
        "id": "view-in-github",
        "colab_type": "text"
      },
      "source": [
        "<a href=\"https://colab.research.google.com/github/chandkund/HelloJava/blob/main/01_PyTorch_workflow_video.ipynb\" target=\"_parent\"><img src=\"https://colab.research.google.com/assets/colab-badge.svg\" alt=\"Open In Colab\"/></a>"
      ]
    },
    {
      "cell_type": "markdown",
      "source": [
        "# PyTorch workflow\n",
        "\n",
        "Let's explore a an example PyTorch end to end Workflow\n",
        "\n",
        "Resources:\n",
        "* Ground truth notebook - https://github.com/mrdbourke/pytorch-deep-learning/blob/main/01_pytorch_workflow.ipynb\n",
        "* Book version of notebook-  https://www.learnpytorch.io/01_pytorch_workflow/\n",
        "* Ask a question - https://github.com/mrdbourke/pytorch-deep-learning/discussions/categories/q-a"
      ],
      "metadata": {
        "id": "AE-_TV4NoHXr"
      }
    },
    {
      "cell_type": "code",
      "source": [
        " what_were_covering = {1:\" data (prepare and load)\",\n",
        "                       2:\"build model\",\n",
        "                       3:\"fitting the model to data(training)\",\n",
        "                       4:\"making predictions and evaluting a model(inference)\",\n",
        "                       5:\"saving and loading a model\",\n",
        "                       6:\"putting it all together\"}\n",
        "what_were_covering"
      ],
      "metadata": {
        "colab": {
          "base_uri": "https://localhost:8080/"
        },
        "id": "0lH0qYSArpdW",
        "outputId": "66b45cc3-611e-4c50-8a12-8b496182c304"
      },
      "execution_count": 2,
      "outputs": [
        {
          "output_type": "execute_result",
          "data": {
            "text/plain": [
              "{1: ' data (prepare and load)',\n",
              " 2: 'build model',\n",
              " 3: 'fitting the model to data(training)',\n",
              " 4: 'making predictions and evaluting a model(inference)',\n",
              " 5: 'saving and loading a model',\n",
              " 6: 'putting it all together'}"
            ]
          },
          "metadata": {},
          "execution_count": 2
        }
      ]
    },
    {
      "cell_type": "code",
      "source": [
        "import torch\n",
        "from torch import nn # nn contains all of PyTorch's building blocks for neural networks\n",
        "import matplotlib.pyplot as plt\n",
        "# import numpy as np\n",
        "\n",
        "# Check PyTorch Version\n",
        "torch.__version__\n",
        "\n",
        "\n",
        "\n"
      ],
      "metadata": {
        "colab": {
          "base_uri": "https://localhost:8080/",
          "height": 35
        },
        "id": "IPgXUtMhr0w0",
        "outputId": "e14fe21c-3310-4cfd-cc0b-3acf49b27b7f"
      },
      "execution_count": 3,
      "outputs": [
        {
          "output_type": "execute_result",
          "data": {
            "text/plain": [
              "'2.1.0+cu121'"
            ],
            "application/vnd.google.colaboratory.intrinsic+json": {
              "type": "string"
            }
          },
          "metadata": {},
          "execution_count": 3
        }
      ]
    },
    {
      "cell_type": "markdown",
      "source": [
        "##1. Data preparing and loading\n",
        "Data can be almost anything.... in machine learnig\n",
        "\n",
        "* Excel speadsheet\n",
        "* Images of any kind\n",
        "* Videos (youTube has lots of data)\n",
        "* Audio like songs or podcasts\n",
        "* DNA\n",
        "* Text\n",
        "\n",
        "Machine Learning is a game of two parts:\n",
        "1. Get data into a numerical representation\n",
        "2. Build a model to learn patterns in that numerical representation.\n",
        "\n",
        "To showcase this, Let's create same *Knows* data using the linear regression formula.\n",
        "\n",
        "We'll use a linear regression formula to make a straight line withn *known* **parameter**\n",
        "\n",
        "\n",
        "1. Formula\n",
        "\n",
        "* Y_i=f(X_i, \\beta)+e_i\n",
        "\n",
        "* Y_i\t=\tdependent variable\n",
        "\n",
        "* f\t=\tfunction\n",
        "\n",
        "* X_i\t=\tindependent variable\n",
        "\n",
        "* \\beta\t=\tunknown parameters\n",
        "\n",
        "* e_i\t=\terror terms\n",
        "\n",
        "\n",
        "A linear regression line has an equation of the form *Y= a+bX*, where *X* is the Explanatory variable and *Y* is the dependent variablel.The Slope of the line is *b* and *a* is the iintercept(the value of *y* when *x= 0*)"
      ],
      "metadata": {
        "id": "UFZQ5cWeug9R"
      }
    },
    {
      "cell_type": "code",
      "source": [
        "# create *known* parameters\n",
        "\n",
        "weight = 0.7  # b\n",
        "bias = 0.3   # a\n",
        "# formula of linear regression\n",
        "# Y = a+bX\n",
        "\n",
        "# Create\n",
        "start = 0\n",
        "end = 1\n",
        "step= 0.02\n",
        "X = torch.arange(start, end , step).unsqueeze(dim=1) # input\n",
        "y= weight*X+bias #\n",
        "print(X[:10])\n",
        "print(\"\\n\")\n",
        "print(y[:10])\n",
        "print(f\"Lenght of X:{len(X)}\")\n",
        "\n",
        "print(f\"Lenght of y:{len(y)}\")"
      ],
      "metadata": {
        "colab": {
          "base_uri": "https://localhost:8080/"
        },
        "id": "YDoRZDcXwGuK",
        "outputId": "5c8ab7a9-071a-4fa4-cdb9-8d28ee50f616"
      },
      "execution_count": 4,
      "outputs": [
        {
          "output_type": "stream",
          "name": "stdout",
          "text": [
            "tensor([[0.0000],\n",
            "        [0.0200],\n",
            "        [0.0400],\n",
            "        [0.0600],\n",
            "        [0.0800],\n",
            "        [0.1000],\n",
            "        [0.1200],\n",
            "        [0.1400],\n",
            "        [0.1600],\n",
            "        [0.1800]])\n",
            "\n",
            "\n",
            "tensor([[0.3000],\n",
            "        [0.3140],\n",
            "        [0.3280],\n",
            "        [0.3420],\n",
            "        [0.3560],\n",
            "        [0.3700],\n",
            "        [0.3840],\n",
            "        [0.3980],\n",
            "        [0.4120],\n",
            "        [0.4260]])\n",
            "Lenght of X:50\n",
            "Lenght of y:50\n"
          ]
        }
      ]
    },
    {
      "cell_type": "markdown",
      "source": [
        "2. Splitting our data into training and test sets (Possibly the most important concept in machine learning )\n",
        "\n",
        "\n",
        "Let's Create a training and  test set with our data."
      ],
      "metadata": {
        "id": "w-By3Mv73JnL"
      }
    },
    {
      "cell_type": "code",
      "source": [
        "# create a train /test  split\n",
        "train_split = int(0.8 * len(X))\n",
        "print(train_split)\n",
        "X_train,y_train= X[:train_split],y[:train_split]\n",
        "X_test,y_test=X[train_split:],y[train_split:]\n",
        "len(X_train) , len(y_train), len(X_test), len(y_test)\n"
      ],
      "metadata": {
        "colab": {
          "base_uri": "https://localhost:8080/"
        },
        "id": "cbTU3SmK4wEy",
        "outputId": "0635bad6-7b94-45b4-8199-54f9eca0e165"
      },
      "execution_count": 5,
      "outputs": [
        {
          "output_type": "stream",
          "name": "stdout",
          "text": [
            "40\n"
          ]
        },
        {
          "output_type": "execute_result",
          "data": {
            "text/plain": [
              "(40, 40, 10, 10)"
            ]
          },
          "metadata": {},
          "execution_count": 5
        }
      ]
    },
    {
      "cell_type": "markdown",
      "source": [
        "How might we better visualize our data?\n",
        "\n",
        "This is where the data explorer's motto comes in!\n",
        "\n",
        "\"Visualize\", \"Visualize\",\"Visualize\"\n"
      ],
      "metadata": {
        "id": "wvViWbTMKQtg"
      }
    },
    {
      "cell_type": "code",
      "source": [
        "def plot_predictions(train_data= X_train,\n",
        "                     train_labels= y_train,\n",
        "                     test_data= X_test,\n",
        "                     test_labels=y_test,\n",
        "                     predictions=None):\n",
        "\n",
        "# Plots training data ,test data and compares prediction.\n",
        "\n",
        " plt.figure(figsize=(10,7))\n",
        "\n",
        "# plot training data in blue\n",
        "\n",
        " plt.scatter(train_data,train_labels,c=\"b\",s=4, label= \"Training data\")\n",
        "\n",
        "# plot test data in green\n",
        " plt.scatter(test_data,test_labels,c=\"g\" ,s=4, label=\"Testing data\")\n",
        "\n",
        " # are there predictions?\n",
        " if predictions is not None:\n",
        "  # plot the predictions if they exist\n",
        "  plt.scatter(test_data,predictions, c=\"r\", s=4,label=\"predictions\")\n",
        "  plt.title(\"Ploting Training and test Data\")\n",
        "\n",
        "  # show the legend\n",
        "  plt.legend(prop={\"size\":14});\n",
        "\n",
        "\n",
        "'''\n",
        "predictions: This variable contains the predicted values corresponding to the test data.\n",
        "When you have a model that predicts outcomes based on the test data, predictions holds\n",
        "those predicted values.\n",
        "\n",
        "'''\n"
      ],
      "metadata": {
        "id": "nV5lcDgFLQA-",
        "colab": {
          "base_uri": "https://localhost:8080/",
          "height": 70
        },
        "outputId": "e1e2f022-ab69-4b93-fdc8-0022fd30613a"
      },
      "execution_count": 6,
      "outputs": [
        {
          "output_type": "execute_result",
          "data": {
            "text/plain": [
              "'\\npredictions: This variable contains the predicted values corresponding to the test data.\\nWhen you have a model that predicts outcomes based on the test data, predictions holds\\nthose predicted values.\\n\\n'"
            ],
            "application/vnd.google.colaboratory.intrinsic+json": {
              "type": "string"
            }
          },
          "metadata": {},
          "execution_count": 6
        }
      ]
    },
    {
      "cell_type": "code",
      "source": [
        "plot_predictions();"
      ],
      "metadata": {
        "colab": {
          "base_uri": "https://localhost:8080/",
          "height": 530
        },
        "id": "2AqfZrCWUUki",
        "outputId": "3d3d661d-380c-44d4-8bab-588d158eac76"
      },
      "execution_count": 7,
      "outputs": [
        {
          "output_type": "display_data",
          "data": {
            "text/plain": [
              "<Figure size 1000x700 with 1 Axes>"
            ],
            "image/png": "[encoded data removed]"
          },
          "metadata": {}
        }
      ]
    },
    {
      "cell_type": "markdown",
      "source": [
        "## 2. Build model\n",
        "Our first PyTorch model!\n",
        "\n",
        "This is very exciting.... let's do it!\n",
        "\n",
        "Because we're going to be building classeds throughout the course\n",
        "\n",
        "OOP\n",
        "following resource from Real python: https://realpython.com/python-classes/\n",
        "\n",
        "\n",
        "What our model does\n",
        "* start with random values (weight & bias )\n",
        "* look at training data and adjust the random values to better rreptresent (oor get closer to ) the ideal values (the weight & bias values we used to create the data )\n",
        "\n",
        "\n",
        "How does it do so?\n",
        "\n",
        "Throught two main algorithms:\n",
        "1. Gradient descent  https://youtu.be/IHZwWFHWa-w\n",
        "2. Backpropagation https://youtu.be//llg3gGewO5U"
      ],
      "metadata": {
        "id": "W2FTynM8WkNP"
      }
    },
    {
      "cell_type": "code",
      "source": [
        "'''\n",
        "nn.Parameter is a class in the PyTorch library (from the torch.nn module)\n",
        "that is used to automatically register parameters (tensors) as attributes of a nn.Module.\n",
        "\n",
        "'''\n",
        "from torch import nn\n",
        "# Create Linear regression model class\n",
        "class LinearRegressionModel(nn.Module): # <-almost everything in PyTorch inherhits from nn.module\n",
        "  def __init__(self):\n",
        "    super().__init__()\n",
        "    self.weights=nn.Parameter(torch.randn(1,    # <- start with a random weight and try to adjust it to the ideal weight\n",
        "                                         requires_grad= True, # <- can this parameter be updated via gradient descent ?\n",
        "                                         dtype =torch.float)) #<- PyTorch loves the datatype torch.float32\n",
        "\n",
        "    self.bias= nn.Parameter(torch.randn(1,   # <- start with a random weight and try to adjust it to the ideal weight\n",
        "                                        requires_grad=True,  # <- can this parameter be updated via gradient descent ?\n",
        "                                        dtype= torch.float)) #<- PyTorch loves the datatype torch.float32\n",
        "  # Forward method to define the computation in the model\n",
        "  def forward(self,x: torch.Tensor) -> torch.Tensor: # \"x\" is the input data\n",
        "    return self.weights * x +self.bias # this is linear regression formula\n",
        "\n",
        "\n"
      ],
      "metadata": {
        "id": "XfNbuKVuYmAY"
      },
      "execution_count": 8,
      "outputs": []
    },
    {
      "cell_type": "markdown",
      "source": [
        "### PyTorch model builing essentials\n",
        "* torch.nn - contains all of the buildings for computational graphs (a neural network can be considered a computational graphs)\n",
        "\n",
        "* torch.nn.parameter - what parameters should our model try and learn , often a PyTorch layer from torch.nn will set these for us\n",
        "\n",
        "*  torch.nn.Module- The base class for all neural network modules,if you subclass it, you should overwrite forward()\n",
        "\n",
        "*  torch.optim - this where the optimizers ini pyTorch live ,they will help with gradient descent\n",
        "\n",
        "*  def forword() - all nn.Module subclasses require you to overwrite forward(), this method defines what happens in the forward computation\n",
        "\n",
        "\n",
        "*  torch.utils.data.Dataset - Represents a map between key (label ) and sample  (features) pair of your data.\n",
        "  Such as images and their associated labels.\n",
        "\n",
        "*  torch.utils.data.DataLoader - Creates a Python iterable over a torch Dataset (allow you to iterate over your data )\n",
        "\n",
        "resources :https://pytorch.org/tutorials/beginner/ptcheat.html"
      ],
      "metadata": {
        "id": "GggzSAZNWpxx"
      }
    },
    {
      "cell_type": "markdown",
      "source": [
        "### Checking the contents of our PyTorch model\n",
        "\n",
        "Now we've created a model, let's see what's inside...\n",
        "\n",
        "So we can ckeck our model parameters or what's inside oer model using `.parameters()`."
      ],
      "metadata": {
        "id": "HhYfQfgkb7b8"
      }
    },
    {
      "cell_type": "code",
      "source": [
        "torch.manual_seed(1234)\n",
        "torch.randn(1)"
      ],
      "metadata": {
        "colab": {
          "base_uri": "https://localhost:8080/"
        },
        "id": "-4FBoJSYal78",
        "outputId": "61d11146-201a-4b4b-b1b3-102eb7484c19"
      },
      "execution_count": 9,
      "outputs": [
        {
          "output_type": "execute_result",
          "data": {
            "text/plain": [
              "tensor([0.0461])"
            ]
          },
          "metadata": {},
          "execution_count": 9
        }
      ]
    },
    {
      "cell_type": "code",
      "source": [
        "# Create a random seed\n",
        "\n",
        "torch.manual_seed(42)\n",
        "\n",
        "# create an instance of the model (this is a subclass of nn.model)\n",
        "model_0 = LinearRegressionModel()\n",
        "\n",
        "#Check out the parameters\n",
        "\n",
        "list(model_0.parameters())\n"
      ],
      "metadata": {
        "colab": {
          "base_uri": "https://localhost:8080/"
        },
        "id": "Gnilz0YBKvDI",
        "outputId": "2a65e02c-7e5b-445c-ed8f-16bcfec4cc88"
      },
      "execution_count": 9,
      "outputs": [
        {
          "output_type": "execute_result",
          "data": {
            "text/plain": [
              "[Parameter containing:\n",
              " tensor([0.3367], requires_grad=True),\n",
              " Parameter containing:\n",
              " tensor([0.1288], requires_grad=True)]"
            ]
          },
          "metadata": {},
          "execution_count": 9
        }
      ]
    },
    {
      "cell_type": "code",
      "source": [
        "# List named parameters\n",
        "model_0.state_dict()"
      ],
      "metadata": {
        "colab": {
          "base_uri": "https://localhost:8080/"
        },
        "id": "BbuC0sDvKuwb",
        "outputId": "52f7cba8-bab5-4c7e-89cf-31354f425e8e"
      },
      "execution_count": 10,
      "outputs": [
        {
          "output_type": "execute_result",
          "data": {
            "text/plain": [
              "OrderedDict([('weights', tensor([0.3367])), ('bias', tensor([0.1288]))])"
            ]
          },
          "metadata": {},
          "execution_count": 10
        }
      ]
    },
    {
      "cell_type": "code",
      "source": [
        "weight,bias"
      ],
      "metadata": {
        "colab": {
          "base_uri": "https://localhost:8080/"
        },
        "id": "8Mssd5K1dOma",
        "outputId": "fd9fa4c3-26d3-4a0a-bb39-45d190c5b2c7"
      },
      "execution_count": 11,
      "outputs": [
        {
          "output_type": "execute_result",
          "data": {
            "text/plain": [
              "(0.7, 0.3)"
            ]
          },
          "metadata": {},
          "execution_count": 11
        }
      ]
    },
    {
      "cell_type": "markdown",
      "source": [
        "### Making Prediction using `torch.inference_model()`\n",
        "\n",
        "To check our model's predictive power , let's see how well it predicts `y_test` based on `x_test`.\n",
        "\n",
        "When we pass data through our model, it's going to run it through the forword() method.\n",
        "\n"
      ],
      "metadata": {
        "id": "MpCM89HbdOdR"
      }
    },
    {
      "cell_type": "code",
      "source": [
        "# Make Predictions with model\n",
        "\n",
        "\n",
        "with torch.inference_mode():   # Stops PyTorch from tracking tensor views, reducing overhead and potentially improving performance.\n",
        "                               # Uses with statement for scoped activation and automatic deactivation upon exiting the block.\n",
        "\n",
        "  y_preds= model_0(X_test)     # # Perform inference without gradient calculation\n",
        "\n",
        "\n",
        "y_preds\n"
      ],
      "metadata": {
        "colab": {
          "base_uri": "https://localhost:8080/"
        },
        "id": "Lyz4oe_lf0fE",
        "outputId": "8a4890f8-d2d7-4a25-d0cb-b5b2e4b78ec4"
      },
      "execution_count": 12,
      "outputs": [
        {
          "output_type": "execute_result",
          "data": {
            "text/plain": [
              "tensor([[0.3982],\n",
              "        [0.4049],\n",
              "        [0.4116],\n",
              "        [0.4184],\n",
              "        [0.4251],\n",
              "        [0.4318],\n",
              "        [0.4386],\n",
              "        [0.4453],\n",
              "        [0.4520],\n",
              "        [0.4588]])"
            ]
          },
          "metadata": {},
          "execution_count": 12
        }
      ]
    },
    {
      "cell_type": "code",
      "source": [
        "y_test,"
      ],
      "metadata": {
        "colab": {
          "base_uri": "https://localhost:8080/"
        },
        "id": "xaYUbiGFk3P_",
        "outputId": "4195622f-0b7f-49c9-86bd-2eea944f4628"
      },
      "execution_count": 13,
      "outputs": [
        {
          "output_type": "execute_result",
          "data": {
            "text/plain": [
              "(tensor([[0.8600],\n",
              "         [0.8740],\n",
              "         [0.8880],\n",
              "         [0.9020],\n",
              "         [0.9160],\n",
              "         [0.9300],\n",
              "         [0.9440],\n",
              "         [0.9580],\n",
              "         [0.9720],\n",
              "         [0.9860]]),)"
            ]
          },
          "metadata": {},
          "execution_count": 13
        }
      ]
    },
    {
      "cell_type": "code",
      "source": [
        "plot_predictions(predictions= y_preds)"
      ],
      "metadata": {
        "id": "xC5WpmKzlOs3",
        "colab": {
          "base_uri": "https://localhost:8080/",
          "height": 550
        },
        "outputId": "8d31211e-5d3a-4f85-9d20-8a3e3f9aad30"
      },
      "execution_count": 14,
      "outputs": [
        {
          "output_type": "display_data",
          "data": {
            "text/plain": [
              "<Figure size 1000x700 with 1 Axes>"
            ],
            "image/png": "[encoded data removed]"
          },
          "metadata": {}
        }
      ]
    },
    {
      "cell_type": "markdown",
      "source": [
        "### 3.Train Model\n",
        "\n",
        "The Whole idea of training is for a model to move from some \"unknown\" parameters (these may be random) to some *known* parameters\n",
        "\n",
        "or in other words from a poor representation of the data to a better representation of the data\n",
        "\n",
        "\n",
        "one way to measure how poor or how wrong your models predictions are is to use a loss function\n",
        "\n",
        "* Note: Loss function may also be called cost function and criterioon in different area.For our case ,we're going to refer to it as a loss function.\n",
        "\n",
        "*  **Loss function:** A function to measure how wrong  your model's predictions are to the ideal outputs, lower is better. -- https://pytorch.org/docs/stable/nn.html\n",
        "\n",
        "*  **Optimizer:** Takes into account the loss of a model and adjust the model's parameters(e.g. weight & bias in our case ) to imporve the loss function -- https://pytorch.org/docs/stable/optim.html\n",
        "\n",
        "inside the optimizer you'll often have to set two parameters:\n",
        "*   params- the model parameters you'd like to optimizer, for example params= model_0.parameters()\n",
        "\n",
        "*   lr(learning rate) the learnig rate is a hyperparameter that define how big /small the optimizer change with each step (a small `lr` results in **small change**, a large `lr` result in **large changes**)\n",
        "\n",
        "And specifically for PyTorch, we need\n",
        "*  A training Loop\n",
        "*  A testinig Loop\n",
        "\n",
        "\n"
      ],
      "metadata": {
        "id": "IdezWqtRPnF4"
      }
    },
    {
      "cell_type": "code",
      "source": [
        "list(model_0.parameters())"
      ],
      "metadata": {
        "colab": {
          "base_uri": "https://localhost:8080/"
        },
        "id": "k51z4UY9UlhL",
        "outputId": "eb4a44bc-8891-41e3-c2d5-1dc2a20df268"
      },
      "execution_count": 15,
      "outputs": [
        {
          "output_type": "execute_result",
          "data": {
            "text/plain": [
              "[Parameter containing:\n",
              " tensor([0.3367], requires_grad=True),\n",
              " Parameter containing:\n",
              " tensor([0.1288], requires_grad=True)]"
            ]
          },
          "metadata": {},
          "execution_count": 15
        }
      ]
    },
    {
      "cell_type": "code",
      "source": [
        "'''\n",
        "\n",
        "The state_dict() method is particularly useful for saving and loading models'\n",
        "parameters or states, which includes weights, biases, and other learnable\n",
        "parameters, during training or after training for later use or inference.\n",
        "It captures the current state of the model's trainable parameters.\n",
        "\n",
        "'''\n",
        "# Check out our model's parameter (a parameter is a value that the model sets itself)\n",
        "model_0.state_dict()"
      ],
      "metadata": {
        "colab": {
          "base_uri": "https://localhost:8080/"
        },
        "id": "aEj7YN6GUw_9",
        "outputId": "92a6682f-f117-4c5c-ccff-33df67c348ec"
      },
      "execution_count": 16,
      "outputs": [
        {
          "output_type": "execute_result",
          "data": {
            "text/plain": [
              "OrderedDict([('weights', tensor([0.3367])), ('bias', tensor([0.1288]))])"
            ]
          },
          "metadata": {},
          "execution_count": 16
        }
      ]
    },
    {
      "cell_type": "code",
      "source": [
        "torch.optim\n"
      ],
      "metadata": {
        "colab": {
          "base_uri": "https://localhost:8080/"
        },
        "id": "SR1narVihlgW",
        "outputId": "8f9b1bd6-9a98-4686-bc74-29af2081780f"
      },
      "execution_count": 17,
      "outputs": [
        {
          "output_type": "execute_result",
          "data": {
            "text/plain": [
              "<module 'torch.optim' from '/usr/local/lib/python3.10/dist-packages/torch/optim/__init__.py'>"
            ]
          },
          "metadata": {},
          "execution_count": 17
        }
      ]
    },
    {
      "cell_type": "code",
      "source": [
        "# Setup a loss Function\n",
        "torch.optim\n",
        "\n",
        "loss_fn= nn.L1Loss()\n",
        "\n",
        "# Setup an Optimizer\n",
        "\n",
        "optimizer= torch.optim.SGD(params= model_0.parameters(),\n",
        "                           lr=0.01) # lr = learning rate = possibly the most important hyperparameter you can set\n",
        "\n",
        "\n"
      ],
      "metadata": {
        "id": "N2kle3yKZbHg"
      },
      "execution_count": 18,
      "outputs": []
    },
    {
      "cell_type": "markdown",
      "source": [
        "**Q** Which loss function and optimizer should I use ?\n",
        "\n",
        "**A**  This will be problem specific .But with experience , you'll get an idea of what works and what doesnot with your paticular problem set.\n",
        "\n",
        "For example, for a regression problem(like ours), a loss functions of `nn.L1Loss()` and an optimizer like torch.optim.SGD() will suffice.\n",
        "\n",
        "But for a classification problem like classifying whether a photo is of a dog or a cat , you'll likely want to use a loss function of nn.BCELoss() (binary cross entropy loss)\n",
        "\n",
        "\n",
        "\n"
      ],
      "metadata": {
        "id": "dMxpVrwUZar0"
      }
    },
    {
      "cell_type": "markdown",
      "source": [
        "### Building a training Loop (and a testing loop )in pytorch\n",
        "\n",
        "A couple of things we need in a training Loop:\n",
        "\n",
        "0. Loop through the data\n",
        "1. Forword Pass (this involves data moving through our model's `forward()` functions) to make predictions on data - also call forward propagation\n",
        "2. Calculate the loss(Compare forward pass predictions to ground thrut labels)\n",
        "3. Optimizer\n",
        "4. Loss Backward - move backwards through the network to calculate the gradients of each of the parameters of our model with respect to the Loss(**backpropagation:-** https://www.youtube.com/watch?v=tleHLnjs5U8)  \n",
        "5. Optimizer step - us ethe optimizer to adjust our model's paramters to try and improve the loss (**gradient descent:-** https://youtu.be/IHZwWFHWa-w)           \n",
        "                 "
      ],
      "metadata": {
        "id": "TD8c8UrR2QLa"
      }
    },
    {
      "cell_type": "code",
      "source": [],
      "metadata": {
        "id": "tQl68Orb-fH7"
      },
      "execution_count": null,
      "outputs": []
    },
    {
      "cell_type": "code",
      "source": [
        "torch.manual_seed(42)\n",
        "# An Epoch is one loop throught the data..(thsi is a hyperparameter because we've set it ourselves  ).\n",
        "# Track different values\n",
        "\n",
        "epoch_count= []\n",
        "loss_values=[]\n",
        "test_loss_values=[]\n",
        "\n",
        "epochs=200\n",
        "### training\n",
        "# 0. Loop through the data\n",
        "\n",
        "for epoch in range(epochs):\n",
        "  # set the mmodel to training mode\n",
        "  model_0.train() # train mode in PyTorch sets all parameters that require gradients\n",
        "  # 1. Forward Pass\n",
        "  y_preds= model_0(X_train)\n",
        "\n",
        "  # 2. Calculate the loss\n",
        "  loss = loss_fn(y_preds,y_train)\n",
        "  print(f\"Loss:{loss} \")\n",
        "\n",
        "  # 3.Optimizer zero grad\n",
        "  optimizer.zero_grad()\n",
        "\n",
        "  # 4 perform Backpropagation on the loss with repect to the parameters of the model\n",
        "  loss.backward()\n",
        "\n",
        "  # 5 step the optimizer (perform gradient descent)\n",
        "  optimizer.step() # By default how the optimizer changes will acculumate through the loop so... we have to zero them above in steps\n",
        "\n",
        "  ### Testing\n",
        "\n",
        "  model_0.eval() # turns off different settings in the model not needed for evaluation/testing (dropout/batch norm layers)\n",
        "\n",
        "  with torch.inference_mode(): # turns off gradient tracking & a couple more things behind the scense\n",
        "  # with torch.no_grad(): # you may also torch.no_grad() in order PyTorch.\n",
        "  # print out model.state_dict()\n",
        "\n",
        "  # 1. Do the forward pass\n",
        "     test_pred= model_0(X_test)\n",
        "\n",
        "  # 2. Calculate the Loss\n",
        "     test_loss= loss_fn(test_pred,y_test)\n",
        "\n",
        "  # print out what's happen in\n",
        "  if epoch % 10 == 0:\n",
        "    epoch_count.append(epoch)\n",
        "    loss_values.append(loss)\n",
        "    test_loss_values.append(test_loss)\n",
        "    print(f\"Epoch:{epoch} | Loss :{loss} | Test Loss : {test_loss}\")\n",
        "\n",
        "  # print out model.state_dict()\n",
        "    print(model_0.state_dict())\n",
        "\n"
      ],
      "metadata": {
        "colab": {
          "base_uri": "https://localhost:8080/"
        },
        "id": "TpCv2g8X9VhW",
        "outputId": "6dd448b4-1525-4d20-c8f8-f24f51fc08bb"
      },
      "execution_count": 19,
      "outputs": [
        {
          "output_type": "stream",
          "name": "stdout",
          "text": [
            "Loss:0.31288138031959534 \n",
            "Epoch:0 | Loss :0.31288138031959534 | Test Loss : 0.48106518387794495\n",
            "OrderedDict([('weights', tensor([0.3406])), ('bias', tensor([0.1388]))])\n",
            "Loss:0.3013603389263153 \n",
            "Loss:0.28983935713768005 \n",
            "Loss:0.2783183455467224 \n",
            "Loss:0.26679736375808716 \n",
            "Loss:0.2552763521671295 \n",
            "Loss:0.24375534057617188 \n",
            "Loss:0.23223432898521423 \n",
            "Loss:0.22071333229541779 \n",
            "Loss:0.20919232070446014 \n",
            "Loss:0.1976713240146637 \n",
            "Epoch:10 | Loss :0.1976713240146637 | Test Loss : 0.3463551998138428\n",
            "OrderedDict([('weights', tensor([0.3796])), ('bias', tensor([0.2388]))])\n",
            "Loss:0.18615034222602844 \n",
            "Loss:0.1746293306350708 \n",
            "Loss:0.16310831904411316 \n",
            "Loss:0.1515873372554779 \n",
            "Loss:0.14006635546684265 \n",
            "Loss:0.1285453587770462 \n",
            "Loss:0.11702437698841095 \n",
            "Loss:0.1060912236571312 \n",
            "Loss:0.09681284427642822 \n",
            "Loss:0.08908725529909134 \n",
            "Epoch:20 | Loss :0.08908725529909134 | Test Loss : 0.21729660034179688\n",
            "OrderedDict([('weights', tensor([0.4184])), ('bias', tensor([0.3333]))])\n",
            "Loss:0.08227583020925522 \n",
            "Loss:0.07638873159885406 \n",
            "Loss:0.07160007208585739 \n",
            "Loss:0.06747635453939438 \n",
            "Loss:0.06395438313484192 \n",
            "Loss:0.06097004935145378 \n",
            "Loss:0.05845819041132927 \n",
            "Loss:0.05635259300470352 \n",
            "Loss:0.0545857772231102 \n",
            "Loss:0.053148526698350906 \n",
            "Epoch:30 | Loss :0.053148526698350906 | Test Loss : 0.14464017748832703\n",
            "OrderedDict([('weights', tensor([0.4512])), ('bias', tensor([0.3768]))])\n",
            "Loss:0.05181945487856865 \n",
            "Loss:0.05069301277399063 \n",
            "Loss:0.0498228520154953 \n",
            "Loss:0.04895269125699997 \n",
            "Loss:0.04819351062178612 \n",
            "Loss:0.047531817108392715 \n",
            "Loss:0.04692792519927025 \n",
            "Loss:0.04642331600189209 \n",
            "Loss:0.04591871052980423 \n",
            "Loss:0.04543796554207802 \n",
            "Epoch:40 | Loss :0.04543796554207802 | Test Loss : 0.11360953003168106\n",
            "OrderedDict([('weights', tensor([0.4748])), ('bias', tensor([0.3868]))])\n",
            "Loss:0.04503796249628067 \n",
            "Loss:0.04463795945048332 \n",
            "Loss:0.04423796385526657 \n",
            "Loss:0.04383796453475952 \n",
            "Loss:0.04343796148896217 \n",
            "Loss:0.043074630200862885 \n",
            "Loss:0.04272563382983208 \n",
            "Loss:0.04237663000822067 \n",
            "Loss:0.04202762991189957 \n",
            "Loss:0.04167863354086876 \n",
            "Epoch:50 | Loss :0.04167863354086876 | Test Loss : 0.09919948130846024\n",
            "OrderedDict([('weights', tensor([0.4938])), ('bias', tensor([0.3843]))])\n",
            "Loss:0.04132963344454765 \n",
            "Loss:0.04098063334822655 \n",
            "Loss:0.04063162952661514 \n",
            "Loss:0.040282636880874634 \n",
            "Loss:0.039933640509843826 \n",
            "Loss:0.03958464413881302 \n",
            "Loss:0.03923564404249191 \n",
            "Loss:0.03888664394617081 \n",
            "Loss:0.0385376438498497 \n",
            "Loss:0.03818932920694351 \n",
            "Epoch:60 | Loss :0.03818932920694351 | Test Loss : 0.08886633068323135\n",
            "OrderedDict([('weights', tensor([0.5116])), ('bias', tensor([0.3788]))])\n",
            "Loss:0.03785243630409241 \n",
            "Loss:0.0375034399330616 \n",
            "Loss:0.037164121866226196 \n",
            "Loss:0.03681822493672371 \n",
            "Loss:0.03647511452436447 \n",
            "Loss:0.03613303601741791 \n",
            "Loss:0.03578609973192215 \n",
            "Loss:0.03544783592224121 \n",
            "Loss:0.035098835825920105 \n",
            "Loss:0.03476089984178543 \n",
            "Epoch:70 | Loss :0.03476089984178543 | Test Loss : 0.0805937647819519\n",
            "OrderedDict([('weights', tensor([0.5288])), ('bias', tensor([0.3718]))])\n",
            "Loss:0.03441363573074341 \n",
            "Loss:0.03407188132405281 \n",
            "Loss:0.03372843936085701 \n",
            "Loss:0.03338287025690079 \n",
            "Loss:0.033043231815099716 \n",
            "Loss:0.03269423171877861 \n",
            "Loss:0.032357655465602875 \n",
            "Loss:0.03200903534889221 \n",
            "Loss:0.03166864812374115 \n",
            "Loss:0.03132382780313492 \n",
            "Epoch:80 | Loss :0.03132382780313492 | Test Loss : 0.07232122868299484\n",
            "OrderedDict([('weights', tensor([0.5459])), ('bias', tensor([0.3648]))])\n",
            "Loss:0.030979642644524574 \n",
            "Loss:0.030638623982667923 \n",
            "Loss:0.0302906334400177 \n",
            "Loss:0.029953425750136375 \n",
            "Loss:0.02960442565381527 \n",
            "Loss:0.029265418648719788 \n",
            "Loss:0.028919223695993423 \n",
            "Loss:0.028576409444212914 \n",
            "Loss:0.028234025463461876 \n",
            "Loss:0.02788739837706089 \n",
            "Epoch:90 | Loss :0.02788739837706089 | Test Loss : 0.06473556160926819\n",
            "OrderedDict([('weights', tensor([0.5629])), ('bias', tensor([0.3573]))])\n",
            "Loss:0.02754882536828518 \n",
            "Loss:0.027199819684028625 \n",
            "Loss:0.026862185448408127 \n",
            "Loss:0.02651461586356163 \n",
            "Loss:0.026173178106546402 \n",
            "Loss:0.025829419493675232 \n",
            "Loss:0.02548416517674923 \n",
            "Loss:0.025144213810563087 \n",
            "Loss:0.02479521557688713 \n",
            "Loss:0.024458957836031914 \n",
            "Epoch:100 | Loss :0.024458957836031914 | Test Loss : 0.05646304413676262\n",
            "OrderedDict([('weights', tensor([0.5800])), ('bias', tensor([0.3503]))])\n",
            "Loss:0.024110013619065285 \n",
            "Loss:0.02376994863152504 \n",
            "Loss:0.02342480979859829 \n",
            "Loss:0.023080935701727867 \n",
            "Loss:0.022739607840776443 \n",
            "Loss:0.022391926497220993 \n",
            "Loss:0.022054409608244896 \n",
            "Loss:0.02170540764927864 \n",
            "Loss:0.021366719156503677 \n",
            "Loss:0.021020207554101944 \n",
            "Epoch:110 | Loss :0.021020207554101944 | Test Loss : 0.04819049686193466\n",
            "OrderedDict([('weights', tensor([0.5972])), ('bias', tensor([0.3433]))])\n",
            "Loss:0.020677709951996803 \n",
            "Loss:0.02033500373363495 \n",
            "Loss:0.01998869702219963 \n",
            "Loss:0.019649803638458252 \n",
            "Loss:0.019300809130072594 \n",
            "Loss:0.018963487818837166 \n",
            "Loss:0.01861560344696045 \n",
            "Loss:0.018274478614330292 \n",
            "Loss:0.017930403351783752 \n",
            "Loss:0.01758546568453312 \n",
            "Epoch:120 | Loss :0.01758546568453312 | Test Loss : 0.04060482233762741\n",
            "OrderedDict([('weights', tensor([0.6141])), ('bias', tensor([0.3358]))])\n",
            "Loss:0.017245199531316757 \n",
            "Loss:0.016896454617381096 \n",
            "Loss:0.01656000316143036 \n",
            "Loss:0.016210997477173805 \n",
            "Loss:0.01587124727666378 \n",
            "Loss:0.015525798313319683 \n",
            "Loss:0.015182236209511757 \n",
            "Loss:0.014840595424175262 \n",
            "Loss:0.01449323259294033 \n",
            "Loss:0.014155393466353416 \n",
            "Epoch:130 | Loss :0.014155393466353416 | Test Loss : 0.03233227878808975\n",
            "OrderedDict([('weights', tensor([0.6313])), ('bias', tensor([0.3288]))])\n",
            "Loss:0.013806397095322609 \n",
            "Loss:0.013468016870319843 \n",
            "Loss:0.013121193274855614 \n",
            "Loss:0.01277900766581297 \n",
            "Loss:0.012435992248356342 \n",
            "Loss:0.01208999752998352 \n",
            "Loss:0.011750795878469944 \n",
            "Loss:0.011401787400245667 \n",
            "Loss:0.011064787395298481 \n",
            "Loss:0.010716589167714119 \n",
            "Epoch:140 | Loss :0.010716589167714119 | Test Loss : 0.024059748277068138\n",
            "OrderedDict([('weights', tensor([0.6485])), ('bias', tensor([0.3218]))])\n",
            "Loss:0.010375778190791607 \n",
            "Loss:0.010031387209892273 \n",
            "Loss:0.009686763398349285 \n",
            "Loss:0.009346187114715576 \n",
            "Loss:0.008997755125164986 \n",
            "Loss:0.008660981431603432 \n",
            "Loss:0.008311985060572624 \n",
            "Loss:0.007972544990479946 \n",
            "Loss:0.007626785431057215 \n",
            "Loss:0.0072835334576666355 \n",
            "Epoch:150 | Loss :0.0072835334576666355 | Test Loss : 0.016474086791276932\n",
            "OrderedDict([('weights', tensor([0.6654])), ('bias', tensor([0.3143]))])\n",
            "Loss:0.006941580679267645 \n",
            "Loss:0.006594526115804911 \n",
            "Loss:0.006256377790123224 \n",
            "Loss:0.005907376762479544 \n",
            "Loss:0.005569315515458584 \n",
            "Loss:0.005222178064286709 \n",
            "Loss:0.004880306776612997 \n",
            "Loss:0.004536976106464863 \n",
            "Loss:0.00419129803776741 \n",
            "Loss:0.0038517764769494534 \n",
            "Epoch:160 | Loss :0.0038517764769494534 | Test Loss : 0.008201557211577892\n",
            "OrderedDict([('weights', tensor([0.6826])), ('bias', tensor([0.3073]))])\n",
            "Loss:0.0035027749836444855 \n",
            "Loss:0.0031660839449614286 \n",
            "Loss:0.002817571861669421 \n",
            "Loss:0.0024770735763013363 \n",
            "Loss:0.0021323717664927244 \n",
            "Loss:0.0017880648374557495 \n",
            "Loss:0.0014518328243866563 \n",
            "Loss:0.0011887758737429976 \n",
            "Loss:0.0025885067880153656 \n",
            "Loss:0.008932482451200485 \n",
            "Epoch:170 | Loss :0.008932482451200485 | Test Loss : 0.005023092031478882\n",
            "OrderedDict([('weights', tensor([0.6951])), ('bias', tensor([0.2993]))])\n",
            "Loss:0.0025885067880153656 \n",
            "Loss:0.008932482451200485 \n",
            "Loss:0.0025885067880153656 \n",
            "Loss:0.008932482451200485 \n",
            "Loss:0.0025885067880153656 \n",
            "Loss:0.008932482451200485 \n",
            "Loss:0.0025885067880153656 \n",
            "Loss:0.008932482451200485 \n",
            "Loss:0.0025885067880153656 \n",
            "Loss:0.008932482451200485 \n",
            "Epoch:180 | Loss :0.008932482451200485 | Test Loss : 0.005023092031478882\n",
            "OrderedDict([('weights', tensor([0.6951])), ('bias', tensor([0.2993]))])\n",
            "Loss:0.0025885067880153656 \n",
            "Loss:0.008932482451200485 \n",
            "Loss:0.0025885067880153656 \n",
            "Loss:0.008932482451200485 \n",
            "Loss:0.0025885067880153656 \n",
            "Loss:0.008932482451200485 \n",
            "Loss:0.0025885067880153656 \n",
            "Loss:0.008932482451200485 \n",
            "Loss:0.0025885067880153656 \n",
            "Loss:0.008932482451200485 \n",
            "Epoch:190 | Loss :0.008932482451200485 | Test Loss : 0.005023092031478882\n",
            "OrderedDict([('weights', tensor([0.6951])), ('bias', tensor([0.2993]))])\n",
            "Loss:0.0025885067880153656 \n",
            "Loss:0.008932482451200485 \n",
            "Loss:0.0025885067880153656 \n",
            "Loss:0.008932482451200485 \n",
            "Loss:0.0025885067880153656 \n",
            "Loss:0.008932482451200485 \n",
            "Loss:0.0025885067880153656 \n",
            "Loss:0.008932482451200485 \n",
            "Loss:0.0025885067880153656 \n"
          ]
        }
      ]
    },
    {
      "cell_type": "code",
      "source": [
        "with torch.inference_mode():\n",
        "  y_preds_new=model_0(X_test)\n"
      ],
      "metadata": {
        "id": "kwkrOfFXP_An"
      },
      "execution_count": 20,
      "outputs": []
    },
    {
      "cell_type": "code",
      "source": [
        "model_0.state_dict()"
      ],
      "metadata": {
        "colab": {
          "base_uri": "https://localhost:8080/"
        },
        "id": "g1ywItA9IcYp",
        "outputId": "ae27dea5-b37f-4c97-855e-5a1395056c5f"
      },
      "execution_count": 21,
      "outputs": [
        {
          "output_type": "execute_result",
          "data": {
            "text/plain": [
              "OrderedDict([('weights', tensor([0.6990])), ('bias', tensor([0.3093]))])"
            ]
          },
          "metadata": {},
          "execution_count": 21
        }
      ]
    },
    {
      "cell_type": "code",
      "source": [
        "# np.array(torch.tensor(plot_predictions(predictions=y_preds)).numpy())\n",
        "\n",
        "# np.array(torch.tensor(predictions=y_preds).numpy())"
      ],
      "metadata": {
        "id": "75tc4yepOe8P"
      },
      "execution_count": 22,
      "outputs": []
    },
    {
      "cell_type": "code",
      "source": [
        "weight,bias"
      ],
      "metadata": {
        "colab": {
          "base_uri": "https://localhost:8080/"
        },
        "id": "cu6YnR7hIb3W",
        "outputId": "182174fd-ec74-49f8-dcd3-1824bd6abc80"
      },
      "execution_count": 23,
      "outputs": [
        {
          "output_type": "execute_result",
          "data": {
            "text/plain": [
              "(0.7, 0.3)"
            ]
          },
          "metadata": {},
          "execution_count": 23
        }
      ]
    },
    {
      "cell_type": "code",
      "source": [
        "plot_predictions(predictions=y_preds_new);\n"
      ],
      "metadata": {
        "colab": {
          "base_uri": "https://localhost:8080/",
          "height": 550
        },
        "id": "1plsXnukRXi4",
        "outputId": "d6b82c4f-5bd9-4830-e089-379ec0cbfae8"
      },
      "execution_count": 24,
      "outputs": [
        {
          "output_type": "display_data",
          "data": {
            "text/plain": [
              "<Figure size 1000x700 with 1 Axes>"
            ],
            "image/png": "[encoded data removed]"
          },
          "metadata": {}
        }
      ]
    },
    {
      "cell_type": "code",
      "source": [
        "import numpy as np\n",
        "np.array(torch.tensor(loss_values).numpy()), test_loss_values"
      ],
      "metadata": {
        "id": "j9GOAt2q1Aq4",
        "colab": {
          "base_uri": "https://localhost:8080/"
        },
        "outputId": "4178a657-5619-4edd-93b4-214b4a0cda72"
      },
      "execution_count": 25,
      "outputs": [
        {
          "output_type": "execute_result",
          "data": {
            "text/plain": [
              "(array([0.31288138, 0.19767132, 0.08908726, 0.05314853, 0.04543797,\n",
              "        0.04167863, 0.03818933, 0.0347609 , 0.03132383, 0.0278874 ,\n",
              "        0.02445896, 0.02102021, 0.01758547, 0.01415539, 0.01071659,\n",
              "        0.00728353, 0.00385178, 0.00893248, 0.00893248, 0.00893248],\n",
              "       dtype=float32),\n",
              " [tensor(0.4811),\n",
              "  tensor(0.3464),\n",
              "  tensor(0.2173),\n",
              "  tensor(0.1446),\n",
              "  tensor(0.1136),\n",
              "  tensor(0.0992),\n",
              "  tensor(0.0889),\n",
              "  tensor(0.0806),\n",
              "  tensor(0.0723),\n",
              "  tensor(0.0647),\n",
              "  tensor(0.0565),\n",
              "  tensor(0.0482),\n",
              "  tensor(0.0406),\n",
              "  tensor(0.0323),\n",
              "  tensor(0.0241),\n",
              "  tensor(0.0165),\n",
              "  tensor(0.0082),\n",
              "  tensor(0.0050),\n",
              "  tensor(0.0050),\n",
              "  tensor(0.0050)])"
            ]
          },
          "metadata": {},
          "execution_count": 25
        }
      ]
    },
    {
      "cell_type": "code",
      "source": [
        "# plot the loss curves\n",
        "plt.plot(epoch_count,np.array(torch.tensor(loss_values).numpy()),label= \"Train Loss\")\n",
        "plt.plot(epoch_count, test_loss_values, label=\"Test Loss\")\n",
        "plt.title(\"Training and test loss curves\")\n",
        "plt.ylabel(\"Loss\")\n",
        "plt.xlabel(\"Epochs\")\n",
        "plt.legend();"
      ],
      "metadata": {
        "colab": {
          "base_uri": "https://localhost:8080/",
          "height": 472
        },
        "id": "Dv6ZdsK1gcfV",
        "outputId": "8a638ff4-b336-4cb8-cbd7-cece0d04e000"
      },
      "execution_count": 26,
      "outputs": [
        {
          "output_type": "display_data",
          "data": {
            "text/plain": [
              "<Figure size 640x480 with 1 Axes>"
            ],
            "image/png": "[encoded data removed]"
          },
          "metadata": {}
        }
      ]
    },
    {
      "cell_type": "code",
      "source": [
        "with torch.inference_mode():\n",
        "  y_preds_new=model_0(X_test)\n",
        "  model_0.state_dict()"
      ],
      "metadata": {
        "id": "6h9L6QzSgcRp"
      },
      "execution_count": 27,
      "outputs": []
    },
    {
      "cell_type": "code",
      "source": [
        "plot_predictions(predictions=y_preds)"
      ],
      "metadata": {
        "colab": {
          "base_uri": "https://localhost:8080/",
          "height": 870
        },
        "id": "goC5H4PkfX2x",
        "outputId": "21ff44b3-fff5-4d94-9996-a3880c6b91a1"
      },
      "execution_count": 28,
      "outputs": [
        {
          "output_type": "error",
          "ename": "RuntimeError",
          "evalue": "ignored",
          "traceback": [
            "\u001b[0;31m---------------------------------------------------------------------------\u001b[0m",
            "\u001b[0;31mRuntimeError\u001b[0m                              Traceback (most recent call last)",
            "\u001b[0;32m<ipython-input-28-ee0e1d63918e>\u001b[0m in \u001b[0;36m<cell line: 1>\u001b[0;34m()\u001b[0m\n\u001b[0;32m----> 1\u001b[0;31m \u001b[0mplot_predictions\u001b[0m\u001b[0;34m(\u001b[0m\u001b[0mpredictions\u001b[0m\u001b[0;34m=\u001b[0m\u001b[0my_preds\u001b[0m\u001b[0;34m)\u001b[0m\u001b[0;34m\u001b[0m\u001b[0;34m\u001b[0m\u001b[0m\n\u001b[0m",
            "\u001b[0;32m<ipython-input-6-ef2e3c8daab5>\u001b[0m in \u001b[0;36mplot_predictions\u001b[0;34m(train_data, train_labels, test_data, test_labels, predictions)\u001b[0m\n\u001b[1;32m     19\u001b[0m  \u001b[0;32mif\u001b[0m \u001b[0mpredictions\u001b[0m \u001b[0;32mis\u001b[0m \u001b[0;32mnot\u001b[0m \u001b[0;32mNone\u001b[0m\u001b[0;34m:\u001b[0m\u001b[0;34m\u001b[0m\u001b[0;34m\u001b[0m\u001b[0m\n\u001b[1;32m     20\u001b[0m   \u001b[0;31m# plot the predictions if they exist\u001b[0m\u001b[0;34m\u001b[0m\u001b[0;34m\u001b[0m\u001b[0m\n\u001b[0;32m---> 21\u001b[0;31m   \u001b[0mplt\u001b[0m\u001b[0;34m.\u001b[0m\u001b[0mscatter\u001b[0m\u001b[0;34m(\u001b[0m\u001b[0mtest_data\u001b[0m\u001b[0;34m,\u001b[0m\u001b[0mpredictions\u001b[0m\u001b[0;34m,\u001b[0m \u001b[0mc\u001b[0m\u001b[0;34m=\u001b[0m\u001b[0;34m\"r\"\u001b[0m\u001b[0;34m,\u001b[0m \u001b[0ms\u001b[0m\u001b[0;34m=\u001b[0m\u001b[0;36m4\u001b[0m\u001b[0;34m,\u001b[0m\u001b[0mlabel\u001b[0m\u001b[0;34m=\u001b[0m\u001b[0;34m\"predictions\"\u001b[0m\u001b[0;34m)\u001b[0m\u001b[0;34m\u001b[0m\u001b[0;34m\u001b[0m\u001b[0m\n\u001b[0m\u001b[1;32m     22\u001b[0m   \u001b[0mplt\u001b[0m\u001b[0;34m.\u001b[0m\u001b[0mtitle\u001b[0m\u001b[0;34m(\u001b[0m\u001b[0;34m\"Ploting Training and test Data\"\u001b[0m\u001b[0;34m)\u001b[0m\u001b[0;34m\u001b[0m\u001b[0;34m\u001b[0m\u001b[0m\n\u001b[1;32m     23\u001b[0m \u001b[0;34m\u001b[0m\u001b[0m\n",
            "\u001b[0;32m/usr/local/lib/python3.10/dist-packages/matplotlib/pyplot.py\u001b[0m in \u001b[0;36mscatter\u001b[0;34m(x, y, s, c, marker, cmap, norm, vmin, vmax, alpha, linewidths, edgecolors, plotnonfinite, data, **kwargs)\u001b[0m\n\u001b[1;32m   2860\u001b[0m         \u001b[0mvmin\u001b[0m\u001b[0;34m=\u001b[0m\u001b[0;32mNone\u001b[0m\u001b[0;34m,\u001b[0m \u001b[0mvmax\u001b[0m\u001b[0;34m=\u001b[0m\u001b[0;32mNone\u001b[0m\u001b[0;34m,\u001b[0m \u001b[0malpha\u001b[0m\u001b[0;34m=\u001b[0m\u001b[0;32mNone\u001b[0m\u001b[0;34m,\u001b[0m \u001b[0mlinewidths\u001b[0m\u001b[0;34m=\u001b[0m\u001b[0;32mNone\u001b[0m\u001b[0;34m,\u001b[0m \u001b[0;34m*\u001b[0m\u001b[0;34m,\u001b[0m\u001b[0;34m\u001b[0m\u001b[0;34m\u001b[0m\u001b[0m\n\u001b[1;32m   2861\u001b[0m         edgecolors=None, plotnonfinite=False, data=None, **kwargs):\n\u001b[0;32m-> 2862\u001b[0;31m     __ret = gca().scatter(\n\u001b[0m\u001b[1;32m   2863\u001b[0m         \u001b[0mx\u001b[0m\u001b[0;34m,\u001b[0m \u001b[0my\u001b[0m\u001b[0;34m,\u001b[0m \u001b[0ms\u001b[0m\u001b[0;34m=\u001b[0m\u001b[0ms\u001b[0m\u001b[0;34m,\u001b[0m \u001b[0mc\u001b[0m\u001b[0;34m=\u001b[0m\u001b[0mc\u001b[0m\u001b[0;34m,\u001b[0m \u001b[0mmarker\u001b[0m\u001b[0;34m=\u001b[0m\u001b[0mmarker\u001b[0m\u001b[0;34m,\u001b[0m \u001b[0mcmap\u001b[0m\u001b[0;34m=\u001b[0m\u001b[0mcmap\u001b[0m\u001b[0;34m,\u001b[0m \u001b[0mnorm\u001b[0m\u001b[0;34m=\u001b[0m\u001b[0mnorm\u001b[0m\u001b[0;34m,\u001b[0m\u001b[0;34m\u001b[0m\u001b[0;34m\u001b[0m\u001b[0m\n\u001b[1;32m   2864\u001b[0m         \u001b[0mvmin\u001b[0m\u001b[0;34m=\u001b[0m\u001b[0mvmin\u001b[0m\u001b[0;34m,\u001b[0m \u001b[0mvmax\u001b[0m\u001b[0;34m=\u001b[0m\u001b[0mvmax\u001b[0m\u001b[0;34m,\u001b[0m \u001b[0malpha\u001b[0m\u001b[0;34m=\u001b[0m\u001b[0malpha\u001b[0m\u001b[0;34m,\u001b[0m \u001b[0mlinewidths\u001b[0m\u001b[0;34m=\u001b[0m\u001b[0mlinewidths\u001b[0m\u001b[0;34m,\u001b[0m\u001b[0;34m\u001b[0m\u001b[0;34m\u001b[0m\u001b[0m\n",
            "\u001b[0;32m/usr/local/lib/python3.10/dist-packages/matplotlib/__init__.py\u001b[0m in \u001b[0;36minner\u001b[0;34m(ax, data, *args, **kwargs)\u001b[0m\n\u001b[1;32m   1440\u001b[0m     \u001b[0;32mdef\u001b[0m \u001b[0minner\u001b[0m\u001b[0;34m(\u001b[0m\u001b[0max\u001b[0m\u001b[0;34m,\u001b[0m \u001b[0;34m*\u001b[0m\u001b[0margs\u001b[0m\u001b[0;34m,\u001b[0m \u001b[0mdata\u001b[0m\u001b[0;34m=\u001b[0m\u001b[0;32mNone\u001b[0m\u001b[0;34m,\u001b[0m \u001b[0;34m**\u001b[0m\u001b[0mkwargs\u001b[0m\u001b[0;34m)\u001b[0m\u001b[0;34m:\u001b[0m\u001b[0;34m\u001b[0m\u001b[0;34m\u001b[0m\u001b[0m\n\u001b[1;32m   1441\u001b[0m         \u001b[0;32mif\u001b[0m \u001b[0mdata\u001b[0m \u001b[0;32mis\u001b[0m \u001b[0;32mNone\u001b[0m\u001b[0;34m:\u001b[0m\u001b[0;34m\u001b[0m\u001b[0;34m\u001b[0m\u001b[0m\n\u001b[0;32m-> 1442\u001b[0;31m             \u001b[0;32mreturn\u001b[0m \u001b[0mfunc\u001b[0m\u001b[0;34m(\u001b[0m\u001b[0max\u001b[0m\u001b[0;34m,\u001b[0m \u001b[0;34m*\u001b[0m\u001b[0mmap\u001b[0m\u001b[0;34m(\u001b[0m\u001b[0msanitize_sequence\u001b[0m\u001b[0;34m,\u001b[0m \u001b[0margs\u001b[0m\u001b[0;34m)\u001b[0m\u001b[0;34m,\u001b[0m \u001b[0;34m**\u001b[0m\u001b[0mkwargs\u001b[0m\u001b[0;34m)\u001b[0m\u001b[0;34m\u001b[0m\u001b[0;34m\u001b[0m\u001b[0m\n\u001b[0m\u001b[1;32m   1443\u001b[0m \u001b[0;34m\u001b[0m\u001b[0m\n\u001b[1;32m   1444\u001b[0m         \u001b[0mbound\u001b[0m \u001b[0;34m=\u001b[0m \u001b[0mnew_sig\u001b[0m\u001b[0;34m.\u001b[0m\u001b[0mbind\u001b[0m\u001b[0;34m(\u001b[0m\u001b[0max\u001b[0m\u001b[0;34m,\u001b[0m \u001b[0;34m*\u001b[0m\u001b[0margs\u001b[0m\u001b[0;34m,\u001b[0m \u001b[0;34m**\u001b[0m\u001b[0mkwargs\u001b[0m\u001b[0;34m)\u001b[0m\u001b[0;34m\u001b[0m\u001b[0;34m\u001b[0m\u001b[0m\n",
            "\u001b[0;32m/usr/local/lib/python3.10/dist-packages/matplotlib/axes/_axes.py\u001b[0m in \u001b[0;36mscatter\u001b[0;34m(self, x, y, s, c, marker, cmap, norm, vmin, vmax, alpha, linewidths, edgecolors, plotnonfinite, **kwargs)\u001b[0m\n\u001b[1;32m   4580\u001b[0m         \u001b[0;31m# unless its argument is a masked array.\u001b[0m\u001b[0;34m\u001b[0m\u001b[0;34m\u001b[0m\u001b[0m\n\u001b[1;32m   4581\u001b[0m         \u001b[0mx\u001b[0m \u001b[0;34m=\u001b[0m \u001b[0mnp\u001b[0m\u001b[0;34m.\u001b[0m\u001b[0mma\u001b[0m\u001b[0;34m.\u001b[0m\u001b[0mravel\u001b[0m\u001b[0;34m(\u001b[0m\u001b[0mx\u001b[0m\u001b[0;34m)\u001b[0m\u001b[0;34m\u001b[0m\u001b[0;34m\u001b[0m\u001b[0m\n\u001b[0;32m-> 4582\u001b[0;31m         \u001b[0my\u001b[0m \u001b[0;34m=\u001b[0m \u001b[0mnp\u001b[0m\u001b[0;34m.\u001b[0m\u001b[0mma\u001b[0m\u001b[0;34m.\u001b[0m\u001b[0mravel\u001b[0m\u001b[0;34m(\u001b[0m\u001b[0my\u001b[0m\u001b[0;34m)\u001b[0m\u001b[0;34m\u001b[0m\u001b[0;34m\u001b[0m\u001b[0m\n\u001b[0m\u001b[1;32m   4583\u001b[0m         \u001b[0;32mif\u001b[0m \u001b[0mx\u001b[0m\u001b[0;34m.\u001b[0m\u001b[0msize\u001b[0m \u001b[0;34m!=\u001b[0m \u001b[0my\u001b[0m\u001b[0;34m.\u001b[0m\u001b[0msize\u001b[0m\u001b[0;34m:\u001b[0m\u001b[0;34m\u001b[0m\u001b[0;34m\u001b[0m\u001b[0m\n\u001b[1;32m   4584\u001b[0m             \u001b[0;32mraise\u001b[0m \u001b[0mValueError\u001b[0m\u001b[0;34m(\u001b[0m\u001b[0;34m\"x and y must be the same size\"\u001b[0m\u001b[0;34m)\u001b[0m\u001b[0;34m\u001b[0m\u001b[0;34m\u001b[0m\u001b[0m\n",
            "\u001b[0;32m/usr/local/lib/python3.10/dist-packages/numpy/ma/core.py\u001b[0m in \u001b[0;36m__call__\u001b[0;34m(self, a, *args, **params)\u001b[0m\n\u001b[1;32m   6819\u001b[0m             \u001b[0ma\u001b[0m\u001b[0;34m,\u001b[0m \u001b[0margs\u001b[0m\u001b[0;34m[\u001b[0m\u001b[0;36m0\u001b[0m\u001b[0;34m]\u001b[0m \u001b[0;34m=\u001b[0m \u001b[0margs\u001b[0m\u001b[0;34m[\u001b[0m\u001b[0;36m0\u001b[0m\u001b[0;34m]\u001b[0m\u001b[0;34m,\u001b[0m \u001b[0ma\u001b[0m\u001b[0;34m\u001b[0m\u001b[0;34m\u001b[0m\u001b[0m\n\u001b[1;32m   6820\u001b[0m \u001b[0;34m\u001b[0m\u001b[0m\n\u001b[0;32m-> 6821\u001b[0;31m         \u001b[0mmarr\u001b[0m \u001b[0;34m=\u001b[0m \u001b[0masanyarray\u001b[0m\u001b[0;34m(\u001b[0m\u001b[0ma\u001b[0m\u001b[0;34m)\u001b[0m\u001b[0;34m\u001b[0m\u001b[0;34m\u001b[0m\u001b[0m\n\u001b[0m\u001b[1;32m   6822\u001b[0m         \u001b[0mmethod_name\u001b[0m \u001b[0;34m=\u001b[0m \u001b[0mself\u001b[0m\u001b[0;34m.\u001b[0m\u001b[0m__name__\u001b[0m\u001b[0;34m\u001b[0m\u001b[0;34m\u001b[0m\u001b[0m\n\u001b[1;32m   6823\u001b[0m         \u001b[0mmethod\u001b[0m \u001b[0;34m=\u001b[0m \u001b[0mgetattr\u001b[0m\u001b[0;34m(\u001b[0m\u001b[0mtype\u001b[0m\u001b[0;34m(\u001b[0m\u001b[0mmarr\u001b[0m\u001b[0;34m)\u001b[0m\u001b[0;34m,\u001b[0m \u001b[0mmethod_name\u001b[0m\u001b[0;34m,\u001b[0m \u001b[0;32mNone\u001b[0m\u001b[0;34m)\u001b[0m\u001b[0;34m\u001b[0m\u001b[0;34m\u001b[0m\u001b[0m\n",
            "\u001b[0;32m/usr/local/lib/python3.10/dist-packages/numpy/ma/core.py\u001b[0m in \u001b[0;36masanyarray\u001b[0;34m(a, dtype)\u001b[0m\n\u001b[1;32m   8051\u001b[0m     \u001b[0;32mif\u001b[0m \u001b[0misinstance\u001b[0m\u001b[0;34m(\u001b[0m\u001b[0ma\u001b[0m\u001b[0;34m,\u001b[0m \u001b[0mMaskedArray\u001b[0m\u001b[0;34m)\u001b[0m \u001b[0;32mand\u001b[0m \u001b[0;34m(\u001b[0m\u001b[0mdtype\u001b[0m \u001b[0;32mis\u001b[0m \u001b[0;32mNone\u001b[0m \u001b[0;32mor\u001b[0m \u001b[0mdtype\u001b[0m \u001b[0;34m==\u001b[0m \u001b[0ma\u001b[0m\u001b[0;34m.\u001b[0m\u001b[0mdtype\u001b[0m\u001b[0;34m)\u001b[0m\u001b[0;34m:\u001b[0m\u001b[0;34m\u001b[0m\u001b[0;34m\u001b[0m\u001b[0m\n\u001b[1;32m   8052\u001b[0m         \u001b[0;32mreturn\u001b[0m \u001b[0ma\u001b[0m\u001b[0;34m\u001b[0m\u001b[0;34m\u001b[0m\u001b[0m\n\u001b[0;32m-> 8053\u001b[0;31m     \u001b[0;32mreturn\u001b[0m \u001b[0mmasked_array\u001b[0m\u001b[0;34m(\u001b[0m\u001b[0ma\u001b[0m\u001b[0;34m,\u001b[0m \u001b[0mdtype\u001b[0m\u001b[0;34m=\u001b[0m\u001b[0mdtype\u001b[0m\u001b[0;34m,\u001b[0m \u001b[0mcopy\u001b[0m\u001b[0;34m=\u001b[0m\u001b[0;32mFalse\u001b[0m\u001b[0;34m,\u001b[0m \u001b[0mkeep_mask\u001b[0m\u001b[0;34m=\u001b[0m\u001b[0;32mTrue\u001b[0m\u001b[0;34m,\u001b[0m \u001b[0msubok\u001b[0m\u001b[0;34m=\u001b[0m\u001b[0;32mTrue\u001b[0m\u001b[0;34m)\u001b[0m\u001b[0;34m\u001b[0m\u001b[0;34m\u001b[0m\u001b[0m\n\u001b[0m\u001b[1;32m   8054\u001b[0m \u001b[0;34m\u001b[0m\u001b[0m\n\u001b[1;32m   8055\u001b[0m \u001b[0;34m\u001b[0m\u001b[0m\n",
            "\u001b[0;32m/usr/local/lib/python3.10/dist-packages/numpy/ma/core.py\u001b[0m in \u001b[0;36m__new__\u001b[0;34m(cls, data, mask, dtype, copy, subok, ndmin, fill_value, keep_mask, hard_mask, shrink, order)\u001b[0m\n\u001b[1;32m   2824\u001b[0m         \"\"\"\n\u001b[1;32m   2825\u001b[0m         \u001b[0;31m# Process data.\u001b[0m\u001b[0;34m\u001b[0m\u001b[0;34m\u001b[0m\u001b[0m\n\u001b[0;32m-> 2826\u001b[0;31m         _data = np.array(data, dtype=dtype, copy=copy,\n\u001b[0m\u001b[1;32m   2827\u001b[0m                          order=order, subok=True, ndmin=ndmin)\n\u001b[1;32m   2828\u001b[0m         \u001b[0m_baseclass\u001b[0m \u001b[0;34m=\u001b[0m \u001b[0mgetattr\u001b[0m\u001b[0;34m(\u001b[0m\u001b[0mdata\u001b[0m\u001b[0;34m,\u001b[0m \u001b[0;34m'_baseclass'\u001b[0m\u001b[0;34m,\u001b[0m \u001b[0mtype\u001b[0m\u001b[0;34m(\u001b[0m\u001b[0m_data\u001b[0m\u001b[0;34m)\u001b[0m\u001b[0;34m)\u001b[0m\u001b[0;34m\u001b[0m\u001b[0;34m\u001b[0m\u001b[0m\n",
            "\u001b[0;32m/usr/local/lib/python3.10/dist-packages/torch/_tensor.py\u001b[0m in \u001b[0;36m__array__\u001b[0;34m(self, dtype)\u001b[0m\n\u001b[1;32m   1028\u001b[0m             \u001b[0;32mreturn\u001b[0m \u001b[0mhandle_torch_function\u001b[0m\u001b[0;34m(\u001b[0m\u001b[0mTensor\u001b[0m\u001b[0;34m.\u001b[0m\u001b[0m__array__\u001b[0m\u001b[0;34m,\u001b[0m \u001b[0;34m(\u001b[0m\u001b[0mself\u001b[0m\u001b[0;34m,\u001b[0m\u001b[0;34m)\u001b[0m\u001b[0;34m,\u001b[0m \u001b[0mself\u001b[0m\u001b[0;34m,\u001b[0m \u001b[0mdtype\u001b[0m\u001b[0;34m=\u001b[0m\u001b[0mdtype\u001b[0m\u001b[0;34m)\u001b[0m\u001b[0;34m\u001b[0m\u001b[0;34m\u001b[0m\u001b[0m\n\u001b[1;32m   1029\u001b[0m         \u001b[0;32mif\u001b[0m \u001b[0mdtype\u001b[0m \u001b[0;32mis\u001b[0m \u001b[0;32mNone\u001b[0m\u001b[0;34m:\u001b[0m\u001b[0;34m\u001b[0m\u001b[0;34m\u001b[0m\u001b[0m\n\u001b[0;32m-> 1030\u001b[0;31m             \u001b[0;32mreturn\u001b[0m \u001b[0mself\u001b[0m\u001b[0;34m.\u001b[0m\u001b[0mnumpy\u001b[0m\u001b[0;34m(\u001b[0m\u001b[0;34m)\u001b[0m\u001b[0;34m\u001b[0m\u001b[0;34m\u001b[0m\u001b[0m\n\u001b[0m\u001b[1;32m   1031\u001b[0m         \u001b[0;32melse\u001b[0m\u001b[0;34m:\u001b[0m\u001b[0;34m\u001b[0m\u001b[0;34m\u001b[0m\u001b[0m\n\u001b[1;32m   1032\u001b[0m             \u001b[0;32mreturn\u001b[0m \u001b[0mself\u001b[0m\u001b[0;34m.\u001b[0m\u001b[0mnumpy\u001b[0m\u001b[0;34m(\u001b[0m\u001b[0;34m)\u001b[0m\u001b[0;34m.\u001b[0m\u001b[0mastype\u001b[0m\u001b[0;34m(\u001b[0m\u001b[0mdtype\u001b[0m\u001b[0;34m,\u001b[0m \u001b[0mcopy\u001b[0m\u001b[0;34m=\u001b[0m\u001b[0;32mFalse\u001b[0m\u001b[0;34m)\u001b[0m\u001b[0;34m\u001b[0m\u001b[0;34m\u001b[0m\u001b[0m\n",
            "\u001b[0;31mRuntimeError\u001b[0m: Can't call numpy() on Tensor that requires grad. Use tensor.detach().numpy() instead."
          ]
        },
        {
          "output_type": "display_data",
          "data": {
            "text/plain": [
              "<Figure size 1000x700 with 1 Axes>"
            ],
            "image/png": "[encoded data removed]"
          },
          "metadata": {}
        }
      ]
    },
    {
      "cell_type": "code",
      "source": [
        "plot_predictions(predictions=y_preds_new)"
      ],
      "metadata": {
        "colab": {
          "base_uri": "https://localhost:8080/",
          "height": 550
        },
        "id": "qp_Ek8hfgaGM",
        "outputId": "5a4f2669-d3a1-4e45-8b17-66e91ec42f22"
      },
      "execution_count": 29,
      "outputs": [
        {
          "output_type": "display_data",
          "data": {
            "text/plain": [
              "<Figure size 1000x700 with 1 Axes>"
            ],
            "image/png": "[encoded data removed]"
          },
          "metadata": {}
        }
      ]
    },
    {
      "cell_type": "markdown",
      "source": [
        "# saving a model in pytorch\n",
        "\n",
        "There are three main method you should about for saving and loading models in pytorch.\n",
        "\n",
        "1.  `torch.save()` - allows you save a pytorch object in python's pickle format\n",
        "2.  `torch.load()` - allow you load a saved PyTorch object\n",
        "3.  `torch.nn.Module.load_state_dict()`- this allows to load a model's saved state dictionary\n",
        "\n",
        "\n",
        "\n",
        "Pytorch save & load\n",
        " code tutorial and extra curriculum :\n",
        " https://pytorch.org/tutorials/\n",
        " beginner/saving_loading_models.html\n",
        "\n",
        "\n",
        "torch save : https://pytorch.org/docs/stable/generated/torch.save.html\n"
      ],
      "metadata": {
        "id": "uH71bgxngptM"
      }
    },
    {
      "cell_type": "code",
      "source": [
        "# saving our pytorch model\n",
        "from pathlib import Path\n",
        "\n",
        "# 1. Create models  directory\n",
        "MODEL_PATH = Path(\"models\")\n",
        "MODEL_PATH.mkdir(parents=True,exist_ok=True)\n",
        "\n",
        "# 2 . Create model save path\n",
        "MODEL_NAME=\"01_pytorch_workflow_model_0.pth\"\n",
        "MODEL_SAVE_PATH= MODEL_PATH/MODEL_NAME\n",
        "\n",
        "MODEL_SAVE_PATH\n",
        "\n",
        "# save the model state dict\n",
        "\n",
        "print(f\"saving model to: {MODEL_SAVE_PATH}\")\n",
        "\n",
        "# torch.save(obj, f, pickle_module=pickle, pickle_protocol=DEFAULT_PROTOCOL, _use_new_zipfile_serialization=True)\n",
        "torch.save(obj= model_0.state_dict(), f=MODEL_SAVE_PATH)"
      ],
      "metadata": {
        "colab": {
          "base_uri": "https://localhost:8080/"
        },
        "id": "25-P2ECjiZDP",
        "outputId": "d0459feb-d163-4c53-afd4-11a83df91497"
      },
      "execution_count": 35,
      "outputs": [
        {
          "output_type": "stream",
          "name": "stdout",
          "text": [
            "saving model to: models/01_pytorch_workflow_model_0.pth\n"
          ]
        }
      ]
    },
    {
      "cell_type": "code",
      "source": [
        "!ls -l models"
      ],
      "metadata": {
        "colab": {
          "base_uri": "https://localhost:8080/"
        },
        "id": "Pv7AF6JTklQz",
        "outputId": "9067f44d-5594-4d94-c98d-7f9458e9b6d4"
      },
      "execution_count": 36,
      "outputs": [
        {
          "output_type": "stream",
          "name": "stdout",
          "text": [
            "total 4\n",
            "-rw-r--r-- 1 root root 1680 Dec 25 15:42 01_pytorch_workflow_model_0.pth\n"
          ]
        }
      ]
    },
    {
      "cell_type": "code",
      "source": [],
      "metadata": {
        "id": "Ty-XjHWYualX"
      },
      "execution_count": null,
      "outputs": []
    }
  ]
}